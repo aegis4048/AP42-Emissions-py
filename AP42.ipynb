{
 "cells": [
  {
   "cell_type": "code",
   "execution_count": 1,
   "id": "16abdcab",
   "metadata": {},
   "outputs": [],
   "source": [
    "import numpy as np\n",
    "import pandas as pd"
   ]
  },
  {
   "cell_type": "markdown",
   "id": "e56e4673",
   "metadata": {},
   "source": [
    "# 0. Inputs"
   ]
  },
  {
   "cell_type": "code",
   "execution_count": 2,
   "id": "0c61b954",
   "metadata": {},
   "outputs": [
    {
     "name": "stdout",
     "output_type": "stream",
     "text": [
      "Object ` = 8  # hold ? ft of product` not found.\n"
     ]
    }
   ],
   "source": [
    "D = 6  # tank diameter (ft)\n",
    "H = 12  # tank height (ft)\n",
    "?? = 8  # hold ? ft of product\n",
    "paint_color = 'white'\n",
    "liq_level_high = 11.5\n",
    "liq_level_low = 4.5\n",
    "liq_flow = 8450  # (gal/yr)\n",
    "\n",
    "{\n",
    "    'Vertical Cylinder',\n",
    "    'Horizontal Cylinder',\n",
    "    'External Floating Roof Tank',\n",
    "    'Internal Floatign Roof Tank',\n",
    "    'Domed Floating Roof Tank',\n",
    "}"
   ]
  },
  {
   "cell_type": "code",
   "execution_count": 12,
   "id": "dc9700c0",
   "metadata": {},
   "outputs": [],
   "source": [
    "def calc_Vv(D, Hvo):\n",
    "    \"\"\"\n",
    "    Vv = Tank vapor space volume (ft^3, Eq 1-3)\n",
    "    D = Tank diameter (ft)\n",
    "    Hvo = vapor space outage (ft, Eq 1-16)\n",
    "    \"\"\"\n",
    "    return (np.pi / 4) * D ** 2 * Hvo"
   ]
  },
  {
   "cell_type": "code",
   "execution_count": null,
   "id": "2fe7444c",
   "metadata": {},
   "outputs": [],
   "source": [
    "def calc_Hvo(Hs, Hl, Hro):\n",
    "    \"\"\"\n",
    "    Hs = Tank shell height (ft, given)\n",
    "    Hl  = Tank liquid height (ft, given, assumed to be half-filled mostly)\n",
    "    Hro = roof outage (ft, Eq 1-17)\n",
    "    \"\"\"\n",
    "    return Hs - Hl + Hro"
   ]
  },
  {
   "cell_type": "code",
   "execution_count": null,
   "id": "ea6dcd73",
   "metadata": {},
   "outputs": [],
   "source": []
  },
  {
   "cell_type": "code",
   "execution_count": null,
   "id": "fc7d0171",
   "metadata": {},
   "outputs": [],
   "source": []
  },
  {
   "cell_type": "code",
   "execution_count": null,
   "id": "52aa41b4",
   "metadata": {},
   "outputs": [],
   "source": []
  },
  {
   "cell_type": "markdown",
   "id": "231eab29",
   "metadata": {},
   "source": [
    "# 1. Utilities"
   ]
  },
  {
   "cell_type": "code",
   "execution_count": 2,
   "id": "6a8a7b18",
   "metadata": {},
   "outputs": [],
   "source": [
    "def calc_F_to_R(F):\n",
    "    return F + 459.67\n",
    "\n",
    "def calc_R_to_F(R):\n",
    "    return R - 459.67\n",
    "\n",
    "def calc_gal_to_bbl(gal):\n",
    "    return gal / 42\n",
    "\n",
    "def calc_bbl_to_gal(bbl):\n",
    "    return bbl * 42"
   ]
  },
  {
   "cell_type": "markdown",
   "id": "17fdf9b8",
   "metadata": {},
   "source": [
    "# 2. Standing Loss"
   ]
  },
  {
   "cell_type": "code",
   "execution_count": null,
   "id": "b9ed37e1",
   "metadata": {},
   "outputs": [],
   "source": [
    "# Fix roof tank\n",
    "\n"
   ]
  },
  {
   "cell_type": "code",
   "execution_count": null,
   "id": "e86420c3",
   "metadata": {},
   "outputs": [],
   "source": []
  },
  {
   "cell_type": "code",
   "execution_count": 3,
   "id": "88083ebe",
   "metadata": {},
   "outputs": [],
   "source": [
    "\n",
    "def calc_T_LA(Hs, D, Ta, Tb, alpa_r, alpha_s, I):\n",
    "    _1st = (0.5 - 0.8 / (4.4 * Hs/D + 3.8)) * Ta\n",
    "    _2nd = (0.5 + 0.8 / (4.4 * Hs/D + 3.8)) * Tb\n",
    "    _3rd = (0.021 * alpha_r * I + 0.013 * Hs/D * alpha_s * I) / (4.4 * Hs/D + 3.8)\n",
    "    return _1st + _2nd + _3rd "
   ]
  },
  {
   "cell_type": "code",
   "execution_count": 4,
   "id": "7d44aec4",
   "metadata": {},
   "outputs": [],
   "source": [
    "# December\n",
    "Hs = 30\n",
    "D = 15\n",
    "Ta = calc_F_to_R(95)  # max, Cedar City, Utah\n",
    "Tb = calc_F_to_R(110)   # liquid bulk\n",
    "alpha_r = 0.49          # tan\n",
    "alpha_s = 0.49          # tan\n",
    "I = 741"
   ]
  },
  {
   "cell_type": "code",
   "execution_count": 5,
   "id": "dacb29c7",
   "metadata": {},
   "outputs": [
    {
     "data": {
      "text/plain": [
       "564.4767642857144"
      ]
     },
     "execution_count": 5,
     "metadata": {},
     "output_type": "execute_result"
    }
   ],
   "source": [
    "calc_T_LA(Hs, D, Ta, Tb, alpha_r, alpha_s, I)"
   ]
  },
  {
   "cell_type": "code",
   "execution_count": null,
   "id": "7b1c69e5",
   "metadata": {},
   "outputs": [],
   "source": []
  },
  {
   "cell_type": "code",
   "execution_count": null,
   "id": "fd657cb6",
   "metadata": {},
   "outputs": [],
   "source": []
  },
  {
   "cell_type": "markdown",
   "id": "8971ea5f",
   "metadata": {},
   "source": [
    "## Geological data retrieval"
   ]
  },
  {
   "cell_type": "code",
   "execution_count": 4,
   "id": "75a3ff84",
   "metadata": {},
   "outputs": [
    {
     "name": "stderr",
     "output_type": "stream",
     "text": [
      "C:\\Users\\EricKim\\AppData\\Roaming\\Python\\Python39\\site-packages\\fuzzywuzzy\\fuzz.py:11: UserWarning: Using slow pure-python SequenceMatcher. Install python-Levenshtein to remove this warning\n",
      "  warnings.warn('Using slow pure-python SequenceMatcher. Install python-Levenshtein to remove this warning')\n"
     ]
    }
   ],
   "source": [
    "import pandas as pd\n",
    "from fuzzywuzzy import process"
   ]
  },
  {
   "cell_type": "code",
   "execution_count": 9,
   "id": "d652421b",
   "metadata": {},
   "outputs": [
    {
     "ename": "TypeError",
     "evalue": "Invalid location parameter: \"Cedar\". Did you mean \"Cedar City, UT\"?",
     "output_type": "error",
     "traceback": [
      "\u001b[1;31m---------------------------------------------------------------------------\u001b[0m",
      "\u001b[1;31mTypeError\u001b[0m                                 Traceback (most recent call last)",
      "\u001b[1;32m~\\AppData\\Local\\Temp\\ipykernel_11576\\228991207.py\u001b[0m in \u001b[0;36m<module>\u001b[1;34m\u001b[0m\n\u001b[0;32m     11\u001b[0m \u001b[1;32mif\u001b[0m \u001b[0minput_location\u001b[0m \u001b[1;32mnot\u001b[0m \u001b[1;32min\u001b[0m \u001b[0mlocations\u001b[0m\u001b[1;33m:\u001b[0m\u001b[1;33m\u001b[0m\u001b[1;33m\u001b[0m\u001b[0m\n\u001b[0;32m     12\u001b[0m     \u001b[0mclosest_match\u001b[0m\u001b[1;33m,\u001b[0m \u001b[0mscore\u001b[0m \u001b[1;33m=\u001b[0m \u001b[0mprocess\u001b[0m\u001b[1;33m.\u001b[0m\u001b[0mextractOne\u001b[0m\u001b[1;33m(\u001b[0m\u001b[0minput_location\u001b[0m\u001b[1;33m,\u001b[0m \u001b[0mlocations\u001b[0m\u001b[1;33m)\u001b[0m\u001b[1;33m\u001b[0m\u001b[1;33m\u001b[0m\u001b[0m\n\u001b[1;32m---> 13\u001b[1;33m     \u001b[1;32mraise\u001b[0m \u001b[0mTypeError\u001b[0m\u001b[1;33m(\u001b[0m\u001b[1;34m'Invalid location parameter: \"%s\". Did you mean \"%s\"?'\u001b[0m \u001b[1;33m%\u001b[0m \u001b[1;33m(\u001b[0m\u001b[0minput_location\u001b[0m\u001b[1;33m,\u001b[0m \u001b[0mclosest_match\u001b[0m\u001b[1;33m)\u001b[0m\u001b[1;33m)\u001b[0m\u001b[1;33m\u001b[0m\u001b[1;33m\u001b[0m\u001b[0m\n\u001b[0m\u001b[0;32m     14\u001b[0m \u001b[1;33m\u001b[0m\u001b[0m\n\u001b[0;32m     15\u001b[0m \u001b[1;31m# \"Location == 'Cedar City, UT' and Symbol == 'TAN' and Units == 'mi/hr'\"\u001b[0m\u001b[1;33m\u001b[0m\u001b[1;33m\u001b[0m\u001b[0m\n",
      "\u001b[1;31mTypeError\u001b[0m: Invalid location parameter: \"Cedar\". Did you mean \"Cedar City, UT\"?"
     ]
    }
   ],
   "source": [
    "file = 'Table 7-1-7 Meteorological data for selected US locations.xlsx'\n",
    "df = pd.read_excel(file, sheet_name='Data')\n",
    "\n",
    "# Average daily ambient temperature (Eq. 1-30)\n",
    "df_tav = df[df['Symbol'].isin(['TAN', 'TAX'])].groupby(['Location', 'City', 'State', 'Units']).mean().reset_index()\n",
    "df_tav['Symbol'] = 'TAA'\n",
    "df = pd.concat([df, df_tav], ignore_index=True)\n",
    "\n",
    "input_location = 'Cedar'\n",
    "locations = set(df['Location'])\n",
    "if input_location not in locations:\n",
    "    closest_match, score = process.extractOne(input_location, locations)\n",
    "    raise TypeError('Invalid location parameter: \"%s\". Did you mean \"%s\"?' % (input_location, closest_match))\n",
    "\n",
    "# \"Location == 'Cedar City, UT' and Symbol == 'TAN' and Units == 'mi/hr'\"\n",
    "location_data = df[(df['Location'] == input_location)]\n",
    "\n",
    "T_max = location_data[location_data['Symbol'] == 'TAX']\n",
    "T_min = location_data[location_data['Symbol'] == 'TAN']\n",
    "T_avg = location_data[location_data['Symbol'] == 'TAA']\n",
    "V = location_data[location_data['Symbol'] == 'V']\n",
    "I = location_data[location_data['Symbol'] == 'I']\n",
    "PA = location_data[location_data['Symbol'] == 'PA']"
   ]
  },
  {
   "cell_type": "code",
   "execution_count": 10,
   "id": "b362b8ef",
   "metadata": {},
   "outputs": [
    {
     "data": {
      "text/html": [
       "<div>\n",
       "<style scoped>\n",
       "    .dataframe tbody tr th:only-of-type {\n",
       "        vertical-align: middle;\n",
       "    }\n",
       "\n",
       "    .dataframe tbody tr th {\n",
       "        vertical-align: top;\n",
       "    }\n",
       "\n",
       "    .dataframe thead th {\n",
       "        text-align: right;\n",
       "    }\n",
       "</style>\n",
       "<table border=\"1\" class=\"dataframe\">\n",
       "  <thead>\n",
       "    <tr style=\"text-align: right;\">\n",
       "      <th></th>\n",
       "      <th>Location</th>\n",
       "      <th>City</th>\n",
       "      <th>State</th>\n",
       "      <th>Symbol</th>\n",
       "      <th>Units</th>\n",
       "      <th>Jan</th>\n",
       "      <th>Feb</th>\n",
       "      <th>Mar</th>\n",
       "      <th>Apr</th>\n",
       "      <th>May</th>\n",
       "      <th>Jun</th>\n",
       "      <th>Jul</th>\n",
       "      <th>Aug</th>\n",
       "      <th>Sep</th>\n",
       "      <th>Oct</th>\n",
       "      <th>Nov</th>\n",
       "      <th>Dec</th>\n",
       "      <th>Annual</th>\n",
       "    </tr>\n",
       "  </thead>\n",
       "  <tbody>\n",
       "    <tr>\n",
       "      <th>1065</th>\n",
       "      <td>Cedar City, UT</td>\n",
       "      <td>Cedar City</td>\n",
       "      <td>UT</td>\n",
       "      <td>TAN</td>\n",
       "      <td>°F</td>\n",
       "      <td>19.20</td>\n",
       "      <td>23.30</td>\n",
       "      <td>28.30</td>\n",
       "      <td>33.5</td>\n",
       "      <td>42.20</td>\n",
       "      <td>50.9</td>\n",
       "      <td>59.00</td>\n",
       "      <td>57.70</td>\n",
       "      <td>47.7</td>\n",
       "      <td>36.00</td>\n",
       "      <td>25.00</td>\n",
       "      <td>18.7</td>\n",
       "      <td>36.80</td>\n",
       "    </tr>\n",
       "    <tr>\n",
       "      <th>1066</th>\n",
       "      <td>Cedar City, UT</td>\n",
       "      <td>Cedar City</td>\n",
       "      <td>UT</td>\n",
       "      <td>TAX</td>\n",
       "      <td>°F</td>\n",
       "      <td>41.90</td>\n",
       "      <td>46.00</td>\n",
       "      <td>54.60</td>\n",
       "      <td>61.1</td>\n",
       "      <td>72.30</td>\n",
       "      <td>82.5</td>\n",
       "      <td>89.50</td>\n",
       "      <td>87.20</td>\n",
       "      <td>79.3</td>\n",
       "      <td>65.70</td>\n",
       "      <td>51.70</td>\n",
       "      <td>41.5</td>\n",
       "      <td>64.40</td>\n",
       "    </tr>\n",
       "    <tr>\n",
       "      <th>1067</th>\n",
       "      <td>Cedar City, UT</td>\n",
       "      <td>Cedar City</td>\n",
       "      <td>UT</td>\n",
       "      <td>V</td>\n",
       "      <td>mi/hr</td>\n",
       "      <td>6.30</td>\n",
       "      <td>6.70</td>\n",
       "      <td>8.10</td>\n",
       "      <td>8.9</td>\n",
       "      <td>8.70</td>\n",
       "      <td>8.7</td>\n",
       "      <td>7.60</td>\n",
       "      <td>7.60</td>\n",
       "      <td>7.2</td>\n",
       "      <td>6.70</td>\n",
       "      <td>6.30</td>\n",
       "      <td>6.3</td>\n",
       "      <td>7.40</td>\n",
       "    </tr>\n",
       "    <tr>\n",
       "      <th>1068</th>\n",
       "      <td>Cedar City, UT</td>\n",
       "      <td>Cedar City</td>\n",
       "      <td>UT</td>\n",
       "      <td>I</td>\n",
       "      <td>Btu/ft2/day</td>\n",
       "      <td>818.00</td>\n",
       "      <td>1072.00</td>\n",
       "      <td>1548.00</td>\n",
       "      <td>1969.0</td>\n",
       "      <td>2299.00</td>\n",
       "      <td>2534.0</td>\n",
       "      <td>2285.00</td>\n",
       "      <td>2082.00</td>\n",
       "      <td>1827.0</td>\n",
       "      <td>1355.00</td>\n",
       "      <td>944.00</td>\n",
       "      <td>741.0</td>\n",
       "      <td>1623.00</td>\n",
       "    </tr>\n",
       "    <tr>\n",
       "      <th>1069</th>\n",
       "      <td>Cedar City, UT</td>\n",
       "      <td>Cedar City</td>\n",
       "      <td>UT</td>\n",
       "      <td>PA</td>\n",
       "      <td>lb/in2</td>\n",
       "      <td>NaN</td>\n",
       "      <td>NaN</td>\n",
       "      <td>NaN</td>\n",
       "      <td>NaN</td>\n",
       "      <td>NaN</td>\n",
       "      <td>NaN</td>\n",
       "      <td>NaN</td>\n",
       "      <td>NaN</td>\n",
       "      <td>NaN</td>\n",
       "      <td>NaN</td>\n",
       "      <td>NaN</td>\n",
       "      <td>NaN</td>\n",
       "      <td>12.01</td>\n",
       "    </tr>\n",
       "    <tr>\n",
       "      <th>1248</th>\n",
       "      <td>Cedar City, UT</td>\n",
       "      <td>Cedar City</td>\n",
       "      <td>UT</td>\n",
       "      <td>TAA</td>\n",
       "      <td>°F</td>\n",
       "      <td>30.55</td>\n",
       "      <td>34.65</td>\n",
       "      <td>41.45</td>\n",
       "      <td>47.3</td>\n",
       "      <td>57.25</td>\n",
       "      <td>66.7</td>\n",
       "      <td>74.25</td>\n",
       "      <td>72.45</td>\n",
       "      <td>63.5</td>\n",
       "      <td>50.85</td>\n",
       "      <td>38.35</td>\n",
       "      <td>30.1</td>\n",
       "      <td>50.60</td>\n",
       "    </tr>\n",
       "  </tbody>\n",
       "</table>\n",
       "</div>"
      ],
      "text/plain": [
       "            Location        City State Symbol        Units     Jan      Feb  \\\n",
       "1065  Cedar City, UT  Cedar City    UT    TAN           °F   19.20    23.30   \n",
       "1066  Cedar City, UT  Cedar City    UT    TAX           °F   41.90    46.00   \n",
       "1067  Cedar City, UT  Cedar City    UT      V        mi/hr    6.30     6.70   \n",
       "1068  Cedar City, UT  Cedar City    UT      I  Btu/ft2/day  818.00  1072.00   \n",
       "1069  Cedar City, UT  Cedar City    UT     PA       lb/in2     NaN      NaN   \n",
       "1248  Cedar City, UT  Cedar City    UT    TAA           °F   30.55    34.65   \n",
       "\n",
       "          Mar     Apr      May     Jun      Jul      Aug     Sep      Oct  \\\n",
       "1065    28.30    33.5    42.20    50.9    59.00    57.70    47.7    36.00   \n",
       "1066    54.60    61.1    72.30    82.5    89.50    87.20    79.3    65.70   \n",
       "1067     8.10     8.9     8.70     8.7     7.60     7.60     7.2     6.70   \n",
       "1068  1548.00  1969.0  2299.00  2534.0  2285.00  2082.00  1827.0  1355.00   \n",
       "1069      NaN     NaN      NaN     NaN      NaN      NaN     NaN      NaN   \n",
       "1248    41.45    47.3    57.25    66.7    74.25    72.45    63.5    50.85   \n",
       "\n",
       "         Nov    Dec   Annual  \n",
       "1065   25.00   18.7    36.80  \n",
       "1066   51.70   41.5    64.40  \n",
       "1067    6.30    6.3     7.40  \n",
       "1068  944.00  741.0  1623.00  \n",
       "1069     NaN    NaN    12.01  \n",
       "1248   38.35   30.1    50.60  "
      ]
     },
     "execution_count": 10,
     "metadata": {},
     "output_type": "execute_result"
    }
   ],
   "source": [
    "location_data"
   ]
  },
  {
   "cell_type": "code",
   "execution_count": null,
   "id": "fc760b53",
   "metadata": {},
   "outputs": [],
   "source": []
  }
 ],
 "metadata": {
  "kernelspec": {
   "display_name": "Python 3 (ipykernel)",
   "language": "python",
   "name": "python3"
  },
  "language_info": {
   "codemirror_mode": {
    "name": "ipython",
    "version": 3
   },
   "file_extension": ".py",
   "mimetype": "text/x-python",
   "name": "python",
   "nbconvert_exporter": "python",
   "pygments_lexer": "ipython3",
   "version": "3.9.13"
  }
 },
 "nbformat": 4,
 "nbformat_minor": 5
}
