{
 "cells": [
  {
   "cell_type": "code",
   "execution_count": 246,
   "id": "d2b1fe7e",
   "metadata": {},
   "outputs": [],
   "source": [
    "import numpy as np\n",
    "import pandas as pd\n",
    "import thermo\n",
    "import chemicals\n",
    "from thermo import ChemicalConstantsPackage, PRMIX, CEOSLiquid, CEOSGas, FlashPureVLS, VaporPressure, PropertyCorrelationsPackage\n",
    "from thermo import FlashVLN, ViscosityLiquidMixture, ViscosityGasMixture, SurfaceTensionMixture, FlashVL, Mixture\n",
    "import matplotlib.pyplot as plt\n",
    "from thermo.interaction_parameters import IPDB\n",
    "import pint\n",
    "from thermo import PR\n",
    "\n",
    "ureg = pint.UnitRegistry()"
   ]
  },
  {
   "cell_type": "markdown",
   "id": "d3ddd87d",
   "metadata": {},
   "source": [
    "https://www.youtube.com/watch?v=pQFBmqbsh9Y&ab_channel=AliAl-Matar\n",
    "\n",
    "https://www.researchgate.net/figure/Phase-envelopes-for-propane-methane-mixtures_fig12_241789652\n",
    "\n",
    "https://www.chem.mtu.edu/chem_eng/faculty/memullins/course/BubblePoint/Bubble%20Point.htm\n",
    "\n",
    "https://thermo.readthedocs.io/activity_coefficients.html\n",
    "\n",
    "https://thermo.readthedocs.io/property_objects.html"
   ]
  },
  {
   "cell_type": "markdown",
   "id": "e454c5cc",
   "metadata": {},
   "source": [
    "## I got vapor P calculation for pure component, Figure out for mixture using Van Laar activity coefficients"
   ]
  },
  {
   "cell_type": "code",
   "execution_count": 96,
   "id": "1ffb42c3",
   "metadata": {},
   "outputs": [],
   "source": [
    "def cas_to_name(cas):\n",
    "    if not isinstance(cas, str):\n",
    "        raise ValueError(\"Input must be a string\")    \n",
    "    return ChemicalConstantsPackage.constants_from_IDs([cas]).names[0]\n",
    "\n",
    "def name_to_cas(name):\n",
    "    if not isinstance(name, str):\n",
    "        raise ValueError(\"Input must be a string\")    \n",
    "    return ChemicalConstantsPackage.constants_from_IDs([name]).CASs[0]\n",
    "\n",
    "def F_to_R(F):\n",
    "    return F + 459.67\n",
    "\n",
    "def R_to_F(R):\n",
    "    return R - 459.67\n",
    "\n",
    "def C_to_K(C):\n",
    "    return C + 273.15\n",
    "\n",
    "def F_to_C(F):\n",
    "    return (F - 32) * 5 / 9\n",
    "\n",
    "def K_to_C(K):\n",
    "    return K - 273.15\n",
    "\n",
    "def gal_to_bbl(gal):\n",
    "    return gal / 42\n",
    "\n",
    "def bbl_to_gal(bbl):\n",
    "    return bbl * 42\n",
    "\n",
    "def psi_to_Pa(psi):\n",
    "    return psi * 6894.745\n",
    "\n",
    "def Pa_to_bar(Pa):\n",
    "    return Pa / 100000\n",
    "\n",
    "def Pa_to_psi(pa):\n",
    "    return pa / 6894.745\n",
    "\n",
    "def Pa_to_mmHg(Pa):\n",
    "    return Pa / 133.322\n",
    "\n",
    "def mmHg_to_Pa(mmHg):\n",
    "    return mmHg / 0.0075\n",
    "\n",
    "def F_to_K(F):\n",
    "    return (F - 32) * 5/9 + 273.15\n",
    "\n",
    "def K_to_F(K):\n",
    "    return (K - 273.15) * 1.8 + 32"
   ]
  },
  {
   "cell_type": "code",
   "execution_count": 3,
   "id": "c03d50f1",
   "metadata": {},
   "outputs": [],
   "source": [
    "from thermo import ChemicalConstantsPackage, PRMIX, CEOSLiquid, CEOSGas, PropertyCorrelationsPackage\n",
    "from thermo import FlashVLN\n",
    "import matplotlib.pyplot as plt\n",
    "from thermo.interaction_parameters import IPDB"
   ]
  },
  {
   "cell_type": "code",
   "execution_count": 131,
   "id": "4c44fbb1",
   "metadata": {},
   "outputs": [],
   "source": [
    "def psi_to_Pa(psi):\n",
    "    return psi * 6894.745\n",
    "\n",
    "def F_to_K(F):\n",
    "    return (F - 32) * 5/9 + 273.15\n",
    "\n",
    "def Pa_to_psi(pa):\n",
    "    return pa / 6894.745\n",
    "\n",
    "def K_to_F(K):\n",
    "    return (K - 273.15) * 1.8 + 32\n",
    "\n",
    "comp = dict([\n",
    "    ('oxygen', 0.21),\n",
    "    ('nitrogen', 0.78),\n",
    "    ('argon', 0.01),\n",
    "])\n",
    "comp = dict([\n",
    "    ('methane', 0.2), \n",
    "    ('propane', 0.2),\n",
    "    ('hexane', .6),\n",
    "    ('water', 0.),\n",
    "])\n",
    "\n",
    "total_comp = sum(comp.values())\n",
    "if total_comp > 1:\n",
    "    comp = {k: v / total_comp for k, v in comp.items()}\n",
    "    \n",
    "constants, properties = ChemicalConstantsPackage.from_IDs(comp.keys())\n",
    "kijs = IPDB.get_ip_asymmetric_matrix('ChemSep PR', constants.CASs, 'kij')\n",
    "\n",
    "eos_kwargs = dict(Tcs=constants.Tcs, Pcs=constants.Pcs, omegas=constants.omegas, kijs=kijs)\n",
    "#eos_kwargs = dict(Tcs=constants.Tcs, Pcs=constants.Pcs, omegas=constants.omegas)\n",
    "gas = CEOSGas(PRMIX, eos_kwargs, HeatCapacityGases=properties.HeatCapacityGases)\n",
    "liq = CEOSLiquid(PRMIX, eos_kwargs, HeatCapacityGases=properties.HeatCapacityGases)\n",
    "flashN = FlashVLN(constants, properties, liquids=[liq, liq], gas=gas) # if dealing with water, fill [liq, liq] twice.\n",
    "flashN = FlashVL(constants, properties, liquid=liq, gas=gas) # if dealing with water, fill [liq, liq] twice.\n",
    "\n",
    "P = psi_to_Pa(100)\n",
    "T = F_to_K(100)\n",
    "\n",
    "res = flashN.flash(T=T, P=P, zs=list(comp.values()))\n",
    "zs = list(comp.values())"
   ]
  },
  {
   "cell_type": "code",
   "execution_count": 133,
   "id": "2a356aac",
   "metadata": {},
   "outputs": [
    {
     "data": {
      "text/plain": [
       "{'Tcs': [190.564, 369.89, 507.82, 647.096],\n",
       " 'Pcs': [4599200.0, 4251200.0, 3044100.0, 22064000.0],\n",
       " 'omegas': [0.01142, 0.1521, 0.3, 0.3443],\n",
       " 'kijs': [[0.0, 0.0119, 0.04, 0],\n",
       "  [0.0119, 0.0, 0.0007, 0],\n",
       "  [0.04, 0.0007, 0.0, 0],\n",
       "  [0, 0, 0, 0.0]]}"
      ]
     },
     "execution_count": 133,
     "metadata": {},
     "output_type": "execute_result"
    }
   ],
   "source": [
    "eos_kwargs"
   ]
  },
  {
   "cell_type": "code",
   "execution_count": 23,
   "id": "dcf45784",
   "metadata": {},
   "outputs": [
    {
     "data": {
      "text/plain": [
       "0.011814742682792362"
      ]
     },
     "execution_count": 23,
     "metadata": {},
     "output_type": "execute_result"
    }
   ],
   "source": [
    "comp = dict([\n",
    "    ('m-xylene', 1.),\n",
    "    ('methane', 0.0), \n",
    "    ('propane', 0.0),\n",
    "    ('water', 0.),\n",
    "])\n",
    "\n",
    "total_comp = sum(comp.values())\n",
    "if total_comp > 1:\n",
    "    comp = {k: v / total_comp for k, v in comp.items()}\n",
    "zs = list(comp.values())\n",
    "    \n",
    "constants, properties = ChemicalConstantsPackage.from_IDs(comp.keys())\n",
    "kijs = IPDB.get_ip_asymmetric_matrix('ChemSep PR', constants.CASs, 'kij')\n",
    "\n",
    "m = Mixture(comp.keys(), zs=zs)\n",
    "\n",
    "P = 100000\n",
    "\n",
    "Tbs = m.Tbs\n",
    "Tcs = m.Tcs\n",
    "Pcs = m.Pcs\n",
    "omegas = m.omegas\n",
    "\n",
    "T = 300\n",
    "\n",
    "eos_kwargs = dict(Tcs=constants.Tcs, Pcs=constants.Pcs, omegas=constants.omegas, kijs=kijs, zs=zs)\n",
    "PR_obj = PRMIX(**eos_kwargs, P=P, T=T)\n",
    "\n",
    "Pa_to_bar(VaporPressure(Tb=Tbs[0], Tc=Tcs[0], Pc=Pcs[0], omega=omegas[0], eos=PR_obj).calculate(T, 'SANJARI'))"
   ]
  },
  {
   "cell_type": "code",
   "execution_count": 24,
   "id": "6d98ce0d",
   "metadata": {},
   "outputs": [
    {
     "data": {
      "text/plain": [
       "0.011814742682792362"
      ]
     },
     "execution_count": 24,
     "metadata": {},
     "output_type": "execute_result"
    }
   ],
   "source": [
    "Pa_to_bar(VaporPressure(Tb=Tbs[0], Tc=Tcs[0], Pc=Pcs[0], omega=omegas[0]).calculate(T, 'SANJARI'))"
   ]
  },
  {
   "cell_type": "code",
   "execution_count": null,
   "id": "0424d1f1",
   "metadata": {},
   "outputs": [],
   "source": []
  },
  {
   "cell_type": "code",
   "execution_count": 105,
   "id": "1f4829bb",
   "metadata": {
    "scrolled": true
   },
   "outputs": [
    {
     "data": {
      "text/plain": [
       "VaporPressure(CASRN=\"64-17-5\", extrapolation=\"AntoineAB|DIPPR101_ABC\", method=None)"
      ]
     },
     "execution_count": 105,
     "metadata": {},
     "output_type": "execute_result"
    }
   ],
   "source": [
    "VaporPressure(CASRN='64-17-5', load_data=False)"
   ]
  },
  {
   "cell_type": "markdown",
   "id": "c962e4fb",
   "metadata": {},
   "source": [
    "# Vapor Pressure Tutorial - start"
   ]
  },
  {
   "cell_type": "code",
   "execution_count": 253,
   "id": "7e6e4c26",
   "metadata": {},
   "outputs": [
    {
     "name": "stdout",
     "output_type": "stream",
     "text": [
      "CASRN: 64-17-5, Tb: None, Tc: None, Pc: None, omega: None, eos: None, local_methods: {}, extrapolation_coeffs: {}, tabular_data: {'VDI_TABULAR': ([300.0, 320.0, 340.0, 351.39, 375.0, 400.0, 425.0, 450.0, 475.0, 513.9], [8840.0, 25460.0, 63540.0, 101330.0, 239880.0, 524460.0, 1029280.0, 1850550.0, 3096320.0, 6148000.0])}, tabular_data_interpolators: {}, T_limits: {'ANTOINE_WEBBOOK': (364.8, 513.91), 'WAGNER_MCGARRY': (293.0, 513.92), 'WAGNER_POLING': (159.05, 513.92), 'ANTOINE_POLING': (276.5, 369.54), 'DIPPR_PERRY_8E': (159.05, 514.0), 'COOLPROP': (159.10000000000002, 514.71), 'VDI_TABULAR': (300.0, 513.9), 'VDI_PPDS': (159.05, 513.9), 'LANDOLT': (341.0, 514.0), 'HEOS_FIT': (159.0, 514.71)}, all_methods: {'ANTOINE_WEBBOOK', 'DIPPR_PERRY_8E', 'HEOS_FIT', 'ANTOINE_POLING', 'VDI_PPDS', 'WAGNER_MCGARRY', 'VDI_TABULAR', 'LANDOLT', 'WAGNER_POLING', 'COOLPROP'}, ANTOINE_WEBBOOK_coefs: [22.853871, 3298.513, -61.819], WAGNER_MCGARRY_Pc: 6130870.0, WAGNER_MCGARRY_Tc: 513.92, WAGNER_MCGARRY_Tmin: 293.0, WAGNER_MCGARRY_coefs: [-8.51838, 0.341626, -5.73683, 8.32581], WAGNER_POLING_Tc: 513.92, WAGNER_POLING_Pc: 6132000.0, WAGNER_POLING_Tmax: 513.92, WAGNER_POLING_Tmin: 159.05, WAGNER_POLING_coefs: [-8.68587, 1.17831, -4.8762, 1.588], ANTOINE_POLING_Tmin: 276.5, ANTOINE_POLING_Tmax: 369.54, ANTOINE_POLING_coefs: [10.33675, 1648.22, -42.232], Perrys2_8_Tmin: 159.05, Perrys2_8_Tmax: 514.0, Perrys2_8_coeffs: [73.304, -7122.3, -7.1424, 2.8853e-06, 2.0], CP_f: <thermo.coolprop.CP_fluid object at 0x0000021304FAB430>, T_cached: None, VDI_PPDS_coeffs: [-8.33803, 0.0872, -3.30575, -0.26001], VDI_PPDS_Tc: 513.9, VDI_PPDS_Tm: 159.05, VDI_PPDS_Pc: 6148000.0, LANDOLT_coefs: [22.850048558090364, 3247.704170264382, -64.636], _extrapolation: AntoineAB|DIPPR101_ABC, extrapolation_split: True, _extrapolation_low: AntoineAB, _extrapolation_high: DIPPR101_ABC, extrapolations: ['AntoineAB', 'DIPPR101_ABC'], _extrapolation_min: None, _extrapolation_max: None, correlations: {'HEOS_FIT': (None, {'coeffs': [-822.9341193657842, 571.6381693479093, 4607.000791784697, -3057.94076843616, -11238.680971891083, 7085.139067877264, 15682.623334266082, -9318.267594263612, -13814.744067006564, 7660.125452644682, 7998.81211217496, -4085.187192982729, -3073.406472727817, 1420.3170622400146, 772.8469632742931, -315.14050799381124, -122.48055369729362, 42.711215817560195, 10.956077658599536, -2.4632368643540357, -1.9644358712342558, 2.7658574756373753, -4.741750641532183, 7.750747992494682, 10.915772244309474]}, 'exp_stable_polynomial', {'offset': -1.8939866745382472, 'scale': 0.005622557701498411})}, exp_stable_polynomial_parameters: {'HEOS_FIT': {'coeffs': [-822.9341193657842, 571.6381693479093, 4607.000791784697, -3057.94076843616, -11238.680971891083, 7085.139067877264, 15682.623334266082, -9318.267594263612, -13814.744067006564, 7660.125452644682, 7998.81211217496, -4085.187192982729, -3073.406472727817, 1420.3170622400146, 772.8469632742931, -315.14050799381124, -122.48055369729362, 42.711215817560195, 10.956077658599536, -2.4632368643540357, -1.9644358712342558, 2.7658574756373753, -4.741750641532183, 7.750747992494682, 10.915772244309474], 'Tmax': 514.71, 'Tmin': 159.0}}, _method: HEOS_FIT\n"
     ]
    }
   ],
   "source": [
    "cas = name_to_cas('ethanol')\n",
    "\n",
    "a = VaporPressure(CASRN=cas, load_data=True)\n",
    "T = 331\n",
    "attrs = vars(a)\n",
    "print(', '.join(\"%s: %s\" % item for item in attrs.items()))"
   ]
  },
  {
   "cell_type": "code",
   "execution_count": 254,
   "id": "d09696f3",
   "metadata": {},
   "outputs": [
    {
     "data": {
      "text/plain": [
       "{'ANTOINE_WEBBOOK': (364.8, 513.91),\n",
       " 'WAGNER_MCGARRY': (293.0, 513.92),\n",
       " 'WAGNER_POLING': (159.05, 513.92),\n",
       " 'ANTOINE_POLING': (276.5, 369.54),\n",
       " 'DIPPR_PERRY_8E': (159.05, 514.0),\n",
       " 'COOLPROP': (159.10000000000002, 514.71),\n",
       " 'VDI_TABULAR': (300.0, 513.9),\n",
       " 'VDI_PPDS': (159.05, 513.9),\n",
       " 'LANDOLT': (341.0, 514.0),\n",
       " 'HEOS_FIT': (159.0, 514.71)}"
      ]
     },
     "execution_count": 254,
     "metadata": {},
     "output_type": "execute_result"
    }
   ],
   "source": [
    "a.T_limits "
   ]
  },
  {
   "cell_type": "code",
   "execution_count": 255,
   "id": "e058b462",
   "metadata": {},
   "outputs": [
    {
     "data": {
      "text/plain": [
       "318.1777286027808"
      ]
     },
     "execution_count": 255,
     "metadata": {},
     "output_type": "execute_result"
    }
   ],
   "source": [
    "Pa_to_mmHg(a.calculate(T=T, method='HEOS_FIT'))"
   ]
  },
  {
   "cell_type": "code",
   "execution_count": 256,
   "id": "fb2400fb",
   "metadata": {},
   "outputs": [
    {
     "data": {
      "text/plain": [
       "319.4358438471452"
      ]
     },
     "execution_count": 256,
     "metadata": {},
     "output_type": "execute_result"
    }
   ],
   "source": [
    "Pa_to_mmHg(a.calculate(T=T, method='WAGNER_POLING'))"
   ]
  },
  {
   "cell_type": "code",
   "execution_count": 257,
   "id": "9e2894ed",
   "metadata": {},
   "outputs": [
    {
     "data": {
      "text/plain": [
       "319.21306632378105"
      ]
     },
     "execution_count": 257,
     "metadata": {},
     "output_type": "execute_result"
    }
   ],
   "source": [
    "Pa_to_mmHg(a.calculate(T=T, method='WAGNER_MCGARRY'))"
   ]
  },
  {
   "cell_type": "code",
   "execution_count": 258,
   "id": "4f840cd1",
   "metadata": {},
   "outputs": [],
   "source": [
    "Ts = np.arange(160, 569, 10)\n",
    "vps = [Pa_to_bar(a.calculate(T=T, method='HEOS_FIT')) for T in Ts]"
   ]
  },
  {
   "cell_type": "code",
   "execution_count": 262,
   "id": "bd54427a",
   "metadata": {},
   "outputs": [
    {
     "data": {
      "text/plain": [
       "241.56000000000006"
      ]
     },
     "execution_count": 262,
     "metadata": {},
     "output_type": "execute_result"
    }
   ],
   "source": [
    "K_to_C(chemicals.Tc(CASRN=cas))"
   ]
  },
  {
   "cell_type": "code",
   "execution_count": 264,
   "id": "82f95395",
   "metadata": {},
   "outputs": [
    {
     "data": {
      "text/plain": [
       "62.68"
      ]
     },
     "execution_count": 264,
     "metadata": {},
     "output_type": "execute_result"
    }
   ],
   "source": [
    "Pa_to_bar(chemicals.Pc(CASRN=cas))"
   ]
  },
  {
   "cell_type": "code",
   "execution_count": null,
   "id": "61dfbc75",
   "metadata": {},
   "outputs": [],
   "source": []
  },
  {
   "cell_type": "code",
   "execution_count": 271,
   "id": "54057e7c",
   "metadata": {},
   "outputs": [
    {
     "name": "stdout",
     "output_type": "stream",
     "text": [
      "Tc = 241.6C, Pc = 62.7bar\n",
      "Compare: https://www.engineeringtoolbox.com/ethanol-ethyl-alcohol-properties-C2H6O-d_2027.html\n"
     ]
    },
    {
     "data": {
      "image/png": "[encoded data removed]",
      "text/plain": [
       "<Figure size 700x400 with 1 Axes>"
      ]
     },
     "metadata": {},
     "output_type": "display_data"
    }
   ],
   "source": [
    "\n",
    "\n",
    "fig, ax = plt.subplots(figsize=(7, 4))\n",
    "\n",
    "x = Ts\n",
    "x = [K_to_C(item) for item in x]\n",
    "T_unit = 'C'\n",
    "P_unit ='bar'\n",
    "\n",
    "Tc = K_to_C(chemicals.Tc(CASRN=cas))\n",
    "Pc = Pa_to_bar(chemicals.Pc(CASRN=cas))\n",
    "\n",
    "ax.plot(x, vps, label=cas)\n",
    "ax.scatter(Tc, Pc, label='Critical Point', color='red')\n",
    "\n",
    "ax.set_xlabel('Temperature [%s]' % T_unit)\n",
    "ax.set_ylabel('Pressure [%s]' % P_unit)\n",
    "\n",
    "ax.grid(True)\n",
    "ax.spines['top'].set_visible(False)\n",
    "ax.spines['right'].set_visible(False)\n",
    "\n",
    "ax.legend(ncol=2, fontsize=8)\n",
    "    \n",
    "def setbold(txt):\n",
    "    return ' '.join([r\"$\\bf{\" + item + \"}$\" for item in txt.split(' ')])\n",
    "\n",
    "comp = {k: round(v, 2) for k, v in comp.items()}\n",
    "\n",
    "bold_txt = setbold('Phase Envelope, ')\n",
    "plain_txt = str(comp)\n",
    "fig.suptitle(bold_txt + plain_txt, verticalalignment='top', x=0, horizontalalignment='left', fontsize=11)\n",
    "yloc = 0.9\n",
    "ax.annotate('', xy=(0.01, yloc + 0.01), xycoords='figure fraction', xytext=(1.02, yloc + 0.01),\n",
    "            arrowprops=dict(arrowstyle=\"-\", color='k', lw=0.7))\n",
    "\n",
    "print('Tc = %.1fC, Pc = %.1fbar' % (Tc, Pc))\n",
    "print('Compare: https://www.engineeringtoolbox.com/ethanol-ethyl-alcohol-properties-C2H6O-d_2027.html')\n",
    "\n",
    "fig.tight_layout()"
   ]
  },
  {
   "cell_type": "code",
   "execution_count": null,
   "id": "5c454d76",
   "metadata": {},
   "outputs": [],
   "source": []
  },
  {
   "cell_type": "code",
   "execution_count": null,
   "id": "70ba1e01",
   "metadata": {},
   "outputs": [],
   "source": []
  },
  {
   "cell_type": "code",
   "execution_count": null,
   "id": "eea38ea5",
   "metadata": {},
   "outputs": [],
   "source": []
  },
  {
   "cell_type": "code",
   "execution_count": null,
   "id": "3c0a5922",
   "metadata": {},
   "outputs": [],
   "source": []
  },
  {
   "cell_type": "code",
   "execution_count": null,
   "id": "114c0336",
   "metadata": {},
   "outputs": [],
   "source": []
  },
  {
   "cell_type": "markdown",
   "id": "92c98787",
   "metadata": {},
   "source": [
    "### load_data performance comparison - not much difference"
   ]
  },
  {
   "cell_type": "code",
   "execution_count": 229,
   "id": "cdc6649f",
   "metadata": {},
   "outputs": [],
   "source": [
    "from chemicals import vapor_pressure\n",
    "import timeit\n",
    "\n",
    "T = 331"
   ]
  },
  {
   "cell_type": "code",
   "execution_count": 230,
   "id": "2bf78a80",
   "metadata": {},
   "outputs": [
    {
     "name": "stdout",
     "output_type": "stream",
     "text": [
      "9.467768799999249\n"
     ]
    }
   ],
   "source": [
    "start_time = timeit.default_timer()\n",
    "\n",
    "for i in range(10000):\n",
    "\n",
    "    cas = name_to_cas('ethanol')\n",
    "    a = VaporPressure(CASRN=cas, load_data=False)\n",
    "\n",
    "    WAGNER_POLING_params = vapor_pressure.Psat_values_WagnerPoling[vapor_pressure.Psat_data_WagnerPoling.index.get_loc(cas)].tolist()\n",
    "\n",
    "    a.WAGNER_POLING_coefs = WAGNER_POLING_params[:4]\n",
    "    a.WAGNER_POLING_Tc = WAGNER_POLING_params[4]\n",
    "    a.WAGNER_POLING_Pc = WAGNER_POLING_params[5]\n",
    "\n",
    "    Pa_to_mmHg(a.calculate(T=T, method='WAGNER_POLING'))\n",
    "\n",
    "print(timeit.default_timer() - start_time)"
   ]
  },
  {
   "cell_type": "code",
   "execution_count": 231,
   "id": "fd49cdc0",
   "metadata": {},
   "outputs": [
    {
     "name": "stdout",
     "output_type": "stream",
     "text": [
      "10.046220399999584\n"
     ]
    }
   ],
   "source": [
    "start_time = timeit.default_timer()\n",
    "for i in range(10000):\n",
    "    \n",
    "    a = VaporPressure(CASRN=name_to_cas('ethanol'), load_data=True)\n",
    "    Pa_to_mmHg(a.calculate(T=T, method='WAGNER_POLING'))\n",
    "    \n",
    "print(timeit.default_timer() - start_time)"
   ]
  },
  {
   "cell_type": "code",
   "execution_count": null,
   "id": "44b3caf0",
   "metadata": {},
   "outputs": [],
   "source": []
  },
  {
   "cell_type": "code",
   "execution_count": null,
   "id": "59494910",
   "metadata": {},
   "outputs": [],
   "source": []
  },
  {
   "cell_type": "code",
   "execution_count": null,
   "id": "cc8cb135",
   "metadata": {},
   "outputs": [],
   "source": []
  },
  {
   "cell_type": "code",
   "execution_count": 202,
   "id": "c895d550",
   "metadata": {},
   "outputs": [
    {
     "data": {
      "text/plain": [
       "159.05"
      ]
     },
     "execution_count": 202,
     "metadata": {},
     "output_type": "execute_result"
    }
   ],
   "source": [
    "WAGNER_POLING_params[6]"
   ]
  },
  {
   "cell_type": "code",
   "execution_count": 199,
   "id": "81b04f39",
   "metadata": {},
   "outputs": [
    {
     "data": {
      "text/plain": [
       "VaporPressure(CASRN=\"64-17-5\", extrapolation=\"AntoineAB|DIPPR101_ABC\", method=None)"
      ]
     },
     "execution_count": 199,
     "metadata": {},
     "output_type": "execute_result"
    }
   ],
   "source": [
    "a"
   ]
  },
  {
   "cell_type": "code",
   "execution_count": 195,
   "id": "57e33952",
   "metadata": {},
   "outputs": [
    {
     "data": {
      "text/plain": [
       "159.0"
      ]
     },
     "execution_count": 195,
     "metadata": {},
     "output_type": "execute_result"
    }
   ],
   "source": [
    "a.Tmin"
   ]
  },
  {
   "cell_type": "code",
   "execution_count": null,
   "id": "a01061f6",
   "metadata": {},
   "outputs": [],
   "source": []
  },
  {
   "cell_type": "code",
   "execution_count": 187,
   "id": "a0a787ac",
   "metadata": {},
   "outputs": [
    {
     "data": {
      "text/plain": [
       "[-8.68587, 1.17831, -4.8762, 1.588, 513.92, 6132000.0, 159.05, 513.92]"
      ]
     },
     "execution_count": 187,
     "metadata": {},
     "output_type": "execute_result"
    }
   ],
   "source": [
    "from chemicals import vapor_pressure\n",
    "\n",
    "vapor_pressure.Psat_values_WagnerPoling[vapor_pressure.Psat_data_WagnerPoling.index.get_loc(name_to_cas('ethanol'))].tolist()"
   ]
  },
  {
   "cell_type": "code",
   "execution_count": null,
   "id": "3b0674ff",
   "metadata": {},
   "outputs": [],
   "source": []
  },
  {
   "cell_type": "markdown",
   "id": "5185868b",
   "metadata": {},
   "source": [
    "# Vapor Pressure Tutorial - end"
   ]
  },
  {
   "cell_type": "code",
   "execution_count": null,
   "id": "f4d53420",
   "metadata": {},
   "outputs": [],
   "source": []
  },
  {
   "cell_type": "code",
   "execution_count": null,
   "id": "066aa1e7",
   "metadata": {},
   "outputs": [],
   "source": []
  },
  {
   "cell_type": "code",
   "execution_count": 178,
   "id": "c0b5e74e",
   "metadata": {},
   "outputs": [
    {
     "data": {
      "text/plain": [
       "[-8.68587, 1.17831, -4.8762, 1.588, 513.92, 6132000.0, 159.05, 513.92]"
      ]
     },
     "execution_count": 178,
     "metadata": {},
     "output_type": "execute_result"
    }
   ],
   "source": [
    "vapor_pressure.Psat_values_WagnerPoling[vapor_pressure.Psat_data_WagnerPoling.index.get_loc(name_to_cas('ethanol'))].tolist()"
   ]
  },
  {
   "cell_type": "code",
   "execution_count": 177,
   "id": "a3dfc5f3",
   "metadata": {},
   "outputs": [],
   "source": [
    "from chemicals import vapor_pressure"
   ]
  },
  {
   "cell_type": "code",
   "execution_count": null,
   "id": "748a7b77",
   "metadata": {},
   "outputs": [],
   "source": []
  },
  {
   "cell_type": "code",
   "execution_count": null,
   "id": "b5027469",
   "metadata": {},
   "outputs": [],
   "source": []
  },
  {
   "cell_type": "code",
   "execution_count": null,
   "id": "94137b4f",
   "metadata": {},
   "outputs": [],
   "source": []
  },
  {
   "cell_type": "code",
   "execution_count": 146,
   "id": "0ee82bcb",
   "metadata": {},
   "outputs": [
    {
     "data": {
      "text/plain": [
       "153675109.74916753"
      ]
     },
     "execution_count": 146,
     "metadata": {},
     "output_type": "execute_result"
    }
   ],
   "source": [
    "Pa_to_psi(VaporPressure(Tb=Tbs[0], Tc=Tcs[0], Pc=Pcs[0], omega=omegas[0]).calculate(T, 'SANJARI'))"
   ]
  },
  {
   "cell_type": "code",
   "execution_count": 142,
   "id": "b0280d0b",
   "metadata": {},
   "outputs": [
    {
     "data": {
      "text/plain": [
       "153675109.74916753"
      ]
     },
     "execution_count": 142,
     "metadata": {},
     "output_type": "execute_result"
    }
   ],
   "source": [
    "VaporPressure(Tb=Tbs[0], Tc=Tcs[0], Pc=Pcs[0], omega=omegas[0], eos=PR_obj).calculate(T, 'SANJARI')"
   ]
  },
  {
   "cell_type": "code",
   "execution_count": 144,
   "id": "afdfc194",
   "metadata": {},
   "outputs": [
    {
     "ename": "AttributeError",
     "evalue": "'VaporPressure' object has no attribute 'ANTOINE_WEBBOOK_coefs'",
     "output_type": "error",
     "traceback": [
      "\u001b[1;31m---------------------------------------------------------------------------\u001b[0m",
      "\u001b[1;31mAttributeError\u001b[0m                            Traceback (most recent call last)",
      "\u001b[1;32m~\\AppData\\Local\\Temp\\ipykernel_23672\\1628776071.py\u001b[0m in \u001b[0;36m<module>\u001b[1;34m\u001b[0m\n\u001b[1;32m----> 1\u001b[1;33m \u001b[0mVaporPressure\u001b[0m\u001b[1;33m(\u001b[0m\u001b[0mTb\u001b[0m\u001b[1;33m=\u001b[0m\u001b[0mTbs\u001b[0m\u001b[1;33m[\u001b[0m\u001b[1;36m0\u001b[0m\u001b[1;33m]\u001b[0m\u001b[1;33m,\u001b[0m \u001b[0mTc\u001b[0m\u001b[1;33m=\u001b[0m\u001b[0mTcs\u001b[0m\u001b[1;33m[\u001b[0m\u001b[1;36m0\u001b[0m\u001b[1;33m]\u001b[0m\u001b[1;33m,\u001b[0m \u001b[0mPc\u001b[0m\u001b[1;33m=\u001b[0m\u001b[0mPcs\u001b[0m\u001b[1;33m[\u001b[0m\u001b[1;36m0\u001b[0m\u001b[1;33m]\u001b[0m\u001b[1;33m,\u001b[0m \u001b[0momega\u001b[0m\u001b[1;33m=\u001b[0m\u001b[0momegas\u001b[0m\u001b[1;33m[\u001b[0m\u001b[1;36m0\u001b[0m\u001b[1;33m]\u001b[0m\u001b[1;33m,\u001b[0m \u001b[0meos\u001b[0m\u001b[1;33m=\u001b[0m\u001b[0mPR_obj\u001b[0m\u001b[1;33m,\u001b[0m \u001b[0mload_data\u001b[0m\u001b[1;33m=\u001b[0m\u001b[1;32mTrue\u001b[0m\u001b[1;33m)\u001b[0m\u001b[1;33m.\u001b[0m\u001b[0mcalculate\u001b[0m\u001b[1;33m(\u001b[0m\u001b[0mT\u001b[0m\u001b[1;33m,\u001b[0m \u001b[1;34m'ANTOINE_WEBBOOK'\u001b[0m\u001b[1;33m)\u001b[0m\u001b[1;33m\u001b[0m\u001b[1;33m\u001b[0m\u001b[0m\n\u001b[0m",
      "\u001b[1;32m~\\AppData\\Roaming\\Python\\Python39\\site-packages\\thermo\\vapor_pressure.py\u001b[0m in \u001b[0;36mcalculate\u001b[1;34m(self, T, method)\u001b[0m\n\u001b[0;32m    509\u001b[0m             \u001b[0mPsat\u001b[0m \u001b[1;33m=\u001b[0m \u001b[0mAntoine\u001b[0m\u001b[1;33m(\u001b[0m\u001b[0mT\u001b[0m\u001b[1;33m,\u001b[0m \u001b[0mA\u001b[0m\u001b[1;33m,\u001b[0m \u001b[0mB\u001b[0m\u001b[1;33m,\u001b[0m \u001b[0mC\u001b[0m\u001b[1;33m,\u001b[0m \u001b[0mbase\u001b[0m\u001b[1;33m=\u001b[0m\u001b[1;36m10.0\u001b[0m\u001b[1;33m)\u001b[0m\u001b[1;33m\u001b[0m\u001b[1;33m\u001b[0m\u001b[0m\n\u001b[0;32m    510\u001b[0m         \u001b[1;32melif\u001b[0m \u001b[0mmethod\u001b[0m \u001b[1;33m==\u001b[0m \u001b[0mANTOINE_WEBBOOK\u001b[0m\u001b[1;33m:\u001b[0m\u001b[1;33m\u001b[0m\u001b[1;33m\u001b[0m\u001b[0m\n\u001b[1;32m--> 511\u001b[1;33m             \u001b[0mA\u001b[0m\u001b[1;33m,\u001b[0m \u001b[0mB\u001b[0m\u001b[1;33m,\u001b[0m \u001b[0mC\u001b[0m \u001b[1;33m=\u001b[0m \u001b[0mself\u001b[0m\u001b[1;33m.\u001b[0m\u001b[0mANTOINE_WEBBOOK_coefs\u001b[0m\u001b[1;33m\u001b[0m\u001b[1;33m\u001b[0m\u001b[0m\n\u001b[0m\u001b[0;32m    512\u001b[0m             \u001b[0mPsat\u001b[0m \u001b[1;33m=\u001b[0m \u001b[0mAntoine\u001b[0m\u001b[1;33m(\u001b[0m\u001b[0mT\u001b[0m\u001b[1;33m,\u001b[0m \u001b[0mA\u001b[0m\u001b[1;33m,\u001b[0m \u001b[0mB\u001b[0m\u001b[1;33m,\u001b[0m \u001b[0mC\u001b[0m\u001b[1;33m,\u001b[0m \u001b[0mbase\u001b[0m\u001b[1;33m=\u001b[0m\u001b[0me\u001b[0m\u001b[1;33m)\u001b[0m\u001b[1;33m\u001b[0m\u001b[1;33m\u001b[0m\u001b[0m\n\u001b[0;32m    513\u001b[0m         \u001b[1;32melif\u001b[0m \u001b[0mmethod\u001b[0m \u001b[1;33m==\u001b[0m \u001b[0mLANDOLT\u001b[0m\u001b[1;33m:\u001b[0m\u001b[1;33m\u001b[0m\u001b[1;33m\u001b[0m\u001b[0m\n",
      "\u001b[1;31mAttributeError\u001b[0m: 'VaporPressure' object has no attribute 'ANTOINE_WEBBOOK_coefs'"
     ]
    }
   ],
   "source": [
    "VaporPressure(Tb=Tbs[0], Tc=Tcs[0], Pc=Pcs[0], omega=omegas[0], eos=PR_obj, load_data=True).calculate(T, 'ANTOINE_WEBBOOK')"
   ]
  },
  {
   "cell_type": "code",
   "execution_count": null,
   "id": "bbc82f46",
   "metadata": {},
   "outputs": [],
   "source": []
  },
  {
   "cell_type": "code",
   "execution_count": null,
   "id": "38a7fb9b",
   "metadata": {},
   "outputs": [],
   "source": []
  },
  {
   "cell_type": "code",
   "execution_count": null,
   "id": "598903da",
   "metadata": {},
   "outputs": [],
   "source": []
  },
  {
   "cell_type": "code",
   "execution_count": null,
   "id": "9db082d8",
   "metadata": {},
   "outputs": [],
   "source": []
  },
  {
   "cell_type": "code",
   "execution_count": 130,
   "id": "62321e3a",
   "metadata": {},
   "outputs": [],
   "source": [
    "zs = [0.2, 0.2, 0.6]\n",
    "\n",
    "P = psi_to_Pa(100)\n",
    "T = F_to_K(100)\n",
    "\n",
    "mix = ['methane', 'toluene', 'm-Xylene']\n",
    "\n",
    "Tbs = Mixture(mix, zs=zs).Tbs\n",
    "Tcs = Mixture(mix, zs=zs).Tcs\n",
    "Pcs = Mixture(mix, zs=zs).Pcs\n",
    "omegas = Mixture(['benzene', 'toluene', 'm-Xylene'], zs=zs).omegas\n",
    "\n",
    "\n",
    "PR_obj = PRMIX(Tcs=Tcs, Pcs=Pcs, omegas=omegas, zs=zs, P=P, T=T, kijs=kijs)"
   ]
  },
  {
   "cell_type": "code",
   "execution_count": 138,
   "id": "3ef1d0da",
   "metadata": {},
   "outputs": [
    {
     "data": {
      "text/plain": [
       "153675109.74916753"
      ]
     },
     "execution_count": 138,
     "metadata": {},
     "output_type": "execute_result"
    }
   ],
   "source": [
    "VaporPressure(Tb=Tbs[0], Tc=Tcs[0], Pc=Pcs[0], omega=omegas[0]).calculate(T, 'SANJARI')"
   ]
  },
  {
   "cell_type": "code",
   "execution_count": 139,
   "id": "961ba09e",
   "metadata": {},
   "outputs": [
    {
     "data": {
      "text/plain": [
       "153675109.74916753"
      ]
     },
     "execution_count": 139,
     "metadata": {},
     "output_type": "execute_result"
    }
   ],
   "source": [
    "VaporPressure(Tb=Tbs[0], Tc=Tcs[0], Pc=Pcs[0], omega=omegas[0], eos=PR_obj).calculate(T, 'SANJARI')"
   ]
  },
  {
   "cell_type": "code",
   "execution_count": 111,
   "id": "793e01e5",
   "metadata": {},
   "outputs": [
    {
     "ename": "AttributeError",
     "evalue": "'Mixture' object has no attribute 'fgcs'",
     "output_type": "error",
     "traceback": [
      "\u001b[1;31m---------------------------------------------------------------------------\u001b[0m",
      "\u001b[1;31mAttributeError\u001b[0m                            Traceback (most recent call last)",
      "\u001b[1;32m~\\AppData\\Local\\Temp\\ipykernel_23672\\95822319.py\u001b[0m in \u001b[0;36m<module>\u001b[1;34m\u001b[0m\n\u001b[1;32m----> 1\u001b[1;33m \u001b[0mMixture\u001b[0m\u001b[1;33m(\u001b[0m\u001b[0mmix\u001b[0m\u001b[1;33m,\u001b[0m \u001b[0mzs\u001b[0m\u001b[1;33m=\u001b[0m\u001b[0mzs\u001b[0m\u001b[1;33m)\u001b[0m\u001b[1;33m.\u001b[0m\u001b[0mfgcs\u001b[0m\u001b[1;33m\u001b[0m\u001b[1;33m\u001b[0m\u001b[0m\n\u001b[0m",
      "\u001b[1;31mAttributeError\u001b[0m: 'Mixture' object has no attribute 'fgcs'"
     ]
    }
   ],
   "source": [
    "Mixture(mix, zs=zs).fgcs"
   ]
  },
  {
   "cell_type": "code",
   "execution_count": null,
   "id": "a6520ca9",
   "metadata": {},
   "outputs": [],
   "source": []
  },
  {
   "cell_type": "code",
   "execution_count": null,
   "id": "195e67fe",
   "metadata": {},
   "outputs": [],
   "source": []
  },
  {
   "cell_type": "code",
   "execution_count": 110,
   "id": "7fab10fe",
   "metadata": {},
   "outputs": [
    {
     "data": {
      "text/plain": [
       "[190.564, 591.75, 616.89]"
      ]
     },
     "execution_count": 110,
     "metadata": {},
     "output_type": "execute_result"
    }
   ],
   "source": [
    "Tcs"
   ]
  },
  {
   "cell_type": "code",
   "execution_count": null,
   "id": "ac3c5d14",
   "metadata": {},
   "outputs": [],
   "source": []
  },
  {
   "cell_type": "code",
   "execution_count": null,
   "id": "96547644",
   "metadata": {},
   "outputs": [],
   "source": []
  },
  {
   "cell_type": "code",
   "execution_count": null,
   "id": "79f4da7d",
   "metadata": {},
   "outputs": [],
   "source": []
  },
  {
   "cell_type": "code",
   "execution_count": 106,
   "id": "903d6fb7",
   "metadata": {},
   "outputs": [
    {
     "data": {
      "text/plain": [
       "[0.2, 0.2, 0.6, 0.0]"
      ]
     },
     "execution_count": 106,
     "metadata": {},
     "output_type": "execute_result"
    }
   ],
   "source": [
    "zs"
   ]
  },
  {
   "cell_type": "code",
   "execution_count": null,
   "id": "e66ddb7e",
   "metadata": {},
   "outputs": [],
   "source": []
  },
  {
   "cell_type": "code",
   "execution_count": 104,
   "id": "32aa8d23",
   "metadata": {},
   "outputs": [
    {
     "data": {
      "text/plain": [
       "[0.2, 0.2, 0.6, 0.0]"
      ]
     },
     "execution_count": 104,
     "metadata": {},
     "output_type": "execute_result"
    }
   ],
   "source": [
    "zs"
   ]
  },
  {
   "cell_type": "code",
   "execution_count": null,
   "id": "58bb862f",
   "metadata": {},
   "outputs": [],
   "source": []
  },
  {
   "cell_type": "code",
   "execution_count": 99,
   "id": "fdf1f573",
   "metadata": {},
   "outputs": [
    {
     "data": {
      "text/plain": [
       "190.564"
      ]
     },
     "execution_count": 99,
     "metadata": {},
     "output_type": "execute_result"
    }
   ],
   "source": [
    "Tcs"
   ]
  },
  {
   "cell_type": "code",
   "execution_count": null,
   "id": "60b18cf2",
   "metadata": {},
   "outputs": [],
   "source": []
  },
  {
   "cell_type": "code",
   "execution_count": null,
   "id": "54e01311",
   "metadata": {},
   "outputs": [],
   "source": [
    "fig = flashN.plot_TP(zs=zs, show=False)\n",
    "ax = fig.get_axes()[0]\n",
    "ax.set_yscale('linear')\n",
    "\n",
    "fig.savefig('PT.png')"
   ]
  },
  {
   "cell_type": "code",
   "execution_count": 6,
   "id": "f9fe1d2b",
   "metadata": {},
   "outputs": [
    {
     "data": {
      "text/plain": [
       "416.7828"
      ]
     },
     "execution_count": 6,
     "metadata": {},
     "output_type": "execute_result"
    }
   ],
   "source": [
    "Tcs = np.array((res.Tcs))\n",
    "zss = np.array(zs)\n",
    "sum(Tcs * zss)"
   ]
  },
  {
   "cell_type": "code",
   "execution_count": 7,
   "id": "4e619d92",
   "metadata": {},
   "outputs": [
    {
     "data": {
      "text/plain": [
       "416.7828"
      ]
     },
     "execution_count": 7,
     "metadata": {},
     "output_type": "execute_result"
    }
   ],
   "source": [
    "res.pseudo_Tc()"
   ]
  },
  {
   "cell_type": "code",
   "execution_count": 8,
   "id": "d3123dcc",
   "metadata": {},
   "outputs": [
    {
     "data": {
      "text/plain": [
       "['74-82-8', '74-98-6', '110-54-3', '7732-18-5']"
      ]
     },
     "execution_count": 8,
     "metadata": {},
     "output_type": "execute_result"
    }
   ],
   "source": [
    "res.CASs"
   ]
  },
  {
   "cell_type": "code",
   "execution_count": 85,
   "id": "fa6527d0",
   "metadata": {},
   "outputs": [
    {
     "data": {
      "text/plain": [
       "747.7472372660187"
      ]
     },
     "execution_count": 85,
     "metadata": {},
     "output_type": "execute_result"
    }
   ],
   "source": [
    "T = F_to_K(72.5)\n",
    "T = C_to_K(-70)\n",
    "\n",
    "Pa_to_psi(Mixture(['methane', 'propane'], ws=[0.5, 0.5], T=T).Pbubble)"
   ]
  },
  {
   "cell_type": "code",
   "execution_count": 97,
   "id": "01b6ab92",
   "metadata": {},
   "outputs": [
    {
     "data": {
      "text/plain": [
       "'74-82-8'"
      ]
     },
     "execution_count": 97,
     "metadata": {},
     "output_type": "execute_result"
    }
   ],
   "source": [
    "name_to_cas('methane')"
   ]
  },
  {
   "cell_type": "code",
   "execution_count": 125,
   "id": "19620962",
   "metadata": {},
   "outputs": [
    {
     "data": {
      "text/plain": [
       "92870952.05962054"
      ]
     },
     "execution_count": 125,
     "metadata": {},
     "output_type": "execute_result"
    }
   ],
   "source": [
    "VaporPressure(Tb=Tbs, Tc=Tcs, Pc=Pcs, omega=omegas, eos=PR_obj).calculate(T, 'SANJARI')"
   ]
  },
  {
   "cell_type": "code",
   "execution_count": 126,
   "id": "642f28e3",
   "metadata": {},
   "outputs": [
    {
     "data": {
      "text/plain": [
       "92870952.05962054"
      ]
     },
     "execution_count": 126,
     "metadata": {},
     "output_type": "execute_result"
    }
   ],
   "source": [
    "VaporPressure(Tb=Tbs, Tc=Tcs, Pc=Pcs, omega=omegas).calculate(T, 'SANJARI')"
   ]
  },
  {
   "cell_type": "code",
   "execution_count": null,
   "id": "90b96401",
   "metadata": {},
   "outputs": [],
   "source": []
  },
  {
   "cell_type": "code",
   "execution_count": null,
   "id": "cdc6d679",
   "metadata": {},
   "outputs": [],
   "source": []
  },
  {
   "cell_type": "code",
   "execution_count": 93,
   "id": "afa48236",
   "metadata": {},
   "outputs": [
    {
     "data": {
      "text/plain": [
       "['74-82-8', '74-98-6']"
      ]
     },
     "execution_count": 93,
     "metadata": {},
     "output_type": "execute_result"
    }
   ],
   "source": [
    "Mixture(['methane', 'propane'], ws=[0.5, 0.5], T=T).CASs"
   ]
  },
  {
   "cell_type": "code",
   "execution_count": null,
   "id": "cc526a56",
   "metadata": {},
   "outputs": [],
   "source": []
  },
  {
   "cell_type": "code",
   "execution_count": 122,
   "id": "b3df7cb7",
   "metadata": {
    "scrolled": false
   },
   "outputs": [
    {
     "name": "stdout",
     "output_type": "stream",
     "text": [
      "T = -100 C, Vp = 342.822\n",
      "T = -95 C, Vp = 419.340\n",
      "T = -90 C, Vp = 508.209\n",
      "T = -85 C, Vp = 610.910\n",
      "T = -80 C, Vp = 729.123\n",
      "T = -75 C, Vp = 864.757\n",
      "T = -70 C, Vp = 1019.993\n",
      "T = -65 C, Vp = 1197.334\n",
      "T = -60 C, Vp = 1399.658\n",
      "T = -55 C, Vp = 1630.283\n",
      "T = -50 C, Vp = 1893.041\n",
      "T = -45 C, Vp = 2192.365\n",
      "T = -40 C, Vp = 2533.395\n",
      "T = -35 C, Vp = 2922.092\n",
      "T = -30 C, Vp = 3365.386\n",
      "T = -25 C, Vp = 3871.338\n",
      "T = -20 C, Vp = 4449.344\n",
      "T = -15 C, Vp = 5110.366\n",
      "T = -10 C, Vp = 5867.214\n",
      "T = -5 C, Vp = 6734.876\n",
      "T = 0 C, Vp = 7730.921\n",
      "T = 5 C, Vp = 8875.967\n",
      "T = 10 C, Vp = 10194.253\n",
      "T = 15 C, Vp = 11714.317\n",
      "T = 20 C, Vp = 13469.817\n"
     ]
    }
   ],
   "source": [
    "for t in range(-100, 25, 5):\n",
    "    T = C_to_K(t)\n",
    "\n",
    "    mix = ['methane', 'toluene', 'm-Xylene']\n",
    "\n",
    "    Tbs = Mixture(mix, ws=[0.2, 0.2, 0.6]).Tbs[0]\n",
    "    Tcs = Mixture(mix, ws=[0.2, 0.2, 0.6]).Tcs[0]\n",
    "    Pcs = Mixture(mix, ws=[0.2, 0.2, 0.6]).Pcs[0]\n",
    "    omegas = Mixture(['benzene', 'toluene', 'm-Xylene'], ws=[0.2, 0.2, 0.6]).omegas[0]\n",
    "\n",
    "    vp = Pa_to_psi(VaporPressure(Tb=Tbs, Tc=Tcs, Pc=Pcs, omega=omegas).calculate(T, 'SANJARI'))\n",
    "    \n",
    "    print('T = %d C, Vp = %.3f' % (K_to_C(T), vp))"
   ]
  },
  {
   "cell_type": "code",
   "execution_count": 89,
   "id": "7f190132",
   "metadata": {},
   "outputs": [
    {
     "data": {
      "text/plain": [
       "190.564"
      ]
     },
     "execution_count": 89,
     "metadata": {},
     "output_type": "execute_result"
    }
   ],
   "source": [
    "Tcs"
   ]
  },
  {
   "cell_type": "code",
   "execution_count": null,
   "id": "7e0137d2",
   "metadata": {},
   "outputs": [],
   "source": []
  },
  {
   "cell_type": "code",
   "execution_count": null,
   "id": "545c5d0d",
   "metadata": {},
   "outputs": [],
   "source": []
  },
  {
   "cell_type": "code",
   "execution_count": null,
   "id": "05cac41b",
   "metadata": {},
   "outputs": [],
   "source": []
  },
  {
   "cell_type": "code",
   "execution_count": 68,
   "id": "f22470db",
   "metadata": {},
   "outputs": [
    {
     "data": {
      "text/plain": [
       "23.636698659822535"
      ]
     },
     "execution_count": 68,
     "metadata": {},
     "output_type": "execute_result"
    }
   ],
   "source": [
    "Pa_to_bar(VaporPressure(Tb=Tbs, Tc=Tcs, Pc=Pcs, omega=omegas).calculate(T, 'SANJARI'))"
   ]
  },
  {
   "cell_type": "code",
   "execution_count": null,
   "id": "7454d170",
   "metadata": {},
   "outputs": [],
   "source": []
  },
  {
   "cell_type": "code",
   "execution_count": null,
   "id": "e85e8b58",
   "metadata": {},
   "outputs": [],
   "source": []
  },
  {
   "cell_type": "code",
   "execution_count": 15,
   "id": "01e2cc35",
   "metadata": {},
   "outputs": [
    {
     "data": {
      "text/plain": [
       "250300919.66963524"
      ]
     },
     "execution_count": 15,
     "metadata": {},
     "output_type": "execute_result"
    }
   ],
   "source": [
    "Mixture(['methane', 'propane'], ws=[0.5, 0.5], T=T).Pbubble"
   ]
  },
  {
   "cell_type": "code",
   "execution_count": 18,
   "id": "7fac5540",
   "metadata": {},
   "outputs": [
    {
     "data": {
      "text/plain": [
       "[341038236.1417108, 892897.0239571161]"
      ]
     },
     "execution_count": 18,
     "metadata": {},
     "output_type": "execute_result"
    }
   ],
   "source": [
    "Mixture(['methane', 'propane'], ws=[0.5, 0.5], T=T).Psats"
   ]
  },
  {
   "cell_type": "code",
   "execution_count": 19,
   "id": "b8049f59",
   "metadata": {},
   "outputs": [
    {
     "data": {
      "text/plain": [
       "[32069.698020585838, 10726.733206586498]"
      ]
     },
     "execution_count": 19,
     "metadata": {},
     "output_type": "execute_result"
    }
   ],
   "source": [
    "Mixture(['benzene', 'toluene'], ws=[0.5, 0.5], T=320).Psats"
   ]
  },
  {
   "cell_type": "code",
   "execution_count": null,
   "id": "94ff1512",
   "metadata": {},
   "outputs": [],
   "source": []
  },
  {
   "cell_type": "code",
   "execution_count": null,
   "id": "9c5a055f",
   "metadata": {},
   "outputs": [],
   "source": []
  },
  {
   "cell_type": "code",
   "execution_count": null,
   "id": "833866a2",
   "metadata": {},
   "outputs": [],
   "source": []
  },
  {
   "cell_type": "code",
   "execution_count": null,
   "id": "ad81e69c",
   "metadata": {},
   "outputs": [],
   "source": []
  },
  {
   "cell_type": "code",
   "execution_count": null,
   "id": "d6215779",
   "metadata": {},
   "outputs": [],
   "source": []
  },
  {
   "cell_type": "code",
   "execution_count": null,
   "id": "43f9506c",
   "metadata": {},
   "outputs": [],
   "source": []
  },
  {
   "cell_type": "code",
   "execution_count": 10,
   "id": "c195b8d7",
   "metadata": {},
   "outputs": [
    {
     "data": {
      "text/plain": [
       "521.6349553174193"
      ]
     },
     "execution_count": 10,
     "metadata": {},
     "output_type": "execute_result"
    }
   ],
   "source": [
    "Pa_to_psi(res.pseudo_Pc())"
   ]
  },
  {
   "cell_type": "code",
   "execution_count": 2,
   "id": "ca3786ae",
   "metadata": {},
   "outputs": [
    {
     "data": {
      "image/png": "[encoded data removed]",
      "text/plain": [
       "<Figure size 640x480 with 1 Axes>"
      ]
     },
     "metadata": {},
     "output_type": "display_data"
    }
   ],
   "source": [
    "from thermo import ChemicalConstantsPackage, PRMIX, CEOSLiquid, CEOSGas, PropertyCorrelationsPackage\n",
    "from thermo import FlashVLN\n",
    "import matplotlib.pyplot as plt\n",
    "from thermo.interaction_parameters import IPDB\n",
    "\n",
    "def psi_to_Pa(psi):\n",
    "    return psi * 6894.745\n",
    "\n",
    "def F_to_K(F):\n",
    "    return (F - 32) * 5/9 + 273.15\n",
    "\n",
    "def Pa_to_psi(pa):\n",
    "    return pa / 6894.745\n",
    "\n",
    "def K_to_F(K):\n",
    "    return (K - 273.15) * 1.8 + 32\n",
    "\n",
    "comp = dict([\n",
    "    ('methane', 0.2), \n",
    "    ('propane', 0.2),\n",
    "    ('hexane', .6),\n",
    "    ('water', 0.),\n",
    "])\n",
    "\n",
    "total_comp = sum(comp.values())\n",
    "if total_comp > 1:\n",
    "    comp = {k: v / total_comp for k, v in comp.items()}\n",
    "    \n",
    "constants, properties = ChemicalConstantsPackage.from_IDs(comp.keys())\n",
    "kijs = IPDB.get_ip_asymmetric_matrix('ChemSep PR', constants.CASs, 'kij')\n",
    "\n",
    "eos_kwargs = dict(Tcs=constants.Tcs, Pcs=constants.Pcs, omegas=constants.omegas, kijs=kijs)\n",
    "gas = CEOSGas(PRMIX, eos_kwargs, HeatCapacityGases=properties.HeatCapacityGases)\n",
    "liq = CEOSLiquid(PRMIX, eos_kwargs, HeatCapacityGases=properties.HeatCapacityGases)\n",
    "flashN = FlashVLN(constants, properties, liquids=[liq, liq], gas=gas) # if dealing with water, fill [liq, liq] twice.\n",
    "\n",
    "P = psi_to_Pa(100)\n",
    "T = F_to_K(100)\n",
    "\n",
    "res = flashN.flash(T=T, P=P, zs=list(comp.values()))\n",
    "\n",
    "zs = list(comp.values())\n",
    "\n",
    "fig = flashN.plot_TP(zs=zs, show=False)\n",
    "ax = fig.get_axes()[0]\n",
    "ax.set_yscale('linear')"
   ]
  },
  {
   "cell_type": "code",
   "execution_count": null,
   "id": "14bae30c",
   "metadata": {},
   "outputs": [],
   "source": []
  },
  {
   "cell_type": "code",
   "execution_count": null,
   "id": "6e29c4ca",
   "metadata": {},
   "outputs": [],
   "source": []
  },
  {
   "cell_type": "code",
   "execution_count": null,
   "id": "6fb2a58b",
   "metadata": {},
   "outputs": [],
   "source": []
  },
  {
   "cell_type": "code",
   "execution_count": null,
   "id": "509b31e9",
   "metadata": {},
   "outputs": [],
   "source": []
  },
  {
   "cell_type": "code",
   "execution_count": 81,
   "id": "4932d807",
   "metadata": {},
   "outputs": [
    {
     "data": {
      "image/png": "[encoded data removed]",
      "text/plain": [
       "<Figure size 600x500 with 1 Axes>"
      ]
     },
     "metadata": {},
     "output_type": "display_data"
    }
   ],
   "source": [
    "Ts, P_dews, P_bubbles, branch_Ps = flashN.plot_TP(zs=zs, show=False, values=True)\n",
    "res = flashN.flash(T=T, P=P, zs=list(comp.values()))\n",
    "\n",
    "fig, ax = plt.subplots(figsize=(6, 5))\n",
    "\n",
    "x = Ts\n",
    "x = [K_to_F(item) for item in x]\n",
    "T_unit = 'F'\n",
    "#T_crit = res.pseudo_Tc()\n",
    "#T_crit = K_to_F(res.pseudo_Tc())\n",
    "\n",
    "P_dews = [Pa_to_psi(item) for item in P_dews]\n",
    "P_bubbles = [Pa_to_psi(item) for item in P_bubbles]\n",
    "P_unit ='psi'\n",
    "\n",
    "ax.plot(x, P_dews, label='Dew')\n",
    "ax.plot(x, P_bubbles, label='Bubble')\n",
    "\n",
    "ax.set_xlabel('Temperature [%s]' % T_unit)\n",
    "ax.set_ylabel('Pressure [%s]' % P_unit)\n",
    "\n",
    "ax.grid(True)\n",
    "ax.spines['top'].set_visible(False)\n",
    "ax.spines['right'].set_visible(False)\n",
    "\n",
    "ax.legend(ncol=2, fontsize=8)\n",
    "    \n",
    "def setbold(txt):\n",
    "    return ' '.join([r\"$\\bf{\" + item + \"}$\" for item in txt.split(' ')])\n",
    "\n",
    "comp = {k: round(v, 2) for k, v in comp.items()}\n",
    "\n",
    "bold_txt = setbold('Phase Envelope, ')\n",
    "plain_txt = str(comp)\n",
    "fig.suptitle(bold_txt + plain_txt, verticalalignment='top', x=0, horizontalalignment='left', fontsize=11)\n",
    "yloc = 0.9\n",
    "ax.annotate('', xy=(0.01, yloc + 0.01), xycoords='figure fraction', xytext=(1.02, yloc + 0.01),\n",
    "            arrowprops=dict(arrowstyle=\"-\", color='k', lw=0.7))\n",
    "\n",
    "fig.tight_layout()"
   ]
  },
  {
   "cell_type": "code",
   "execution_count": 65,
   "id": "2bdda59e",
   "metadata": {},
   "outputs": [],
   "source": [
    "Ts, P_dews, P_bubbles, branch_Ps = flashN.plot_TP(zs=zs, show=False, values=True)"
   ]
  },
  {
   "cell_type": "code",
   "execution_count": 20,
   "id": "34279961",
   "metadata": {},
   "outputs": [
    {
     "data": {
      "text/plain": [
       "EquilibriumState(T=310.92777777777775, P=689474.5, zs=[0.2, 0.2, 0.6, 0.0], betas=[0.2747350826525651, 0.7252649173474349], gas=<CEOSGas, T=310.928 K, P=689474 Pa>, liquids=[CEOSLiquid(eos_class=PRMIX, eos_kwargs={\"Tcs\": [190.564, 369.89, 507.82, 647.096], \"Pcs\": [4599200.0, 4251200.0, 3044100.0, 22064000.0], \"omegas\": [0.01142, 0.1521, 0.3, 0.3443]}, HeatCapacityGases=[HeatCapacityGas(CASRN=\"74-82-8\", MW=16.04246, similarity_variable=0.3116728980468083, extrapolation=\"linear\", method=\"HEOS_FIT\", tabular_data={'VDI_TABULAR': ([111.67, 120.0, 130.0, 140.0, 150.0, 160.0, 170.0, 180.0, 185.0, 190.0], [34.68379852, 36.78536078, 38.83879566, 41.88686306, 46.65147368, 54.84917074, 71.53332914, 121.50559204, 217.00635642, 2258.9387926]), 'JANAF': ([0.0, 100.0, 200.0, 250.0, 298.15, 300.0, 350.0, 400.0, 450.0, 500.0, 600.0, 700.0, 800.0, 900.0, 1000.0, 1100.0, 1200.0, 1300.0, 1400.0, 1500.0, 1600.0, 1700.0, 1800.0, 1900.0, 2000.0, 2100.0, 2200.0, 2300.0, 2400.0, 2500.0, 2600.0, 2700.0, 2800.0, 2900.0, 3000.0, 3100.0, 3200.0, 3300.0, 3400.0, 3500.0, 3600.0, 3700.0, 3800.0, 3900.0, 4000.0, 4100.0, 4200.0, 4300.0, 4400.0, 4500.0, 4600.0, 4700.0, 4800.0, 4900.0, 5000.0, 5100.0, 5200.0, 5300.0, 5400.0, 5500.0, 5600.0, 5700.0, 5800.0, 5900.0, 6000.0], [0.0, 33.258, 33.473, 34.216, 35.639, 35.708, 37.874, 40.5, 43.374, 46.342, 52.227, 57.794, 62.932, 67.601, 71.795, 75.529, 78.833, 81.744, 84.305, 86.556, 88.537, 90.283, 91.824, 93.188, 94.399, 95.477, 96.439, 97.301, 98.075, 98.772, 99.401, 99.971, 100.489, 100.96, 101.389, 101.782, 102.143, 102.474, 102.778, 103.06, 103.319, 103.56, 103.783, 103.99, 104.183, 104.363, 104.531, 104.688, 104.834, 104.972, 105.101, 105.223, 105.337, 105.445, 105.546, 105.642, 105.733, 105.818, 105.899, 105.976, 106.049, 106.118, 106.184, 106.247, 106.306])}), HeatCapacityGas(CASRN=\"74-98-6\", MW=44.09562, similarity_variable=0.24945788266499033, extrapolation=\"linear\", method=\"HEOS_FIT\"), HeatCapacityGas(CASRN=\"110-54-3\", MW=86.17536, similarity_variable=0.2320849022272724, extrapolation=\"linear\", method=\"HEOS_FIT\"), HeatCapacityGas(CASRN=\"7732-18-5\", MW=18.01528, similarity_variable=0.16652530518537598, extrapolation=\"linear\", method=\"HEOS_FIT\", tabular_data={'JANAF': ([0.0, 100.0, 200.0, 298.15, 300.0, 400.0, 500.0, 600.0, 700.0, 800.0, 900.0, 1000.0, 1100.0, 1200.0, 1300.0, 1400.0, 1500.0, 1600.0, 1700.0, 1800.0, 1900.0, 2000.0, 2100.0, 2200.0, 2300.0, 2400.0, 2500.0, 2600.0, 2700.0, 2800.0, 2900.0, 3000.0, 3100.0, 3200.0, 3300.0, 3400.0, 3500.0, 3600.0, 3700.0, 3800.0, 3900.0, 4000.0, 4100.0, 4200.0, 4300.0, 4400.0, 4500.0, 4600.0, 4700.0, 4800.0, 4900.0, 5000.0, 5100.0, 5200.0, 5300.0, 5400.0, 5500.0, 5600.0, 5700.0, 5800.0, 5900.0, 6000.0], [0.0, 33.299, 33.349, 33.59, 33.596, 34.262, 35.226, 36.325, 37.495, 38.721, 39.987, 41.268, 42.536, 43.768, 44.945, 46.054, 47.09, 48.05, 48.935, 49.749, 50.496, 51.18, 51.823, 52.408, 52.947, 53.444, 53.904, 54.329, 54.723, 55.089, 55.43, 55.748, 56.044, 56.323, 56.583, 56.828, 57.058, 57.276, 57.48, 57.675, 57.859, 58.033, 58.199, 58.357, 58.507, 58.65, 58.787, 58.918, 59.044, 59.164, 59.275, 59.39, 59.509, 59.628, 59.746, 59.864, 59.982, 60.1, 60.218, 60.335, 60.453, 60.571])})], T=310.92777777777775, P=689474.5, zs=[0.02479889137482976, 0.16691642346282556, 0.8082846851623448, 0.0])], solids=[])"
      ]
     },
     "execution_count": 20,
     "metadata": {},
     "output_type": "execute_result"
    }
   ],
   "source": [
    "res"
   ]
  },
  {
   "cell_type": "code",
   "execution_count": null,
   "id": "d9e3e804",
   "metadata": {},
   "outputs": [],
   "source": []
  },
  {
   "cell_type": "code",
   "execution_count": 77,
   "id": "7b7b41df",
   "metadata": {},
   "outputs": [
    {
     "data": {
      "text/plain": [
       "thermo.vapor_pressure.VaporPressure"
      ]
     },
     "execution_count": 77,
     "metadata": {},
     "output_type": "execute_result"
    }
   ],
   "source": [
    "VaporPressure(CASRN='')"
   ]
  },
  {
   "cell_type": "code",
   "execution_count": null,
   "id": "b60c123a",
   "metadata": {},
   "outputs": [],
   "source": []
  },
  {
   "cell_type": "code",
   "execution_count": null,
   "id": "f7832b34",
   "metadata": {},
   "outputs": [],
   "source": []
  },
  {
   "cell_type": "code",
   "execution_count": null,
   "id": "b4276917",
   "metadata": {},
   "outputs": [],
   "source": []
  },
  {
   "cell_type": "code",
   "execution_count": 38,
   "id": "97cd1052",
   "metadata": {},
   "outputs": [
    {
     "data": {
      "text/plain": [
       "list"
      ]
     },
     "execution_count": 38,
     "metadata": {},
     "output_type": "execute_result"
    }
   ],
   "source": [
    "type(Mixture(['benzene', 'toluene', 'm-Xylene'], ws=[0.2, 0.2, 0.6]).CASs)"
   ]
  },
  {
   "cell_type": "code",
   "execution_count": null,
   "id": "736e6f8c",
   "metadata": {},
   "outputs": [],
   "source": []
  },
  {
   "cell_type": "code",
   "execution_count": null,
   "id": "3a2dfbf4",
   "metadata": {},
   "outputs": [],
   "source": []
  },
  {
   "cell_type": "code",
   "execution_count": null,
   "id": "58284222",
   "metadata": {},
   "outputs": [],
   "source": []
  },
  {
   "cell_type": "code",
   "execution_count": null,
   "id": "87de6221",
   "metadata": {},
   "outputs": [],
   "source": []
  },
  {
   "cell_type": "code",
   "execution_count": null,
   "id": "ec07a52d",
   "metadata": {},
   "outputs": [],
   "source": []
  },
  {
   "cell_type": "code",
   "execution_count": null,
   "id": "bf597cb9",
   "metadata": {},
   "outputs": [],
   "source": []
  },
  {
   "cell_type": "code",
   "execution_count": null,
   "id": "7b48867a",
   "metadata": {},
   "outputs": [],
   "source": []
  },
  {
   "cell_type": "code",
   "execution_count": null,
   "id": "0fe0838d",
   "metadata": {},
   "outputs": [],
   "source": []
  }
 ],
 "metadata": {
  "kernelspec": {
   "display_name": "Python 3 (ipykernel)",
   "language": "python",
   "name": "python3"
  },
  "language_info": {
   "codemirror_mode": {
    "name": "ipython",
    "version": 3
   },
   "file_extension": ".py",
   "mimetype": "text/x-python",
   "name": "python",
   "nbconvert_exporter": "python",
   "pygments_lexer": "ipython3",
   "version": "3.9.13"
  }
 },
 "nbformat": 4,
 "nbformat_minor": 5
}
