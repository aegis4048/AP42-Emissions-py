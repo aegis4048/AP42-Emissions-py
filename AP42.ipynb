{
 "cells": [
  {
   "cell_type": "code",
   "execution_count": 3,
   "id": "16abdcab",
   "metadata": {},
   "outputs": [
    {
     "name": "stderr",
     "output_type": "stream",
     "text": [
      "C:\\Users\\EricKim\\AppData\\Roaming\\Python\\Python39\\site-packages\\matplotlib\\projections\\__init__.py:63: UserWarning: Unable to import Axes3D. This may be due to multiple versions of Matplotlib being installed (e.g. as a system package and as a pip package). As a result, the 3D projection is not available.\n",
      "  warnings.warn(\"Unable to import Axes3D. This may be due to multiple versions of \"\n"
     ]
    }
   ],
   "source": [
    "import numpy as np\n",
    "import pandas as pd\n",
    "import thermo\n",
    "import chemicals\n",
    "from thermo import ChemicalConstantsPackage, PRMIX, CEOSLiquid, CEOSGas, FlashPureVLS, VaporPressure, PropertyCorrelationsPackage\n",
    "from thermo import FlashVLN, ViscosityLiquidMixture, ViscosityGasMixture, SurfaceTensionMixture, Mixture\n",
    "import matplotlib.pyplot as plt\n",
    "from thermo.interaction_parameters import IPDB\n",
    "import pint\n",
    "\n",
    "ureg = pint.UnitRegistry()"
   ]
  },
  {
   "cell_type": "code",
   "execution_count": 4,
   "id": "b155c4b8",
   "metadata": {},
   "outputs": [],
   "source": [
    "def cas_to_name(cas):\n",
    "    if not isinstance(cas, str):\n",
    "        raise ValueError(\"Input must be a string\")    \n",
    "    return ChemicalConstantsPackage.constants_from_IDs([cas]).names[0]\n",
    "\n",
    "def name_to_cas(name):\n",
    "    if not isinstance(name, str):\n",
    "        raise ValueError(\"Input must be a string\")    \n",
    "    return ChemicalConstantsPackage.constants_from_IDs([name]).CASs[0]\n",
    "\n",
    "def F_to_R(F):\n",
    "    return F + 459.67\n",
    "\n",
    "def R_to_F(R):\n",
    "    return R - 459.67\n",
    "\n",
    "def C_to_K(C):\n",
    "    return C + 273.15\n",
    "\n",
    "def F_to_C(F):\n",
    "    return (F - 32) * 5 / 9\n",
    "\n",
    "def K_to_C(K):\n",
    "    return K - 273.15\n",
    "\n",
    "def gal_to_bbl(gal):\n",
    "    return gal / 42\n",
    "\n",
    "def bbl_to_gal(bbl):\n",
    "    return bbl * 42\n",
    "\n",
    "def psi_to_Pa(psi):\n",
    "    return psi * 6894.745\n",
    "\n",
    "def Pa_to_psi(pa):\n",
    "    return pa / 6894.745\n",
    "\n",
    "def F_to_K(F):\n",
    "    return (F - 32) * 5/9 + 273.15\n",
    "\n",
    "def K_to_F(K):\n",
    "    return (K - 273.15) * 1.8 + 32"
   ]
  },
  {
   "cell_type": "markdown",
   "id": "b716ffd7",
   "metadata": {},
   "source": [
    "https://thermo.readthedocs.io/index.html#\n",
    "\n",
    "https://thermo.readthedocs.io/thermo.mixture.html\n",
    "\n",
    "https://chemicals.readthedocs.io/chemicals.vapor_pressure.html#vapor-pressure-estimation-correlations"
   ]
  },
  {
   "cell_type": "markdown",
   "id": "f546c7af",
   "metadata": {},
   "source": [
    "# Gas viscosity always works.\n",
    "# Liquid viscosity seems to work at any Temperature @14.7 psia\n",
    "\n",
    "Dynamic viscosity works for all T and P for pure compound. It's not affected by pressure\n",
    "\n",
    "But for more than 1 compounds, pressure affects viscosity\n",
    "\n",
    "# "
   ]
  },
  {
   "cell_type": "code",
   "execution_count": null,
   "id": "663fda8f",
   "metadata": {},
   "outputs": [],
   "source": []
  },
  {
   "cell_type": "code",
   "execution_count": 5,
   "id": "70b50f18",
   "metadata": {},
   "outputs": [],
   "source": [
    "constants, properties = ChemicalConstantsPackage.from_IDs(['propylene glycol', 'Glycerol', 'Water'])"
   ]
  },
  {
   "cell_type": "code",
   "execution_count": null,
   "id": "685f8504",
   "metadata": {},
   "outputs": [],
   "source": []
  },
  {
   "cell_type": "code",
   "execution_count": 7,
   "id": "1b41e5f4",
   "metadata": {},
   "outputs": [
    {
     "name": "stdout",
     "output_type": "stream",
     "text": [
      "Mole Frac Vapor           : 0.270 \n",
      "Mole Frac Light Liquid    : 0.730 \n",
      "Mole Frac Heavy Liquid    : 0.000\n",
      "\n",
      "Molecular Weight          : 59.525 \n",
      "Mass Density              : 160.840 [kg/m^3]\n",
      "Molar Density             : 2702.058 [mol/m^3]\n",
      "Compressibility           : 0.335 \n",
      "\n",
      "Molar Enthalpy            : -9028.932 [J/mol]\n",
      "Mass Enthalpy             : -151683.388 [J/kg]\n",
      "\n",
      "Molar Heat Capacity       : 162.223 [J/(mol*K)]\n",
      "Mass Heat Capacity        : 2725.305 [J/(kg*K)]\n",
      "\n",
      "Cp/Cv Ratio               : 1.271 \n",
      "Cp/Cv Ratio Ideal Gas     : 1.075 \n",
      "\n",
      "Dynamic Viscosity         : 0.00004456 [Pa*s]\n",
      "Dynamic Viscosity         : 0.04455621 [cP]\n",
      "Kinematic Viscosity       : 0.00000028 [m^2/s]\n",
      "Kinematic Viscosity       : 0.27702261 [cSt]\n",
      "\n",
      "Phase Count               : 2\n"
     ]
    }
   ],
   "source": [
    "from thermo import ChemicalConstantsPackage, CEOSGas, CEOSLiquid, SRKMIX, FlashVLN, PropertyCorrelationsPackage, HeatCapacityGas\n",
    "from thermo import FlashVL\n",
    "from thermo.interaction_parameters import IPDB\n",
    "import pint\n",
    "\n",
    "comp = dict([\n",
    "    ('methane', 0.2), \n",
    "    ('propane', 0.3),\n",
    "    ('hexane', .5),\n",
    "    ('water', 0.0),\n",
    "])\n",
    "\n",
    "total_comp = sum(comp.values())\n",
    "if total_comp > 1:\n",
    "    comp = {k: v / total_comp for k, v in comp.items()}\n",
    "zs = list(comp.values())\n",
    "    \n",
    "constants, properties = ChemicalConstantsPackage.from_IDs(comp.keys())\n",
    "kijs = IPDB.get_ip_asymmetric_matrix('ChemSep PR', constants.CASs, 'kij')\n",
    "\n",
    "eos_kwargs = dict(Tcs=constants.Tcs, Pcs=constants.Pcs, omegas=constants.omegas, kijs=kijs)\n",
    "gas = CEOSGas(SRKMIX, eos_kwargs, HeatCapacityGases=properties.HeatCapacityGases)\n",
    "liq = CEOSLiquid(SRKMIX, eos_kwargs, HeatCapacityGases=properties.HeatCapacityGases)\n",
    "flashN = FlashVLN(constants, properties, liquids=[liq, liq], gas=gas) # if dealing with water, fill [liq, liq] twice.\n",
    "                  \n",
    "    \n",
    "T = F_to_K(200)\n",
    "#T = C_to_K(40)\n",
    "\n",
    "P = psi_to_Pa(400)\n",
    "                  \n",
    "res = flashN.flash(T=T, P=P, zs=zs)\n",
    "\n",
    "if res.phase_count == 3:\n",
    "    gas_frac = res.betas[0]\n",
    "    light_liq_frac = res.betas[1]\n",
    "    heavy_liq_frac = res.betas[2]\n",
    "elif res.phase_count == 2:\n",
    "    gas_frac = res.betas[0]\n",
    "    light_liq_frac = res.betas[1]\n",
    "    heavy_liq_frac = 0\n",
    "elif res.phase_count == 1:\n",
    "    gas_frac = res.VF\n",
    "    light_liq_frac = res.LF\n",
    "    heavy_liq_frac = 0    \n",
    "\n",
    "ureg = pint.UnitRegistry()\n",
    "    \n",
    "print('Mole Frac Vapor           : %.3f %s' % (gas_frac, ''))\n",
    "print('Mole Frac Light Liquid    : %.3f %s' % (light_liq_frac, ''))\n",
    "try:\n",
    "    print('Mole Frac Heavy Liquid    : %.3f' % heavy_liq_frac)  # need to ensure that the phase count =< 3\n",
    "except:\n",
    "    pass\n",
    "print()\n",
    "print('Molecular Weight          : %.3f %s' % (res.MW(), ''))\n",
    "print('Mass Density              : %.3f %s' % (res.rho_mass(), '[kg/m^3]')) \n",
    "print('Molar Density             : %.3f %s' % (res.rho(), '[mol/m^3]')) \n",
    "print('Compressibility           : %.3f %s' % (res.Z(), ''))\n",
    "print()\n",
    "print('Molar Enthalpy            : %.3f %s' % (res.H(), '[J/mol]'))\n",
    "print('Mass Enthalpy             : %.3f %s' % (res.H_mass(), '[J/kg]'))\n",
    "print()\n",
    "print('Molar Heat Capacity       : %.3f %s' % (res.Cp(), '[J/(mol*K)]'))\n",
    "print('Mass Heat Capacity        : %.3f %s' % (res.Cp_mass(), '[J/(kg*K)]'))\n",
    "print()\n",
    "print('Cp/Cv Ratio               : %.3f %s' % (res.Cp_Cv_ratio(), ''))\n",
    "print('Cp/Cv Ratio Ideal Gas     : %.3f %s' % (res.Cp_Cv_ratio_ideal_gas(), ''))\n",
    "print()\n",
    "print('Dynamic Viscosity         : %.8f %s' % (res.mu(), '[Pa*s]'))\n",
    "mu_cP = ureg('%.15f pascal * second' % res.mu()).to('centipoise')._magnitude\n",
    "print('Dynamic Viscosity         : %.8f %s' % (mu_cP, '[cP]'))\n",
    "\n",
    "print('Kinematic Viscosity       : %.8f %s' % (res.kinematic_viscosity(), '[m^2/s]'))\n",
    "mu_cSt = ureg('%.15f m^2 / second' % res.nu()).to('centistokes')._magnitude\n",
    "print('Kinematic Viscosity       : %.8f %s' % (mu_cSt , '[cSt]'))\n",
    "print()\n",
    "print('Phase Count               : %s' % res.phase_count)"
   ]
  },
  {
   "cell_type": "code",
   "execution_count": 8,
   "id": "b168dead",
   "metadata": {},
   "outputs": [
    {
     "data": {
      "text/plain": [
       "[[0.0, 0.0119, 0.04, 0],\n",
       " [0.0119, 0.0, 0.0007, 0],\n",
       " [0.04, 0.0007, 0.0, 0],\n",
       " [0, 0, 0, 0.0]]"
      ]
     },
     "execution_count": 8,
     "metadata": {},
     "output_type": "execute_result"
    }
   ],
   "source": [
    "kijs"
   ]
  },
  {
   "cell_type": "code",
   "execution_count": null,
   "id": "95e8694b",
   "metadata": {},
   "outputs": [],
   "source": []
  },
  {
   "cell_type": "code",
   "execution_count": null,
   "id": "fba60705",
   "metadata": {},
   "outputs": [],
   "source": []
  },
  {
   "cell_type": "code",
   "execution_count": null,
   "id": "7a3909a0",
   "metadata": {},
   "outputs": [],
   "source": []
  },
  {
   "cell_type": "code",
   "execution_count": null,
   "id": "00e785a7",
   "metadata": {},
   "outputs": [],
   "source": []
  },
  {
   "cell_type": "code",
   "execution_count": null,
   "id": "eb17c25e",
   "metadata": {},
   "outputs": [],
   "source": [
    "flashN.flash(T=T, P=P, zs=zs)"
   ]
  },
  {
   "cell_type": "code",
   "execution_count": 65,
   "id": "b6297df2",
   "metadata": {},
   "outputs": [
    {
     "data": {
      "image/png": "[encoded data removed]",
      "text/plain": [
       "<Figure size 640x480 with 1 Axes>"
      ]
     },
     "metadata": {},
     "output_type": "display_data"
    },
    {
     "data": {
      "image/png": "[encoded data removed]",
      "text/plain": [
       "<Figure size 640x480 with 1 Axes>"
      ]
     },
     "execution_count": 65,
     "metadata": {},
     "output_type": "execute_result"
    }
   ],
   "source": [
    "flashN.plot_TP(zs=zs)"
   ]
  },
  {
   "cell_type": "code",
   "execution_count": null,
   "id": "607467ec",
   "metadata": {},
   "outputs": [],
   "source": []
  },
  {
   "cell_type": "code",
   "execution_count": null,
   "id": "1f5aaf02",
   "metadata": {},
   "outputs": [],
   "source": []
  },
  {
   "cell_type": "code",
   "execution_count": null,
   "id": "a08f7cf5",
   "metadata": {},
   "outputs": [],
   "source": []
  },
  {
   "cell_type": "code",
   "execution_count": null,
   "id": "57b51cb9",
   "metadata": {},
   "outputs": [],
   "source": []
  },
  {
   "cell_type": "code",
   "execution_count": null,
   "id": "cdeec206",
   "metadata": {},
   "outputs": [],
   "source": []
  },
  {
   "cell_type": "code",
   "execution_count": null,
   "id": "cf8903ed",
   "metadata": {},
   "outputs": [],
   "source": []
  },
  {
   "cell_type": "code",
   "execution_count": null,
   "id": "02b270b5",
   "metadata": {},
   "outputs": [],
   "source": []
  },
  {
   "cell_type": "code",
   "execution_count": 204,
   "id": "53665220",
   "metadata": {},
   "outputs": [],
   "source": [
    "from thermo import ChemicalConstantsPackage, CEOSGas, CEOSLiquid, SRKMIX, FlashVLN, PropertyCorrelationsPackage, HeatCapacityGas\n",
    "from thermo import FlashVL\n",
    "\n",
    "comp = dict([\n",
    "    ('methane', 0.0), \n",
    "    ('propane', 0.0),\n",
    "    ('hexane', 1.00),\n",
    "    ('water', 0.0),\n",
    "])\n",
    "\n",
    "total_comp = sum(comp.values())\n",
    "if total_comp > 1:\n",
    "    comp = {k: v / total_comp for k, v in comp.items()}\n",
    "    \n",
    "constants, properties = ChemicalConstantsPackage.from_IDs(comp.keys())\n",
    "kijs = IPDB.get_ip_asymmetric_matrix('ChemSep PR', constants.CASs, 'kij')\n",
    "\n",
    "eos_kwargs = dict(Tcs=constants.Tcs, Pcs=constants.Pcs, omegas=constants.omegas, kijs=kijs)\n",
    "gas = CEOSGas(SRKMIX, eos_kwargs, HeatCapacityGases=properties.HeatCapacityGases)\n",
    "liq = CEOSLiquid(SRKMIX, eos_kwargs, HeatCapacityGases=properties.HeatCapacityGases)\n",
    "flashN = FlashVLN(constants, properties, liquids=[liq, liq], gas=gas) # if dealing with water, fill [liq, liq] twice."
   ]
  },
  {
   "cell_type": "code",
   "execution_count": null,
   "id": "354046e8",
   "metadata": {},
   "outputs": [],
   "source": []
  },
  {
   "cell_type": "code",
   "execution_count": null,
   "id": "3ef3a041",
   "metadata": {},
   "outputs": [],
   "source": []
  },
  {
   "cell_type": "code",
   "execution_count": 205,
   "id": "ce15a653",
   "metadata": {},
   "outputs": [
    {
     "data": {
      "image/png": "[encoded data removed]",
      "text/plain": [
       "<Figure size 600x500 with 1 Axes>"
      ]
     },
     "metadata": {},
     "output_type": "display_data"
    }
   ],
   "source": [
    "Ts_orig = np.arange(100, 1010, 100)\n",
    "Ts = [F_to_K(T) for T in Ts_orig]\n",
    "Ps_orig = np.arange(10, 2000, 10)\n",
    "Ps = [psi_to_Pa(P) for P in Ps_orig]\n",
    "linears = []\n",
    "logs = []\n",
    "for T in Ts:\n",
    "    linears_isotherm = []\n",
    "    logs_isotherm = []\n",
    "    for P in Ps:\n",
    "        res = flashN.flash(T=T, P=P, zs=list(comp.values()))\n",
    "        \n",
    "        # liquid viscosity - LINEAR\n",
    "        b = thermo.viscosity.ViscosityLiquidMixture(ViscosityLiquids=res.ViscosityLiquids, correct_pressure_pure=True).calculate(\n",
    "            T=T, P=P, zs=res.zs, ws=res.ws(), method='LINEAR')\n",
    "        b = ureg('%.15f pascal * second' % b).to('centipoise')._magnitude\n",
    "        \n",
    "        # liquid viscosity - LOGARITHM\n",
    "        b1 = thermo.viscosity.ViscosityLiquidMixture(ViscosityLiquids=res.ViscosityLiquids, correct_pressure_pure=True).calculate(\n",
    "            T=T, P=P, zs=res.zs, ws=res.ws(), method='Logarithmic mixing, molar')\n",
    "        b1 = ureg('%.15f pascal * second' % b1).to('centipoise')._magnitude\n",
    "        \n",
    "        linears_isotherm.append(b)\n",
    "        logs_isotherm.append(b1)\n",
    "        \n",
    "    linears.append(linears_isotherm)\n",
    "    logs.append(logs_isotherm)\n",
    "\n",
    "colors = ['#1f77b4', '#ff7f0e', '#2ca02c', '#d62728', '#9467bd', '#8c564b', '#e377c2', '#7f7f7f', '#bcbd22', '#17becf']\n",
    "\n",
    "fig, ax = plt.subplots(figsize=(6, 5))\n",
    "\n",
    "for i, T in enumerate(Ts):\n",
    "    \n",
    "    ax.plot(Ps_orig, linears[i], color=colors[i])\n",
    "    ax.plot(Ps_orig, logs[i], linestyle='--', color=colors[i])\n",
    "    \n",
    "    ax.set_xlabel('Pressure [psia]')\n",
    "    ax.set_ylabel('Viscosity [cP]')\n",
    "    \n",
    "    ax.set_title(comp)\n",
    "    \n",
    "    ax.text(Ps_orig[1], linears[i][1] + 0.005, 'Linear: %dF' % K_to_F(T), color=colors[i])\n",
    "    ax.text(Ps_orig[-1], logs[i][1] + 0.005, 'Log: %dF' % K_to_F(T), color=colors[i], ha='right')\n",
    "\n",
    "fig.tight_layout()"
   ]
  },
  {
   "cell_type": "markdown",
   "id": "a4b8267c",
   "metadata": {},
   "source": []
  },
  {
   "cell_type": "code",
   "execution_count": 140,
   "id": "1e08b83d",
   "metadata": {},
   "outputs": [],
   "source": [
    "pure_comp = 'propane'\n",
    "comp = dict([\n",
    "    ('methane', 0.0), \n",
    "    ('propane', 0.0),\n",
    "    ('hexane', 1.00),\n",
    "    ('n-hexadecane', 0.00),\n",
    "    ('water', 0.0),\n",
    "])\n",
    "\n",
    "total_comp = sum(comp.values())\n",
    "if total_comp > 1:\n",
    "    comp = {k: v / total_comp for k, v in comp.items()}\n",
    "    \n",
    "constants, properties = ChemicalConstantsPackage.from_IDs(comp.keys())\n",
    "kijs = IPDB.get_ip_asymmetric_matrix('ChemSep PR', constants.CASs, 'kij')\n",
    "\n",
    "eos_kwargs = dict(Tcs=constants.Tcs, Pcs=constants.Pcs, omegas=constants.omegas, kijs=kijs)\n",
    "gas = CEOSGas(PRMIX, eos_kwargs, HeatCapacityGases=properties.HeatCapacityGases)\n",
    "liq = CEOSLiquid(PRMIX, eos_kwargs, HeatCapacityGases=properties.HeatCapacityGases)\n",
    "flashN = FlashVLN(constants, properties, liquids=[liq, liq], gas=gas) # if dealing with water, fill [liq, liq] twice.\n",
    "\n",
    "Ts_orig = np.arange(32, 500, 10)\n",
    "Ts = [F_to_K(T) for T in Ts_orig]\n",
    "\n",
    "Ps_orig = np.arange(14.7, 15, 500)\n",
    "Ps = [psi_to_Pa(P) for P in Ps_orig]\n",
    "\n",
    "linears = []\n",
    "logs = []\n",
    "VFs = []\n",
    "for P in Ps:\n",
    "    linears_isobar = []\n",
    "    logs_isobar = []\n",
    "    VFs_isobar = []\n",
    "    for T in Ts:\n",
    "        res = flashN.flash(T=T, P=P, zs=list(comp.values()))\n",
    "    \n",
    "        # liquid viscosity - LINEAR\n",
    "        b = ViscosityLiquidMixture(ViscosityLiquids=res.ViscosityLiquids, correct_pressure_pure=True).calculate(\n",
    "            T=T, P=P, zs=res.zs, ws=res.ws(), method='Logarithmic mixing, molar')\n",
    "        b = ureg('%.15f pascal * second' % b).to('centipoise')._magnitude\n",
    "        \n",
    "        # liquid viscosity - LOGRATITHMIC\n",
    "        b1 = ViscosityLiquidMixture(ViscosityLiquids=res.ViscosityLiquids, correct_pressure_pure=True).calculate(\n",
    "            T=T, P=P, zs=res.zs, ws=res.ws(), method='LINEAR')\n",
    "        b1 = ureg('%.15f pascal * second' % b1).to('centipoise')._magnitude\n",
    "            \n",
    "        linears_isobar.append(b)\n",
    "        logs_isobar.append(b1)\n",
    "        VFs_isobar.append(res.VF)\n",
    "        \n",
    "    linears.append(linears_isobar)\n",
    "    logs.append(logs_isobar)\n",
    "    VFs.append(VFs_isobar)"
   ]
  },
  {
   "cell_type": "code",
   "execution_count": 139,
   "id": "ad53544b",
   "metadata": {},
   "outputs": [
    {
     "data": {
      "image/png": "[encoded data removed]",
      "text/plain": [
       "<Figure size 800x400 with 2 Axes>"
      ]
     },
     "metadata": {},
     "output_type": "display_data"
    }
   ],
   "source": [
    "fig, axes = plt.subplots(1, 2, figsize=(8, 4))\n",
    "\n",
    "ax1 = axes[0]\n",
    "ax2 = axes[1]\n",
    "\n",
    "x = Ts_orig\n",
    "x = [F_to_K(item) for item in x]\n",
    "T_unit = 'K'\n",
    "\n",
    "for ax in axes:\n",
    "    ax.set_xlabel('Temperature [%s]' % T_unit)\n",
    "    ax.grid(True)\n",
    "    ax.spines['top'].set_visible(False)\n",
    "    ax.spines['right'].set_visible(False)\n",
    "\n",
    "ax1.set_ylabel('Viscosity [cP]')\n",
    "ax2.set_ylabel('Vapor Frac [%]')\n",
    "    \n",
    "for i, P in enumerate(Ps):\n",
    "    ax1.plot(x, linears[i], )\n",
    "    ax2.plot(x, VFs[i])\n",
    "\n",
    "    \n",
    "def setbold(txt):\n",
    "    return ' '.join([r\"$\\bf{\" + item + \"}$\" for item in txt.split(' ')])\n",
    "\n",
    "bold_txt = setbold('Dynamic Viscosity, ')\n",
    "plain_txt = str(comp)\n",
    "fig.suptitle(bold_txt + plain_txt, verticalalignment='top', x=0, horizontalalignment='left', fontsize=11)\n",
    "yloc = 0.9\n",
    "ax.annotate('', xy=(0.01, yloc + 0.01), xycoords='figure fraction', xytext=(1.02, yloc + 0.01),\n",
    "            arrowprops=dict(arrowstyle=\"-\", color='k', lw=0.7))\n",
    "\n",
    "fig.tight_layout()"
   ]
  },
  {
   "cell_type": "code",
   "execution_count": 113,
   "id": "2ef9a410",
   "metadata": {},
   "outputs": [
    {
     "data": {
      "text/plain": [
       "'V'"
      ]
     },
     "execution_count": 113,
     "metadata": {},
     "output_type": "execute_result"
    }
   ],
   "source": [
    "res.phase"
   ]
  },
  {
   "cell_type": "code",
   "execution_count": null,
   "id": "76404fe0",
   "metadata": {},
   "outputs": [],
   "source": []
  },
  {
   "cell_type": "code",
   "execution_count": null,
   "id": "f92cc367",
   "metadata": {},
   "outputs": [],
   "source": []
  },
  {
   "cell_type": "code",
   "execution_count": null,
   "id": "1b8937e6",
   "metadata": {},
   "outputs": [],
   "source": []
  },
  {
   "cell_type": "code",
   "execution_count": 69,
   "id": "4e8cbee8",
   "metadata": {},
   "outputs": [
    {
     "data": {
      "text/plain": [
       "array([ 100,  200,  300,  400,  500,  600,  700,  800,  900, 1000])"
      ]
     },
     "execution_count": 69,
     "metadata": {},
     "output_type": "execute_result"
    }
   ],
   "source": [
    "np.arange(100, 1010, 100)"
   ]
  },
  {
   "cell_type": "code",
   "execution_count": 71,
   "id": "ab477f78",
   "metadata": {},
   "outputs": [
    {
     "data": {
      "text/plain": [
       "array([  10,   20,   30,   40,   50,   60,   70,   80,   90,  100,  110,\n",
       "        120,  130,  140,  150,  160,  170,  180,  190,  200,  210,  220,\n",
       "        230,  240,  250,  260,  270,  280,  290,  300,  310,  320,  330,\n",
       "        340,  350,  360,  370,  380,  390,  400,  410,  420,  430,  440,\n",
       "        450,  460,  470,  480,  490,  500,  510,  520,  530,  540,  550,\n",
       "        560,  570,  580,  590,  600,  610,  620,  630,  640,  650,  660,\n",
       "        670,  680,  690,  700,  710,  720,  730,  740,  750,  760,  770,\n",
       "        780,  790,  800,  810,  820,  830,  840,  850,  860,  870,  880,\n",
       "        890,  900,  910,  920,  930,  940,  950,  960,  970,  980,  990,\n",
       "       1000, 1010, 1020, 1030, 1040, 1050, 1060, 1070, 1080, 1090, 1100,\n",
       "       1110, 1120, 1130, 1140, 1150, 1160, 1170, 1180, 1190, 1200, 1210,\n",
       "       1220, 1230, 1240, 1250, 1260, 1270, 1280, 1290, 1300, 1310, 1320,\n",
       "       1330, 1340, 1350, 1360, 1370, 1380, 1390, 1400, 1410, 1420, 1430,\n",
       "       1440, 1450, 1460, 1470, 1480, 1490, 1500, 1510, 1520, 1530, 1540,\n",
       "       1550, 1560, 1570, 1580, 1590, 1600, 1610, 1620, 1630, 1640, 1650,\n",
       "       1660, 1670, 1680, 1690, 1700, 1710, 1720, 1730, 1740, 1750, 1760,\n",
       "       1770, 1780, 1790, 1800, 1810, 1820, 1830, 1840, 1850, 1860, 1870,\n",
       "       1880, 1890, 1900, 1910, 1920, 1930, 1940, 1950, 1960, 1970, 1980,\n",
       "       1990])"
      ]
     },
     "execution_count": 71,
     "metadata": {},
     "output_type": "execute_result"
    }
   ],
   "source": [
    "np.arange(10, 2000, 10)"
   ]
  },
  {
   "cell_type": "code",
   "execution_count": null,
   "id": "ab554be3",
   "metadata": {},
   "outputs": [],
   "source": []
  },
  {
   "cell_type": "code",
   "execution_count": null,
   "id": "4d0375cd",
   "metadata": {},
   "outputs": [],
   "source": []
  },
  {
   "cell_type": "markdown",
   "id": "224934bf",
   "metadata": {},
   "source": [
    "# Phase Envelope"
   ]
  },
  {
   "cell_type": "code",
   "execution_count": 55,
   "id": "21f807d9",
   "metadata": {},
   "outputs": [
    {
     "data": {
      "image/png": "[encoded data removed]",
      "text/plain": [
       "<Figure size 640x480 with 1 Axes>"
      ]
     },
     "metadata": {},
     "output_type": "display_data"
    }
   ],
   "source": [
    "import numpy as np\n",
    "import pandas as pd\n",
    "import thermo\n",
    "import chemicals\n",
    "from thermo import ChemicalConstantsPackage, PRMIX, CEOSLiquid, CEOSGas, FlashPureVLS, VaporPressure, PropertyCorrelationsPackage\n",
    "from thermo import FlashVLN, ViscosityLiquidMixture, ViscosityGasMixture, SurfaceTensionMixture\n",
    "import matplotlib.pyplot as plt\n",
    "from thermo.interaction_parameters import IPDB\n",
    "import pint\n",
    "\n",
    "ureg = pint.UnitRegistry()\n",
    "\n",
    "pure_comp = 'propane'\n",
    "comp = dict([\n",
    "    ('methane', 6.0), \n",
    "    ('propane', 2.00),\n",
    "    ('hexane', 2.0),\n",
    "    ('n-hexadecane', 0.00),\n",
    "    ('water', 0.0),\n",
    "])\n",
    "\n",
    "total_comp = sum(comp.values())\n",
    "if total_comp > 1:\n",
    "    comp = {k: v / total_comp for k, v in comp.items()}\n",
    "    \n",
    "constants, properties = ChemicalConstantsPackage.from_IDs(comp.keys())\n",
    "kijs = IPDB.get_ip_asymmetric_matrix('ChemSep PR', constants.CASs, 'kij')\n",
    "\n",
    "eos_kwargs = dict(Tcs=constants.Tcs, Pcs=constants.Pcs, omegas=constants.omegas, kijs=kijs)\n",
    "gas = CEOSGas(PRMIX, eos_kwargs, HeatCapacityGases=properties.HeatCapacityGases)\n",
    "liq = CEOSLiquid(PRMIX, eos_kwargs, HeatCapacityGases=properties.HeatCapacityGases)\n",
    "flashN = FlashVLN(constants, properties, liquids=[liq, liq], gas=gas) # if dealing with water, fill [liq, liq] twice.\n",
    "\n",
    "zs = list(comp.values())\n",
    "\n",
    "res = flashN.flash(T=200, P=psi_to_Pa(100), zs=zs)\n",
    "\n",
    "fig_ = flashN.plot_TP(zs, Tmin=40, Tmax=130, show=True);"
   ]
  },
  {
   "cell_type": "code",
   "execution_count": 47,
   "id": "556dcb1c",
   "metadata": {},
   "outputs": [
    {
     "data": {
      "image/png": "[encoded data removed]",
      "text/plain": [
       "<Figure size 600x400 with 1 Axes>"
      ]
     },
     "metadata": {},
     "output_type": "display_data"
    }
   ],
   "source": [
    "ax_ = fig_.axes[0]\n",
    "\n",
    "x1 = ax_.lines[0].get_xdata()\n",
    "x2 = ax_.lines[1].get_xdata()\n",
    "y1 = ax_.lines[0].get_ydata()\n",
    "y1 = [Pa_to_psi(item) for item in y1]\n",
    "y2 = ax_.lines[1].get_ydata()\n",
    "y2 = [Pa_to_psi(item) for item in y2]\n",
    "\n",
    "\n",
    "fig, ax = plt.subplots(figsize=(6, 4))\n",
    "\n",
    "ax.plot(x1, y1)\n",
    "ax.plot(x2, y2)\n",
    "\n",
    "fig.tight_layout()"
   ]
  },
  {
   "cell_type": "code",
   "execution_count": 52,
   "id": "580be0c8",
   "metadata": {},
   "outputs": [
    {
     "data": {
      "text/plain": [
       "132.39864"
      ]
     },
     "execution_count": 52,
     "metadata": {},
     "output_type": "execute_result"
    }
   ],
   "source": [
    "res.pseudo_Tc()"
   ]
  },
  {
   "cell_type": "code",
   "execution_count": null,
   "id": "4a044e52",
   "metadata": {},
   "outputs": [],
   "source": []
  },
  {
   "cell_type": "code",
   "execution_count": null,
   "id": "113f22aa",
   "metadata": {},
   "outputs": [],
   "source": []
  },
  {
   "cell_type": "code",
   "execution_count": null,
   "id": "03c27375",
   "metadata": {},
   "outputs": [],
   "source": []
  },
  {
   "cell_type": "code",
   "execution_count": 42,
   "id": "b9a3478c",
   "metadata": {},
   "outputs": [
    {
     "data": {
      "text/plain": [
       "array([1.53758679e+00, 4.26808252e+00, 1.07913193e+01, 2.51388355e+01,\n",
       "       5.44824970e+01, 1.10764006e+02, 2.12739200e+02, 3.88381674e+02,\n",
       "       6.77541364e+02, 1.13471683e+03, 1.83178114e+03, 2.86050256e+03,\n",
       "       4.33472138e+03, 6.39207718e+03, 9.19522200e+03, 1.29324968e+04,\n",
       "       1.78180865e+04, 2.40916993e+04, 3.20178383e+04, 4.18847452e+04,\n",
       "       5.40031011e+04, 6.87045656e+04, 8.63402322e+04, 1.07279065e+05,\n",
       "       1.31906376e+05, 1.60622378e+05, 1.93840868e+05, 2.31988048e+05,\n",
       "       2.75501510e+05, 3.24829404e+05, 3.80429796e+05, 4.42770219e+05,\n",
       "       5.12327430e+05, 5.89587390e+05, 6.75045465e+05, 7.69206881e+05,\n",
       "       8.72587470e+05, 9.85714732e+05, 1.10912932e+06, 1.24338704e+06,\n",
       "       1.38906157e+06, 1.54674817e+06, 1.71706893e+06, 1.90068046e+06,\n",
       "       2.09828568e+06, 2.31065329e+06, 2.53865271e+06, 2.78332476e+06,\n",
       "       3.04605171e+06, 3.32909995e+06])"
      ]
     },
     "execution_count": 42,
     "metadata": {},
     "output_type": "execute_result"
    }
   ],
   "source": [
    "ax_.lines[0].get_ydata()"
   ]
  },
  {
   "cell_type": "code",
   "execution_count": 43,
   "id": "cf5bf745",
   "metadata": {},
   "outputs": [
    {
     "data": {
      "text/plain": [
       "[1537586.7878208049,\n",
       " 4268082.515838029,\n",
       " 10791319.294612266,\n",
       " 25138835.511975434,\n",
       " 54482496.95998367,\n",
       " 110764005.62197381,\n",
       " 212739200.33068892,\n",
       " 388381674.00359166,\n",
       " 677541364.113178,\n",
       " 1134716833.8975966,\n",
       " 1831781135.1887622,\n",
       " 2860502557.8402495,\n",
       " 4334721381.917475,\n",
       " 6392077176.956297,\n",
       " 9195222002.24553,\n",
       " 12932496829.122028,\n",
       " 17818086513.91268,\n",
       " 24091699276.22171,\n",
       " 32017838254.681534,\n",
       " 41884745236.1309,\n",
       " 54003101103.365555,\n",
       " 68704565566.78286,\n",
       " 86340232198.66055,\n",
       " 107279065451.65706,\n",
       " 131906375729.59831,\n",
       " 160622377862.43616,\n",
       " 193840868350.4106,\n",
       " 231988048018.54324,\n",
       " 275501509561.40173,\n",
       " 324829403999.06305,\n",
       " 380429796352.6773,\n",
       " 442770218899.8142,\n",
       " 512327430232.62836,\n",
       " 589587390159.827,\n",
       " 675045464585.9542,\n",
       " 769206881482.6626,\n",
       " 872587470038.6459,\n",
       " 985714731969.769,\n",
       " 1109129320184.294,\n",
       " 1243387041614.4673,\n",
       " 1389061569298.996,\n",
       " 1546748165431.7515,\n",
       " 1717068926117.3914,\n",
       " 1900680455063.12,\n",
       " 2098285678595.828,\n",
       " 2310653292893.1553,\n",
       " 2538652707576.485,\n",
       " 2783324760154.1704,\n",
       " 3046051711637.06,\n",
       " 3329099945443.1006]"
      ]
     },
     "execution_count": 43,
     "metadata": {},
     "output_type": "execute_result"
    }
   ],
   "source": [
    "[conv(item) for item in y1]"
   ]
  },
  {
   "cell_type": "code",
   "execution_count": null,
   "id": "bb4e3a19",
   "metadata": {},
   "outputs": [],
   "source": []
  },
  {
   "cell_type": "code",
   "execution_count": null,
   "id": "dda039da",
   "metadata": {},
   "outputs": [],
   "source": []
  },
  {
   "cell_type": "code",
   "execution_count": null,
   "id": "0761aec8",
   "metadata": {},
   "outputs": [],
   "source": []
  },
  {
   "cell_type": "code",
   "execution_count": 185,
   "id": "f80f3d29",
   "metadata": {},
   "outputs": [],
   "source": [
    "temp = [\n",
    "    thermo.viscosity.ViscosityGas(CASRN=name_to_cas('methane')),\n",
    "    thermo.viscosity.ViscosityGas(CASRN=name_to_cas('propane')),\n",
    "    thermo.viscosity.ViscosityGas(CASRN=name_to_cas('hexane')),\n",
    "    thermo.viscosity.ViscosityGas(CASRN=name_to_cas('water')),\n",
    "]"
   ]
  },
  {
   "cell_type": "code",
   "execution_count": null,
   "id": "66775e05",
   "metadata": {},
   "outputs": [],
   "source": []
  },
  {
   "cell_type": "code",
   "execution_count": null,
   "id": "176883b6",
   "metadata": {},
   "outputs": [],
   "source": [
    "search_chemical('water')"
   ]
  },
  {
   "cell_type": "markdown",
   "id": "eef8cbdc",
   "metadata": {},
   "source": [
    "# Vapor Pressures"
   ]
  },
  {
   "cell_type": "code",
   "execution_count": 1,
   "id": "81094f15",
   "metadata": {},
   "outputs": [],
   "source": [
    "def cas_to_name(cas):\n",
    "    if not isinstance(cas, str):\n",
    "        raise ValueError(\"Input must be a string\")    \n",
    "    return ChemicalConstantsPackage.constants_from_IDs([cas]).names[0]\n",
    "\n",
    "def name_to_cas(name):\n",
    "    if not isinstance(name, str):\n",
    "        raise ValueError(\"Input must be a string\")    \n",
    "    return ChemicalConstantsPackage.constants_from_IDs([name]).CASs[0]"
   ]
  },
  {
   "cell_type": "code",
   "execution_count": 112,
   "id": "b4d6a15f",
   "metadata": {},
   "outputs": [
    {
     "name": "stdout",
     "output_type": "stream",
     "text": [
      "methane:  1787.30 [psi]\n",
      "propane:  92.61 [psi]\n",
      "hexane:  1.47 [psi]\n",
      "oxidane:  0.12 [psi]\n"
     ]
    }
   ],
   "source": [
    "for compound in res.VaporPressures:\n",
    "    casrn = compound.CASRN\n",
    "    chem_obj = thermo.Chemical(casrn)\n",
    "    chem_name = chem_obj.IUPAC_name\n",
    "    chem_formula = chem_obj.formula\n",
    "    Vp = Pa_to_psi(compound.calculate(T, method='SANJARI'))\n",
    "    print('%s:  %.2f [psi]' % (chem_name, Vp))"
   ]
  },
  {
   "cell_type": "code",
   "execution_count": 150,
   "id": "c7bfe183",
   "metadata": {},
   "outputs": [
    {
     "data": {
      "text/plain": [
       "'74-82-8'"
      ]
     },
     "execution_count": 150,
     "metadata": {},
     "output_type": "execute_result"
    }
   ],
   "source": [
    "res.VaporPressures[0].CASRN"
   ]
  },
  {
   "cell_type": "code",
   "execution_count": 247,
   "id": "780ddae9",
   "metadata": {},
   "outputs": [
    {
     "data": {
      "text/plain": [
       "9.446915775289704e-06"
      ]
     },
     "execution_count": 247,
     "metadata": {},
     "output_type": "execute_result"
    }
   ],
   "source": [
    "thermo.viscosity.ViscosityGasMixture(ViscosityGases=res.ViscosityGases).calculate(T=T, P=P, zs=res.zs, ws=res.ws(), method='LINEAR')"
   ]
  },
  {
   "cell_type": "code",
   "execution_count": null,
   "id": "6bb378ef",
   "metadata": {},
   "outputs": [],
   "source": []
  },
  {
   "cell_type": "code",
   "execution_count": null,
   "id": "52808390",
   "metadata": {},
   "outputs": [],
   "source": []
  },
  {
   "cell_type": "code",
   "execution_count": 219,
   "id": "ce2c8972",
   "metadata": {},
   "outputs": [
    {
     "data": {
      "text/plain": [
       "0.0013053464984005233"
      ]
     },
     "execution_count": 219,
     "metadata": {},
     "output_type": "execute_result"
    }
   ],
   "source": [
    "thermo.viscosity.ViscosityLiquid(name_to_cas('water')).calculate(T=T, method='REFPROP_FIT')"
   ]
  },
  {
   "cell_type": "code",
   "execution_count": 218,
   "id": "96ec3fd9",
   "metadata": {},
   "outputs": [
    {
     "data": {
      "text/plain": [
       "0.00034726528766853204"
      ]
     },
     "execution_count": 218,
     "metadata": {},
     "output_type": "execute_result"
    }
   ],
   "source": [
    "thermo.viscosity.ViscosityLiquid(name_to_cas('hexane')).calculate(T=T, method='REFPROP_FIT')"
   ]
  },
  {
   "cell_type": "code",
   "execution_count": 244,
   "id": "c73a0d3c",
   "metadata": {},
   "outputs": [
    {
     "data": {
      "text/plain": [
       "6.159719452745319e-05"
      ]
     },
     "execution_count": 244,
     "metadata": {},
     "output_type": "execute_result"
    }
   ],
   "source": [
    "thermo.viscosity.ViscosityLiquidMixture(ViscosityLiquids=res.ViscosityLiquids).calculate(T=T, P=P, zs=res.zs, ws=res.ws(), method='Logarithmic mixing, molar')"
   ]
  },
  {
   "cell_type": "code",
   "execution_count": 245,
   "id": "8906d696",
   "metadata": {},
   "outputs": [
    {
     "data": {
      "text/plain": [
       "0.00016538870436184645"
      ]
     },
     "execution_count": 245,
     "metadata": {},
     "output_type": "execute_result"
    }
   ],
   "source": [
    "thermo.viscosity.ViscosityLiquidMixture(ViscosityLiquids=res.ViscosityLiquids).calculate(T=T, P=P, zs=res.zs, ws=res.ws(), method='LINEAR')"
   ]
  },
  {
   "cell_type": "code",
   "execution_count": null,
   "id": "7e90abb1",
   "metadata": {},
   "outputs": [],
   "source": []
  },
  {
   "cell_type": "code",
   "execution_count": null,
   "id": "8e471acc",
   "metadata": {},
   "outputs": [],
   "source": []
  },
  {
   "cell_type": "code",
   "execution_count": null,
   "id": "0d7307e7",
   "metadata": {},
   "outputs": [],
   "source": []
  },
  {
   "cell_type": "markdown",
   "id": "9daeca07",
   "metadata": {},
   "source": [
    "## Each component"
   ]
  },
  {
   "cell_type": "code",
   "execution_count": 192,
   "id": "ec9069bb",
   "metadata": {},
   "outputs": [
    {
     "data": {
      "text/plain": [
       "[16.04246, 44.09562, 86.17536, 18.01528]"
      ]
     },
     "execution_count": 192,
     "metadata": {},
     "output_type": "execute_result"
    }
   ],
   "source": [
    "# Molecular weight\n",
    "res.MWs"
   ]
  },
  {
   "cell_type": "code",
   "execution_count": 67,
   "id": "2f278865",
   "metadata": {},
   "outputs": [
    {
     "data": {
      "text/plain": [
       "[0.02597294633980149,\n",
       " 0.2873212862089624,\n",
       " 0.45442476641378193,\n",
       " 0.23228100103745417]"
      ]
     },
     "execution_count": 67,
     "metadata": {},
     "output_type": "execute_result"
    }
   ],
   "source": [
    "# liquid-phase only composition\n",
    "res.liquid_zs"
   ]
  },
  {
   "cell_type": "code",
   "execution_count": 68,
   "id": "308285fe",
   "metadata": {},
   "outputs": [
    {
     "data": {
      "text/plain": [
       "[0.0334961800776463,\n",
       " 0.3705513435994461,\n",
       " 0.5860607124452865,\n",
       " 0.00989176387762124]"
      ]
     },
     "execution_count": 68,
     "metadata": {},
     "output_type": "execute_result"
    }
   ],
   "source": [
    "# light-liquid only composition\n",
    "res.lightest_liquid.zs"
   ]
  },
  {
   "cell_type": "code",
   "execution_count": 69,
   "id": "32364e39",
   "metadata": {},
   "outputs": [
    {
     "data": {
      "text/plain": [
       "[1.7444222273532208e-06,\n",
       " 7.548731242040851e-08,\n",
       " 1.7496733398261244e-13,\n",
       " 0.999998180090286]"
      ]
     },
     "execution_count": 69,
     "metadata": {},
     "output_type": "execute_result"
    }
   ],
   "source": [
    "# heavy-liquid only composition\n",
    "res.heaviest_liquid.zs"
   ]
  },
  {
   "cell_type": "code",
   "execution_count": 71,
   "id": "a14b678a",
   "metadata": {},
   "outputs": [
    {
     "data": {
      "text/plain": [
       "0.5725377479975445"
      ]
     },
     "execution_count": 71,
     "metadata": {},
     "output_type": "execute_result"
    }
   ],
   "source": [
    "# gas mole fraction\n",
    "res.gas_beta"
   ]
  },
  {
   "cell_type": "code",
   "execution_count": 208,
   "id": "04e756a1",
   "metadata": {},
   "outputs": [
    {
     "data": {
      "text/plain": [
       "[16.04246, 44.09562, 86.17536, 18.01528]"
      ]
     },
     "execution_count": 208,
     "metadata": {},
     "output_type": "execute_result"
    }
   ],
   "source": [
    "# mixture mole fraction\n",
    "res.MWs"
   ]
  },
  {
   "cell_type": "code",
   "execution_count": 209,
   "id": "1dc2d258",
   "metadata": {},
   "outputs": [
    {
     "data": {
      "text/plain": [
       "[0.16588954060865613,\n",
       " 0.3419831876464334,\n",
       " 0.44555482395423024,\n",
       " 0.046572447790680344]"
      ]
     },
     "execution_count": 209,
     "metadata": {},
     "output_type": "execute_result"
    }
   ],
   "source": [
    "# mixture mass fraction\n",
    "res.ws()"
   ]
  },
  {
   "cell_type": "code",
   "execution_count": null,
   "id": "c9ebd48b",
   "metadata": {},
   "outputs": [],
   "source": []
  },
  {
   "cell_type": "code",
   "execution_count": null,
   "id": "e63c47ae",
   "metadata": {},
   "outputs": [],
   "source": []
  },
  {
   "cell_type": "code",
   "execution_count": null,
   "id": "1909987f",
   "metadata": {},
   "outputs": [],
   "source": []
  },
  {
   "cell_type": "code",
   "execution_count": null,
   "id": "c28cd41a",
   "metadata": {},
   "outputs": [],
   "source": []
  },
  {
   "cell_type": "code",
   "execution_count": null,
   "id": "af4a4bf2",
   "metadata": {},
   "outputs": [],
   "source": []
  },
  {
   "cell_type": "code",
   "execution_count": 21,
   "id": "e973ae35",
   "metadata": {},
   "outputs": [
    {
     "ename": "TypeError",
     "evalue": "calculate() got an unexpected keyword argument 'zs'",
     "output_type": "error",
     "traceback": [
      "\u001b[1;31m---------------------------------------------------------------------------\u001b[0m",
      "\u001b[1;31mTypeError\u001b[0m                                 Traceback (most recent call last)",
      "\u001b[1;32m~\\AppData\\Local\\Temp\\ipykernel_29408\\282601776.py\u001b[0m in \u001b[0;36m<module>\u001b[1;34m\u001b[0m\n\u001b[1;32m----> 1\u001b[1;33m \u001b[0mres\u001b[0m\u001b[1;33m.\u001b[0m\u001b[0mViscosityLiquids\u001b[0m\u001b[1;33m[\u001b[0m\u001b[1;36m0\u001b[0m\u001b[1;33m]\u001b[0m\u001b[1;33m.\u001b[0m\u001b[0mcalculate\u001b[0m\u001b[1;33m(\u001b[0m\u001b[0mT\u001b[0m\u001b[1;33m,\u001b[0m \u001b[0mP\u001b[0m\u001b[1;33m,\u001b[0m \u001b[0mzs\u001b[0m\u001b[1;33m=\u001b[0m\u001b[0mcomp\u001b[0m\u001b[1;33m,\u001b[0m \u001b[0mws\u001b[0m\u001b[1;33m=\u001b[0m\u001b[0mcomp\u001b[0m\u001b[1;33m,\u001b[0m \u001b[0mmethod\u001b[0m\u001b[1;33m=\u001b[0m\u001b[1;34m'REFPROP_FIT'\u001b[0m\u001b[1;33m)\u001b[0m\u001b[1;33m\u001b[0m\u001b[1;33m\u001b[0m\u001b[0m\n\u001b[0m",
      "\u001b[1;31mTypeError\u001b[0m: calculate() got an unexpected keyword argument 'zs'"
     ]
    }
   ],
   "source": [
    "res.ViscosityLiquids[0].calculate(T, P, zs=comp, ws=comp, method='REFPROP_FIT')"
   ]
  },
  {
   "cell_type": "code",
   "execution_count": 18,
   "id": "5b62172c",
   "metadata": {},
   "outputs": [
    {
     "data": {
      "text/plain": [
       "4"
      ]
     },
     "execution_count": 18,
     "metadata": {},
     "output_type": "execute_result"
    }
   ],
   "source": [
    "len(res.ViscosityLiquids)"
   ]
  },
  {
   "cell_type": "code",
   "execution_count": 24,
   "id": "a22de463",
   "metadata": {},
   "outputs": [
    {
     "ename": "AttributeError",
     "evalue": "'ViscosityLiquidMixture' object has no attribute 'index_w'",
     "output_type": "error",
     "traceback": [
      "\u001b[1;31m---------------------------------------------------------------------------\u001b[0m",
      "\u001b[1;31mAttributeError\u001b[0m                            Traceback (most recent call last)",
      "\u001b[1;32m~\\AppData\\Local\\Temp\\ipykernel_29408\\3543687034.py\u001b[0m in \u001b[0;36m<module>\u001b[1;34m\u001b[0m\n\u001b[1;32m----> 1\u001b[1;33m \u001b[0mthermo\u001b[0m\u001b[1;33m.\u001b[0m\u001b[0mViscosityLiquidMixture\u001b[0m\u001b[1;33m(\u001b[0m\u001b[0mViscosityLiquids\u001b[0m\u001b[1;33m=\u001b[0m\u001b[0mres\u001b[0m\u001b[1;33m.\u001b[0m\u001b[0mViscosityLiquids\u001b[0m\u001b[1;33m)\u001b[0m\u001b[1;33m.\u001b[0m\u001b[0mcalculate\u001b[0m\u001b[1;33m(\u001b[0m\u001b[0mT\u001b[0m\u001b[1;33m,\u001b[0m \u001b[0mP\u001b[0m\u001b[1;33m,\u001b[0m \u001b[0mzs\u001b[0m\u001b[1;33m=\u001b[0m\u001b[0mcomp\u001b[0m\u001b[1;33m,\u001b[0m \u001b[0mws\u001b[0m\u001b[1;33m=\u001b[0m\u001b[0mcomp\u001b[0m\u001b[1;33m,\u001b[0m \u001b[0mmethod\u001b[0m\u001b[1;33m=\u001b[0m\u001b[1;34m'Laliberte'\u001b[0m\u001b[1;33m)\u001b[0m\u001b[1;33m\u001b[0m\u001b[1;33m\u001b[0m\u001b[0m\n\u001b[0m",
      "\u001b[1;32m~\\AppData\\Roaming\\Python\\Python39\\site-packages\\thermo\\viscosity.py\u001b[0m in \u001b[0;36mcalculate\u001b[1;34m(self, T, P, zs, ws, method)\u001b[0m\n\u001b[0;32m   1232\u001b[0m         \u001b[1;32mif\u001b[0m \u001b[0mmethod\u001b[0m \u001b[1;33m==\u001b[0m \u001b[0mLALIBERTE_MU\u001b[0m\u001b[1;33m:\u001b[0m\u001b[1;33m\u001b[0m\u001b[1;33m\u001b[0m\u001b[0m\n\u001b[0;32m   1233\u001b[0m             \u001b[0mws\u001b[0m \u001b[1;33m=\u001b[0m \u001b[0mlist\u001b[0m\u001b[1;33m(\u001b[0m\u001b[0mws\u001b[0m\u001b[1;33m)\u001b[0m\u001b[1;33m\u001b[0m\u001b[1;33m\u001b[0m\u001b[0m\n\u001b[1;32m-> 1234\u001b[1;33m             \u001b[0mws\u001b[0m\u001b[1;33m.\u001b[0m\u001b[0mpop\u001b[0m\u001b[1;33m(\u001b[0m\u001b[0mself\u001b[0m\u001b[1;33m.\u001b[0m\u001b[0mindex_w\u001b[0m\u001b[1;33m)\u001b[0m\u001b[1;33m\u001b[0m\u001b[1;33m\u001b[0m\u001b[0m\n\u001b[0m\u001b[0;32m   1235\u001b[0m             \u001b[1;32mreturn\u001b[0m \u001b[0mLaliberte_viscosity\u001b[0m\u001b[1;33m(\u001b[0m\u001b[0mT\u001b[0m\u001b[1;33m,\u001b[0m \u001b[0mws\u001b[0m\u001b[1;33m,\u001b[0m \u001b[0mself\u001b[0m\u001b[1;33m.\u001b[0m\u001b[0mwCASs\u001b[0m\u001b[1;33m)\u001b[0m\u001b[1;33m\u001b[0m\u001b[1;33m\u001b[0m\u001b[0m\n\u001b[0;32m   1236\u001b[0m         \u001b[1;32mreturn\u001b[0m \u001b[0msuper\u001b[0m\u001b[1;33m(\u001b[0m\u001b[1;33m)\u001b[0m\u001b[1;33m.\u001b[0m\u001b[0mcalculate\u001b[0m\u001b[1;33m(\u001b[0m\u001b[0mT\u001b[0m\u001b[1;33m,\u001b[0m \u001b[0mP\u001b[0m\u001b[1;33m,\u001b[0m \u001b[0mzs\u001b[0m\u001b[1;33m,\u001b[0m \u001b[0mws\u001b[0m\u001b[1;33m,\u001b[0m \u001b[0mmethod\u001b[0m\u001b[1;33m)\u001b[0m\u001b[1;33m\u001b[0m\u001b[1;33m\u001b[0m\u001b[0m\n",
      "\u001b[1;31mAttributeError\u001b[0m: 'ViscosityLiquidMixture' object has no attribute 'index_w'"
     ]
    }
   ],
   "source": [
    "thermo.ViscosityLiquidMixture(ViscosityLiquids=res.ViscosityLiquids).calculate(T, P, zs=comp, ws=comp, method='Laliberte')"
   ]
  },
  {
   "cell_type": "code",
   "execution_count": null,
   "id": "f8240584",
   "metadata": {},
   "outputs": [],
   "source": []
  },
  {
   "cell_type": "code",
   "execution_count": null,
   "id": "249eac6c",
   "metadata": {},
   "outputs": [],
   "source": []
  },
  {
   "cell_type": "code",
   "execution_count": null,
   "id": "5b3c25b0",
   "metadata": {},
   "outputs": [],
   "source": []
  },
  {
   "cell_type": "code",
   "execution_count": 244,
   "id": "df783378",
   "metadata": {},
   "outputs": [
    {
     "data": {
      "image/png": "[encoded data removed]",
      "text/plain": [
       "<Figure size 640x480 with 1 Axes>"
      ]
     },
     "metadata": {},
     "output_type": "display_data"
    }
   ],
   "source": [
    "flashN = FlashVL(constants, properties, liquid=liq, gas=gas)\n",
    "flashN.plot_TP(zs=list(comp.values()));"
   ]
  },
  {
   "cell_type": "code",
   "execution_count": null,
   "id": "2c82d249",
   "metadata": {},
   "outputs": [],
   "source": []
  },
  {
   "cell_type": "code",
   "execution_count": null,
   "id": "35cf8cc1",
   "metadata": {},
   "outputs": [],
   "source": []
  },
  {
   "cell_type": "markdown",
   "id": "b1f25958",
   "metadata": {},
   "source": [
    "# Unit Conversions"
   ]
  },
  {
   "cell_type": "code",
   "execution_count": 31,
   "id": "5604d640",
   "metadata": {},
   "outputs": [
    {
     "data": {
      "text/html": [
       "0.166488410009 centipoise"
      ],
      "text/latex": [
       "$0.166488410009\\ \\mathrm{centipoise}$"
      ],
      "text/plain": [
       "0.166488410009 <Unit('centipoise')>"
      ]
     },
     "execution_count": 31,
     "metadata": {},
     "output_type": "execute_result"
    }
   ],
   "source": [
    "import pint\n",
    "\n",
    "ureg = pint.UnitRegistry()\n",
    "ureg('0.000166488410009 pascal * second').to('centipoise')"
   ]
  },
  {
   "cell_type": "code",
   "execution_count": 30,
   "id": "01e2fb77",
   "metadata": {},
   "outputs": [
    {
     "data": {
      "text/plain": [
       "frozenset({<Unit('sound_pressure_level')>,\n",
       "           <Unit('barye')>,\n",
       "           <Unit('pascal')>,\n",
       "           <Unit('centimeter_H2O')>,\n",
       "           <Unit('torr')>,\n",
       "           <Unit('millimeter_Hg')>,\n",
       "           <Unit('inch_H2O_60F')>,\n",
       "           <Unit('inch_H2O_39F')>,\n",
       "           <Unit('centimeter_Hg')>,\n",
       "           <Unit('foot_H2O')>,\n",
       "           <Unit('inch_Hg_60F')>,\n",
       "           <Unit('inch_Hg')>,\n",
       "           <Unit('pound_force_per_square_inch')>,\n",
       "           <Unit('technical_atmosphere')>,\n",
       "           <Unit('bar')>,\n",
       "           <Unit('standard_atmosphere')>,\n",
       "           <Unit('kip_per_square_inch')>})"
      ]
     },
     "execution_count": 30,
     "metadata": {},
     "output_type": "execute_result"
    }
   ],
   "source": [
    "ureg.get_compatible_units('[pressure]')"
   ]
  },
  {
   "cell_type": "markdown",
   "id": "943bbd41",
   "metadata": {},
   "source": [
    "# Pseudos"
   ]
  },
  {
   "cell_type": "code",
   "execution_count": 73,
   "id": "fc90093c",
   "metadata": {},
   "outputs": [],
   "source": [
    "from scipy.constants import atm\n",
    "\n",
    "pseudos = ChemicalConstantsPackage(Tcs=[606.28,825.67], Pcs=[25.42*atm, 14.39*atm],\n",
    "                                   omegas=[0.4019, 0.7987], MWs=[140.0, 325.0])"
   ]
  },
  {
   "cell_type": "code",
   "execution_count": 43,
   "id": "140780c7",
   "metadata": {},
   "outputs": [
    {
     "name": "stdout",
     "output_type": "stream",
     "text": [
      "Tb =  [383.745753146]\n",
      "Tc =  [591.75]\n",
      "Pc =  [4126300.0]\n",
      "Omega =  [0.2657]\n",
      "Vp_chemicals =  0.2509015664559358\n"
     ]
    }
   ],
   "source": [
    "\n",
    "\n",
    "constants, correlations = ChemicalConstantsPackage.from_IDs(['toluene'])\n",
    "print('Tb = ', constants.Tbs)\n",
    "print('Tc = ', constants.Tcs)\n",
    "print('Pc = ', constants.Pcs)\n",
    "print('Omega = ', constants.omegas)\n",
    "\n",
    "T = 284.9278  # K, 52.3 F\n",
    "Vp = chemicals.vapor_pressure.Lee_Kesler(T, constants.Tcs[0], constants.Pcs[0], constants.omegas[0])\n",
    "Vp_chemicals = calc_pascal_to_psi(Vp)\n",
    "print('Vp_chemicals = ', Vp_chemicals)"
   ]
  },
  {
   "cell_type": "code",
   "execution_count": null,
   "id": "12615a70",
   "metadata": {},
   "outputs": [],
   "source": []
  },
  {
   "cell_type": "code",
   "execution_count": 44,
   "id": "986cd1c2",
   "metadata": {},
   "outputs": [
    {
     "name": "stdout",
     "output_type": "stream",
     "text": [
      "Vp_thermo =  0.2509015664559358\n"
     ]
    }
   ],
   "source": [
    "obj = VaporPressure(Pc=constants.Pcs[0], omega=constants.omegas[0], Tc=constants.Tcs[0])\n",
    "Vp_thermo = obj.calculate(T=T, method='LEE_KESLER_PSAT')\n",
    "Vp_thermo = calc_pascal_to_psi(Vp_thermo)\n",
    "print('Vp_thermo = ', Vp_thermo)"
   ]
  },
  {
   "cell_type": "code",
   "execution_count": null,
   "id": "9e68062c",
   "metadata": {},
   "outputs": [],
   "source": []
  },
  {
   "cell_type": "code",
   "execution_count": 102,
   "id": "cf380808",
   "metadata": {},
   "outputs": [],
   "source": [
    "constants, correlations = ChemicalConstantsPackage.from_IDs(['methane', 'hexane'])"
   ]
  },
  {
   "cell_type": "code",
   "execution_count": 123,
   "id": "e95cc32e",
   "metadata": {},
   "outputs": [
    {
     "data": {
      "text/plain": [
       "6020.4729857250395"
      ]
     },
     "execution_count": 123,
     "metadata": {},
     "output_type": "execute_result"
    }
   ],
   "source": [
    "from thermo import Mixture\n",
    "\n",
    "comp = dict([\n",
    "    ('methane', 0.5), \n",
    "    ('hexane', 0.5),\n",
    "])\n",
    "\n",
    "constants = ChemicalConstantsPackage.constants_from_IDs(comp.keys())\n",
    "\n",
    "T = calc_F_to_K(39.1)\n",
    "P = calc_psi_to_pascal(45)\n",
    "\n",
    "partial_Vps = []\n",
    "for i, (key, val) in enumerate(comp.items()):\n",
    "    Vp = VaporPressure(Pc=constants.Pcs[i], omega=constants.omegas[i], Tc=constants.Tcs[i]).calculate(T, 'LEE_KESLER_PSAT')\n",
    "    Vp = calc_pascal_to_psi(Vp)\n",
    "    partial_Vp = Vp * val\n",
    "    partial_Vps.append(partial_Vp)\n",
    "    \n",
    "total_Vp = sum(partial_Vps)\n",
    "#total_Vp = calc_pascal_to_psi(total_Vp)\n",
    "total_Vp"
   ]
  },
  {
   "cell_type": "code",
   "execution_count": null,
   "id": "2f63a662",
   "metadata": {},
   "outputs": [],
   "source": []
  },
  {
   "cell_type": "code",
   "execution_count": 149,
   "id": "325e36ce",
   "metadata": {},
   "outputs": [
    {
     "data": {
      "text/plain": [
       "0.950105401054541"
      ]
     },
     "execution_count": 149,
     "metadata": {},
     "output_type": "execute_result"
    }
   ],
   "source": [
    "from thermo import Mixture\n",
    "\n",
    "comp = dict([\n",
    "    ('benzene', 0.9), \n",
    "    ('toluene', 0.07),\n",
    "    ('cyclohexane', 0.03),\n",
    "])\n",
    "\n",
    "constants = ChemicalConstantsPackage.constants_from_IDs(comp.keys())\n",
    "\n",
    "T = calc_F_to_K(52.72)\n",
    "\n",
    "partial_Vps = []\n",
    "for i, (key, val) in enumerate(comp.items()):\n",
    "    Vp = VaporPressure(Pc=constants.Pcs[i], omega=constants.omegas[i], Tc=constants.Tcs[i]).calculate(T, 'SANJARI')\n",
    "    Vp = calc_pascal_to_psi(Vp)\n",
    "    partial_Vp = Vp * val\n",
    "    partial_Vps.append(partial_Vp)\n",
    "    \n",
    "total_Vp = sum(partial_Vps)\n",
    "#total_Vp = calc_pascal_to_psi(total_Vp)\n",
    "total_Vp"
   ]
  },
  {
   "cell_type": "code",
   "execution_count": 150,
   "id": "32b3852f",
   "metadata": {},
   "outputs": [
    {
     "data": {
      "text/plain": [
       "[4907277.0, 4126300.0, 4080500.0]"
      ]
     },
     "execution_count": 150,
     "metadata": {},
     "output_type": "execute_result"
    }
   ],
   "source": [
    "constants.Pcs"
   ]
  },
  {
   "cell_type": "code",
   "execution_count": 151,
   "id": "37e4ff9d",
   "metadata": {},
   "outputs": [
    {
     "data": {
      "text/plain": [
       "[562.02, 591.75, 553.6]"
      ]
     },
     "execution_count": 151,
     "metadata": {},
     "output_type": "execute_result"
    }
   ],
   "source": [
    "constants.Tcs"
   ]
  },
  {
   "cell_type": "code",
   "execution_count": 152,
   "id": "04e0554b",
   "metadata": {},
   "outputs": [
    {
     "data": {
      "text/plain": [
       "[0.211, 0.2657, 0.2096]"
      ]
     },
     "execution_count": 152,
     "metadata": {},
     "output_type": "execute_result"
    }
   ],
   "source": [
    "constants.omegas"
   ]
  },
  {
   "cell_type": "code",
   "execution_count": null,
   "id": "a7cf4ce2",
   "metadata": {},
   "outputs": [],
   "source": []
  },
  {
   "cell_type": "code",
   "execution_count": 234,
   "id": "2a266388",
   "metadata": {},
   "outputs": [
    {
     "name": "stdout",
     "output_type": "stream",
     "text": [
      "Total Vp [psi] = 4673.73\n"
     ]
    }
   ],
   "source": [
    "from thermo import Mixture\n",
    "\n",
    "comp = dict([\n",
    "    ('methane', 0.5), \n",
    "    ('hexane', 0.5),\n",
    "])\n",
    "\n",
    "comp = dict([\n",
    "    ('methane', 1), \n",
    "])\n",
    "\n",
    "constants = ChemicalConstantsPackage.constants_from_IDs(comp.keys())\n",
    "\n",
    "T = calc_F_to_K(32.7947)\n",
    "\n",
    "T = 298\n",
    "\n",
    "partial_Vps = []\n",
    "for i, (key, val) in enumerate(comp.items()):\n",
    "    Vp = VaporPressure(\n",
    "        Pc=constants.Pcs[i], \n",
    "        omega=constants.omegas[i], \n",
    "        Tc=constants.Tcs[i], \n",
    "        Tb=constants.Tbs[i]\n",
    "    ).calculate(T, 'BOILING_CRITICAL')\n",
    "    \n",
    "    Vp = calc_pascal_to_psi(Vp)\n",
    "    partial_Vp = Vp * val\n",
    "    partial_Vps.append(partial_Vp)\n",
    "    \n",
    "total_Vp = sum(partial_Vps)\n",
    "print('Total Vp [psi] =', round(total_Vp, 2))"
   ]
  },
  {
   "cell_type": "code",
   "execution_count": 232,
   "id": "3fb217c8",
   "metadata": {},
   "outputs": [],
   "source": [
    "def calc_Vp(comp, T, method='LEE_KESLER_PSAT'):\n",
    "    constants = ChemicalConstantsPackage.constants_from_IDs(comp.keys())\n",
    "    partial_Vps = []\n",
    "    for i, (key, val) in enumerate(comp.items()):\n",
    "        print(method)\n",
    "        Vp = VaporPressure(\n",
    "            Pc=constants.Pcs[i], \n",
    "            omega=constants.omegas[i], \n",
    "            Tc=constants.Tcs[i], \n",
    "            Tb=constants.Tbs[i]\n",
    "        ).calculate(T, method)\n",
    "\n",
    "        Vp = calc_pascal_to_psi(Vp)\n",
    "        partial_Vp = Vp * val\n",
    "        partial_Vps.append(partial_Vp)\n",
    "\n",
    "    total_Vp = sum(partial_Vps)\n",
    "    return total_Vp"
   ]
  },
  {
   "cell_type": "code",
   "execution_count": 351,
   "id": "6fa88f3f",
   "metadata": {},
   "outputs": [
    {
     "name": "stdout",
     "output_type": "stream",
     "text": [
      "LEE_KESLER_PSAT\n",
      "Total Vp [psi][LEE_KESLER_PSAT] = 4673.7299516785\n",
      "BOILING_CRITICAL\n",
      "Total Vp [psi][BOILING_CRITICAL] = 4673.7299516785\n",
      "SANJARI\n",
      "Total Vp [psi][SANJARI] = 4673.7299516785\n"
     ]
    }
   ],
   "source": [
    "from thermo import Mixture\n",
    "\n",
    "comp = dict([\n",
    "    ('methane', 0.5), \n",
    "    ('hexane', 0.5),\n",
    "])\n",
    "\n",
    "comp = dict([\n",
    "    ('hexane', 1), \n",
    "])\n",
    "\n",
    "constants = ChemicalConstantsPackage.constants_from_IDs(comp.keys())\n",
    "\n",
    "methods = ['LEE_KESLER_PSAT', 'BOILING_CRITICAL', 'SANJARI']\n",
    "T = calc_F_to_K(53.24)\n",
    "\n",
    "for method in methods: \n",
    "    Vp = calc_Vp(comp, T, method=method)\n",
    "    print('Total Vp [psi][%s] = %.10f' % (method, total_Vp))"
   ]
  },
  {
   "cell_type": "code",
   "execution_count": 352,
   "id": "b6ef6634",
   "metadata": {},
   "outputs": [
    {
     "name": "stdout",
     "output_type": "stream",
     "text": [
      "Tc =  507.82\n",
      "Tb =  341.865616634\n",
      "Pc =  3044100.0\n",
      "w =  0.3\n"
     ]
    }
   ],
   "source": [
    "T = 800\n",
    "Tc=constants.Tcs[0]\n",
    "Pc=constants.Pcs[0]\n",
    "omega=constants.omegas[0]\n",
    "Tb=constants.Tbs[0]\n",
    "\n",
    "print('Tc = ', Tc)\n",
    "print('Tb = ', Tb)\n",
    "print('Pc = ', Pc)\n",
    "print('w = ', omega)"
   ]
  },
  {
   "cell_type": "code",
   "execution_count": 353,
   "id": "a8d873e2",
   "metadata": {},
   "outputs": [
    {
     "data": {
      "text/plain": [
       "14517.34333617424"
      ]
     },
     "execution_count": 353,
     "metadata": {},
     "output_type": "execute_result"
    }
   ],
   "source": [
    "calc_pascal_to_psi(chemicals.vapor_pressure.Sanjari(T=T, Tc=Tc, Pc=Pc, omega=omega))"
   ]
  },
  {
   "cell_type": "code",
   "execution_count": 354,
   "id": "d813532f",
   "metadata": {},
   "outputs": [
    {
     "data": {
      "text/plain": [
       "5711.349458464943"
      ]
     },
     "execution_count": 354,
     "metadata": {},
     "output_type": "execute_result"
    }
   ],
   "source": [
    "calc_pascal_to_psi(chemicals.vapor_pressure.boiling_critical_relation(T=T, Tb=Tb, Tc=Tc, Pc=Pc))"
   ]
  },
  {
   "cell_type": "code",
   "execution_count": 355,
   "id": "70a26120",
   "metadata": {},
   "outputs": [
    {
     "data": {
      "text/plain": [
       "147254.6860510609"
      ]
     },
     "execution_count": 355,
     "metadata": {},
     "output_type": "execute_result"
    }
   ],
   "source": [
    "calc_pascal_to_psi(chemicals.vapor_pressure.Lee_Kesler(T=T, Tc=Tc, Pc=Pc, omega=omega))"
   ]
  },
  {
   "cell_type": "code",
   "execution_count": null,
   "id": "ec5a3438",
   "metadata": {},
   "outputs": [],
   "source": []
  },
  {
   "cell_type": "code",
   "execution_count": null,
   "id": "5c09a8c8",
   "metadata": {},
   "outputs": [],
   "source": []
  },
  {
   "cell_type": "code",
   "execution_count": null,
   "id": "24f3ddfa",
   "metadata": {},
   "outputs": [],
   "source": []
  },
  {
   "cell_type": "code",
   "execution_count": 285,
   "id": "d007648e",
   "metadata": {},
   "outputs": [
    {
     "data": {
      "text/plain": [
       "5.49318336073456"
      ]
     },
     "execution_count": 285,
     "metadata": {},
     "output_type": "execute_result"
    }
   ],
   "source": [
    "7.096 - (516.7 / (38 + 284.37))"
   ]
  },
  {
   "cell_type": "code",
   "execution_count": null,
   "id": "fef011f1",
   "metadata": {},
   "outputs": [],
   "source": []
  },
  {
   "cell_type": "code",
   "execution_count": null,
   "id": "1bf8efe1",
   "metadata": {},
   "outputs": [],
   "source": []
  },
  {
   "cell_type": "code",
   "execution_count": null,
   "id": "21a730e4",
   "metadata": {},
   "outputs": [],
   "source": []
  },
  {
   "cell_type": "code",
   "execution_count": 202,
   "id": "d98d2747",
   "metadata": {},
   "outputs": [
    {
     "data": {
      "text/plain": [
       "float"
      ]
     },
     "execution_count": 202,
     "metadata": {},
     "output_type": "execute_result"
    }
   ],
   "source": [
    "type(total_Vp)"
   ]
  },
  {
   "cell_type": "code",
   "execution_count": 217,
   "id": "a2b50b96",
   "metadata": {},
   "outputs": [
    {
     "ename": "ValueError",
     "evalue": "math domain error",
     "output_type": "error",
     "traceback": [
      "\u001b[1;31m---------------------------------------------------------------------------\u001b[0m",
      "\u001b[1;31mValueError\u001b[0m                                Traceback (most recent call last)",
      "\u001b[1;32m~\\AppData\\Local\\Temp\\ipykernel_15344\\3907016884.py\u001b[0m in \u001b[0;36m<module>\u001b[1;34m\u001b[0m\n\u001b[1;32m----> 1\u001b[1;33m \u001b[0mchemicals\u001b[0m\u001b[1;33m.\u001b[0m\u001b[0mvapor_pressure\u001b[0m\u001b[1;33m.\u001b[0m\u001b[0mAmbrose_Walton\u001b[0m\u001b[1;33m(\u001b[0m\u001b[0mT\u001b[0m\u001b[1;33m,\u001b[0m \u001b[0mTc\u001b[0m\u001b[1;33m=\u001b[0m\u001b[0mconstants\u001b[0m\u001b[1;33m.\u001b[0m\u001b[0mTcs\u001b[0m\u001b[1;33m[\u001b[0m\u001b[1;36m0\u001b[0m\u001b[1;33m]\u001b[0m\u001b[1;33m,\u001b[0m \u001b[0mPc\u001b[0m\u001b[1;33m=\u001b[0m\u001b[0mconstants\u001b[0m\u001b[1;33m.\u001b[0m\u001b[0mPcs\u001b[0m\u001b[1;33m[\u001b[0m\u001b[1;36m0\u001b[0m\u001b[1;33m]\u001b[0m\u001b[1;33m,\u001b[0m \u001b[0momega\u001b[0m\u001b[1;33m=\u001b[0m\u001b[0mconstants\u001b[0m\u001b[1;33m.\u001b[0m\u001b[0momegas\u001b[0m\u001b[1;33m[\u001b[0m\u001b[1;36m0\u001b[0m\u001b[1;33m]\u001b[0m\u001b[1;33m)\u001b[0m\u001b[1;33m\u001b[0m\u001b[1;33m\u001b[0m\u001b[0m\n\u001b[0m",
      "\u001b[1;32m~\\AppData\\Roaming\\Python\\Python39\\site-packages\\chemicals\\vapor_pressure.py\u001b[0m in \u001b[0;36mAmbrose_Walton\u001b[1;34m(T, Tc, Pc, omega)\u001b[0m\n\u001b[0;32m   2184\u001b[0m     \u001b[0mTr\u001b[0m \u001b[1;33m=\u001b[0m \u001b[0mT\u001b[0m\u001b[1;33m/\u001b[0m\u001b[0mTc\u001b[0m\u001b[1;33m\u001b[0m\u001b[1;33m\u001b[0m\u001b[0m\n\u001b[0;32m   2185\u001b[0m     \u001b[0mtau\u001b[0m \u001b[1;33m=\u001b[0m \u001b[1;36m1.0\u001b[0m \u001b[1;33m-\u001b[0m \u001b[0mTr\u001b[0m\u001b[1;33m\u001b[0m\u001b[1;33m\u001b[0m\u001b[0m\n\u001b[1;32m-> 2186\u001b[1;33m     \u001b[0mtau15\u001b[0m \u001b[1;33m=\u001b[0m \u001b[0mtau\u001b[0m\u001b[1;33m*\u001b[0m\u001b[0msqrt\u001b[0m\u001b[1;33m(\u001b[0m\u001b[0mtau\u001b[0m\u001b[1;33m)\u001b[0m\u001b[1;33m\u001b[0m\u001b[1;33m\u001b[0m\u001b[0m\n\u001b[0m\u001b[0;32m   2187\u001b[0m     \u001b[0mtau25\u001b[0m \u001b[1;33m=\u001b[0m \u001b[0mtau\u001b[0m\u001b[1;33m*\u001b[0m\u001b[0mtau15\u001b[0m\u001b[1;33m\u001b[0m\u001b[1;33m\u001b[0m\u001b[0m\n\u001b[0;32m   2188\u001b[0m     \u001b[0mtau5\u001b[0m \u001b[1;33m=\u001b[0m \u001b[0mtau25\u001b[0m\u001b[1;33m*\u001b[0m\u001b[0mtau25\u001b[0m\u001b[1;33m\u001b[0m\u001b[1;33m\u001b[0m\u001b[0m\n",
      "\u001b[1;31mValueError\u001b[0m: math domain error"
     ]
    }
   ],
   "source": [
    "chemicals.vapor_pressure.Ambrose_Walton(T, Tc=constants.Tcs[0], Pc=constants.Pcs[0], omega=constants.omegas[0])"
   ]
  },
  {
   "cell_type": "code",
   "execution_count": 221,
   "id": "b4c67ef9",
   "metadata": {},
   "outputs": [],
   "source": [
    "Tr = T/constants.Tcs[0]\n",
    "tau = 1.0 - Tr"
   ]
  },
  {
   "cell_type": "code",
   "execution_count": 222,
   "id": "0f756dcd",
   "metadata": {},
   "outputs": [
    {
     "data": {
      "text/plain": [
       "-0.4333767133351525"
      ]
     },
     "execution_count": 222,
     "metadata": {},
     "output_type": "execute_result"
    }
   ],
   "source": [
    "tau"
   ]
  },
  {
   "cell_type": "code",
   "execution_count": 224,
   "id": "647bd4c8",
   "metadata": {},
   "outputs": [
    {
     "name": "stderr",
     "output_type": "stream",
     "text": [
      "C:\\Users\\EricKim\\AppData\\Local\\Temp\\ipykernel_15344\\3543466345.py:1: RuntimeWarning: invalid value encountered in sqrt\n",
      "  np.sqrt(tau)\n"
     ]
    },
    {
     "data": {
      "text/plain": [
       "nan"
      ]
     },
     "execution_count": 224,
     "metadata": {},
     "output_type": "execute_result"
    }
   ],
   "source": [
    "np.sqrt(tau)"
   ]
  },
  {
   "cell_type": "code",
   "execution_count": null,
   "id": "d723333d",
   "metadata": {},
   "outputs": [],
   "source": []
  },
  {
   "cell_type": "code",
   "execution_count": 187,
   "id": "c606f2cd",
   "metadata": {},
   "outputs": [
    {
     "data": {
      "text/plain": [
       "[111.667205474]"
      ]
     },
     "execution_count": 187,
     "metadata": {},
     "output_type": "execute_result"
    }
   ],
   "source": [
    "constants.Tbs"
   ]
  },
  {
   "cell_type": "code",
   "execution_count": 178,
   "id": "1806f3b0",
   "metadata": {},
   "outputs": [
    {
     "data": {
      "text/plain": [
       "667.058752716743"
      ]
     },
     "execution_count": 178,
     "metadata": {},
     "output_type": "execute_result"
    }
   ],
   "source": [
    "calc_pascal_to_psi(constants.Pcs[i])"
   ]
  },
  {
   "cell_type": "code",
   "execution_count": 179,
   "id": "193e1f37",
   "metadata": {},
   "outputs": [
    {
     "data": {
      "text/plain": [
       "190.564"
      ]
     },
     "execution_count": 179,
     "metadata": {},
     "output_type": "execute_result"
    }
   ],
   "source": [
    "constants.Tcs[i]"
   ]
  },
  {
   "cell_type": "code",
   "execution_count": 180,
   "id": "d46048a2",
   "metadata": {},
   "outputs": [
    {
     "data": {
      "text/plain": [
       "0.01142"
      ]
     },
     "execution_count": 180,
     "metadata": {},
     "output_type": "execute_result"
    }
   ],
   "source": [
    "constants.omegas[i]"
   ]
  },
  {
   "cell_type": "code",
   "execution_count": 146,
   "id": "2e34cfa7",
   "metadata": {},
   "outputs": [
    {
     "data": {
      "text/plain": [
       "[4599200.0, 3044100.0]"
      ]
     },
     "execution_count": 146,
     "metadata": {},
     "output_type": "execute_result"
    }
   ],
   "source": [
    "constants.Pcs"
   ]
  },
  {
   "cell_type": "code",
   "execution_count": 147,
   "id": "7118e24f",
   "metadata": {},
   "outputs": [
    {
     "data": {
      "text/plain": [
       "[190.564, 507.82]"
      ]
     },
     "execution_count": 147,
     "metadata": {},
     "output_type": "execute_result"
    }
   ],
   "source": [
    "constants.Tcs"
   ]
  },
  {
   "cell_type": "code",
   "execution_count": 148,
   "id": "3e27d734",
   "metadata": {},
   "outputs": [
    {
     "data": {
      "text/plain": [
       "[0.01142, 0.3]"
      ]
     },
     "execution_count": 148,
     "metadata": {},
     "output_type": "execute_result"
    }
   ],
   "source": [
    "constants.omegas"
   ]
  },
  {
   "cell_type": "code",
   "execution_count": null,
   "id": "225ef3c1",
   "metadata": {},
   "outputs": [],
   "source": []
  },
  {
   "cell_type": "code",
   "execution_count": null,
   "id": "ee32aaaa",
   "metadata": {},
   "outputs": [],
   "source": []
  },
  {
   "cell_type": "code",
   "execution_count": 121,
   "id": "10fb2f7f",
   "metadata": {},
   "outputs": [
    {
     "data": {
      "text/plain": [
       "0.5"
      ]
     },
     "execution_count": 121,
     "metadata": {},
     "output_type": "execute_result"
    }
   ],
   "source": [
    "val"
   ]
  },
  {
   "cell_type": "code",
   "execution_count": 100,
   "id": "80a9c717",
   "metadata": {},
   "outputs": [
    {
     "data": {
      "text/plain": [
       "-208.8041562436841"
      ]
     },
     "execution_count": 100,
     "metadata": {},
     "output_type": "execute_result"
    }
   ],
   "source": [
    "calc_K_to_F(m.Tbubble)"
   ]
  },
  {
   "cell_type": "code",
   "execution_count": null,
   "id": "b20ac8ca",
   "metadata": {},
   "outputs": [],
   "source": []
  },
  {
   "cell_type": "code",
   "execution_count": 93,
   "id": "6a4f24d2",
   "metadata": {},
   "outputs": [
    {
     "data": {
      "text/plain": [
       "262281923.42103288"
      ]
     },
     "execution_count": 93,
     "metadata": {},
     "output_type": "execute_result"
    }
   ],
   "source": [
    "m.Pbubble"
   ]
  },
  {
   "cell_type": "code",
   "execution_count": 84,
   "id": "c858381b",
   "metadata": {},
   "outputs": [
    {
     "data": {
      "text/plain": [
       "[190.564,\n",
       " 126.192,\n",
       " 304.1282,\n",
       " 305.322,\n",
       " 369.89,\n",
       " 407.81,\n",
       " 425.125,\n",
       " 460.35,\n",
       " 469.7,\n",
       " 507.82]"
      ]
     },
     "execution_count": 84,
     "metadata": {},
     "output_type": "execute_result"
    }
   ],
   "source": [
    "m.Tcs"
   ]
  },
  {
   "cell_type": "code",
   "execution_count": 83,
   "id": "4b59bd29",
   "metadata": {},
   "outputs": [
    {
     "data": {
      "text/plain": [
       "4.480225063286449"
      ]
     },
     "execution_count": 83,
     "metadata": {},
     "output_type": "execute_result"
    }
   ],
   "source": [
    "m.rho"
   ]
  },
  {
   "cell_type": "code",
   "execution_count": 70,
   "id": "374945fc",
   "metadata": {},
   "outputs": [
    {
     "ename": "AttributeError",
     "evalue": "'Mixture' object has no attribute 'flash'",
     "output_type": "error",
     "traceback": [
      "\u001b[1;31m---------------------------------------------------------------------------\u001b[0m",
      "\u001b[1;31mAttributeError\u001b[0m                            Traceback (most recent call last)",
      "\u001b[1;32m~\\AppData\\Local\\Temp\\ipykernel_15344\\2594049412.py\u001b[0m in \u001b[0;36m<module>\u001b[1;34m\u001b[0m\n\u001b[1;32m----> 1\u001b[1;33m \u001b[0mm\u001b[0m\u001b[1;33m.\u001b[0m\u001b[0mflash\u001b[0m\u001b[1;33m(\u001b[0m\u001b[0mT\u001b[0m\u001b[1;33m=\u001b[0m\u001b[0mT\u001b[0m\u001b[1;33m,\u001b[0m \u001b[0mP\u001b[0m\u001b[1;33m=\u001b[0m\u001b[0mP\u001b[0m\u001b[1;33m)\u001b[0m\u001b[1;33m\u001b[0m\u001b[1;33m\u001b[0m\u001b[0m\n\u001b[0m",
      "\u001b[1;31mAttributeError\u001b[0m: 'Mixture' object has no attribute 'flash'"
     ]
    }
   ],
   "source": [
    "m.flash(T=T, P=P)"
   ]
  },
  {
   "cell_type": "code",
   "execution_count": null,
   "id": "9c427cde",
   "metadata": {},
   "outputs": [],
   "source": []
  },
  {
   "cell_type": "code",
   "execution_count": 47,
   "id": "e38520b9",
   "metadata": {},
   "outputs": [
    {
     "data": {
      "text/plain": [
       "{'methane': 0.96522,\n",
       " 'nitrogen': 0.00259,\n",
       " 'carbon dioxide': 0.00596,\n",
       " 'ethane': 0.01819,\n",
       " 'propane': 0.0046,\n",
       " 'isobutane': 0.00098,\n",
       " 'butane': 0.00101,\n",
       " '2-methylbutane': 0.00047,\n",
       " 'pentane': 0.00032,\n",
       " 'hexane': 0.00066}"
      ]
     },
     "execution_count": 47,
     "metadata": {},
     "output_type": "execute_result"
    }
   ],
   "source": [
    "comp"
   ]
  },
  {
   "cell_type": "code",
   "execution_count": null,
   "id": "93560dfd",
   "metadata": {},
   "outputs": [],
   "source": []
  },
  {
   "cell_type": "code",
   "execution_count": null,
   "id": "75158ccd",
   "metadata": {},
   "outputs": [],
   "source": []
  },
  {
   "cell_type": "code",
   "execution_count": null,
   "id": "e5563a40",
   "metadata": {},
   "outputs": [],
   "source": []
  },
  {
   "cell_type": "code",
   "execution_count": 32,
   "id": "71fa3df3",
   "metadata": {},
   "outputs": [
    {
     "name": "stdout",
     "output_type": "stream",
     "text": [
      "Tb =  [353.218780053]\n",
      "Tc =  [562.02]\n",
      "Pc =  [4907277.0]\n",
      "Omega =  [0.211]\n",
      "Vp_chemicals =  0.9698364991508017\n"
     ]
    }
   ],
   "source": [
    "constants, correlations = ChemicalConstantsPackage.from_IDs(['benzene'])\n",
    "print('Tb = ', constants.Tbs)\n",
    "print('Tc = ', constants.Tcs)\n",
    "print('Pc = ', constants.Pcs)\n",
    "print('Omega = ', constants.omegas)\n",
    "\n",
    "T = 284.9278  # K, 52.3 F\n",
    "Vp = chemicals.vapor_pressure.Lee_Kesler(T, constants.Tcs[0], constants.Pcs[0], constants.omegas[0])\n",
    "Vp_chemicals = calc_pascal_to_psi(Vp)\n",
    "print('Vp_chemicals = ', Vp_chemicals)"
   ]
  },
  {
   "cell_type": "code",
   "execution_count": 33,
   "id": "bdb558f1",
   "metadata": {},
   "outputs": [
    {
     "name": "stdout",
     "output_type": "stream",
     "text": [
      "Tb =  [353.864948368]\n",
      "Tc =  [553.6]\n",
      "Pc =  [4080500.0]\n",
      "Omega =  [0.2096]\n",
      "Vp_chemicals =  1.0097356707866914\n"
     ]
    }
   ],
   "source": [
    "constants, correlations = ChemicalConstantsPackage.from_IDs(['cyclohexane'])\n",
    "print('Tb = ', constants.Tbs)\n",
    "print('Tc = ', constants.Tcs)\n",
    "print('Pc = ', constants.Pcs)\n",
    "print('Omega = ', constants.omegas)\n",
    "\n",
    "T = 284.9278  # K, 52.3 F\n",
    "Vp = chemicals.vapor_pressure.Lee_Kesler(T, constants.Tcs[0], constants.Pcs[0], constants.omegas[0])\n",
    "Vp_chemicals = calc_pascal_to_psi(Vp)\n",
    "print('Vp_chemicals = ', Vp_chemicals)"
   ]
  },
  {
   "cell_type": "code",
   "execution_count": null,
   "id": "9a1c7b64",
   "metadata": {},
   "outputs": [],
   "source": []
  },
  {
   "cell_type": "code",
   "execution_count": null,
   "id": "5f3ddbb6",
   "metadata": {},
   "outputs": [],
   "source": []
  },
  {
   "cell_type": "code",
   "execution_count": null,
   "id": "28030a8a",
   "metadata": {},
   "outputs": [],
   "source": []
  },
  {
   "cell_type": "code",
   "execution_count": null,
   "id": "a3710a57",
   "metadata": {},
   "outputs": [],
   "source": []
  },
  {
   "cell_type": "code",
   "execution_count": 2,
   "id": "162c4f74",
   "metadata": {},
   "outputs": [],
   "source": [
    "from thermo import ChemicalConstantsPackage, PRMIX, CEOSLiquid, CEOSGas, FlashPureVLS, VaporPressure"
   ]
  },
  {
   "cell_type": "code",
   "execution_count": 3,
   "id": "2b974391",
   "metadata": {},
   "outputs": [
    {
     "data": {
      "text/plain": [
       "[111.667205474]"
      ]
     },
     "execution_count": 3,
     "metadata": {},
     "output_type": "execute_result"
    }
   ],
   "source": [
    "obj = ChemicalConstantsPackage.constants_from_IDs(['CH4'])\n",
    "obj.Tbs"
   ]
  },
  {
   "cell_type": "code",
   "execution_count": 4,
   "id": "11817cb6",
   "metadata": {},
   "outputs": [
    {
     "data": {
      "text/plain": [
       "[111.667205474]"
      ]
     },
     "execution_count": 4,
     "metadata": {},
     "output_type": "execute_result"
    }
   ],
   "source": [
    "obj = ChemicalConstantsPackage.constants_from_IDs(['methane'])\n",
    "obj.Tbs"
   ]
  },
  {
   "cell_type": "code",
   "execution_count": 5,
   "id": "e6040857",
   "metadata": {},
   "outputs": [
    {
     "data": {
      "text/plain": [
       "[341.865616634]"
      ]
     },
     "execution_count": 5,
     "metadata": {},
     "output_type": "execute_result"
    }
   ],
   "source": [
    "obj = ChemicalConstantsPackage.constants_from_IDs(['hexane'])\n",
    "obj.Tbs"
   ]
  },
  {
   "cell_type": "code",
   "execution_count": 6,
   "id": "35250a6e",
   "metadata": {},
   "outputs": [
    {
     "data": {
      "text/plain": [
       "[383.745753146]"
      ]
     },
     "execution_count": 6,
     "metadata": {},
     "output_type": "execute_result"
    }
   ],
   "source": [
    "obj = ChemicalConstantsPackage.constants_from_IDs(['toluene'])\n",
    "obj.Tbs"
   ]
  },
  {
   "cell_type": "code",
   "execution_count": 7,
   "id": "c39e8712",
   "metadata": {},
   "outputs": [],
   "source": [
    "constants, correlations = ChemicalConstantsPackage.from_IDs(['decane'])"
   ]
  },
  {
   "cell_type": "code",
   "execution_count": 8,
   "id": "8d10da3a",
   "metadata": {},
   "outputs": [
    {
     "name": "stdout",
     "output_type": "stream",
     "text": [
      "Tb =  [447.270229382]\n",
      "Tc =  [617.7]\n",
      "Pc =  [2103000.0]\n",
      "Omega =  [0.4884]\n"
     ]
    }
   ],
   "source": [
    "print('Tb = ', constants.Tbs)\n",
    "print('Tc = ', constants.Tcs)\n",
    "print('Pc = ', constants.Pcs)\n",
    "print('Omega = ', constants.omegas)"
   ]
  },
  {
   "cell_type": "code",
   "execution_count": 9,
   "id": "9dc6008e",
   "metadata": {},
   "outputs": [
    {
     "ename": "NameError",
     "evalue": "name 'calc_pascal_to_psi' is not defined",
     "output_type": "error",
     "traceback": [
      "\u001b[1;31m---------------------------------------------------------------------------\u001b[0m",
      "\u001b[1;31mNameError\u001b[0m                                 Traceback (most recent call last)",
      "\u001b[1;32m~\\AppData\\Local\\Temp\\ipykernel_15344\\180295589.py\u001b[0m in \u001b[0;36m<module>\u001b[1;34m\u001b[0m\n\u001b[0;32m      3\u001b[0m \u001b[0mVp\u001b[0m \u001b[1;33m=\u001b[0m \u001b[0ma\u001b[0m\u001b[1;33m.\u001b[0m\u001b[0mcalculate\u001b[0m\u001b[1;33m(\u001b[0m\u001b[0mT\u001b[0m\u001b[1;33m=\u001b[0m\u001b[0mT\u001b[0m\u001b[1;33m,\u001b[0m \u001b[0mmethod\u001b[0m\u001b[1;33m=\u001b[0m\u001b[1;34m'IAPWS'\u001b[0m\u001b[1;33m)\u001b[0m\u001b[1;33m\u001b[0m\u001b[1;33m\u001b[0m\u001b[0m\n\u001b[0;32m      4\u001b[0m \u001b[1;33m\u001b[0m\u001b[0m\n\u001b[1;32m----> 5\u001b[1;33m \u001b[0mcalc_pascal_to_psi\u001b[0m\u001b[1;33m(\u001b[0m\u001b[0mVp\u001b[0m\u001b[1;33m)\u001b[0m\u001b[1;33m\u001b[0m\u001b[1;33m\u001b[0m\u001b[0m\n\u001b[0m",
      "\u001b[1;31mNameError\u001b[0m: name 'calc_pascal_to_psi' is not defined"
     ]
    }
   ],
   "source": [
    "a = VaporPressure(Tb=constants.Tbs[0], Tc=constants.Tcs[0], Pc=constants.Pcs[0], omega=constants.omegas[0])\n",
    "T = 284.9278  # K\n",
    "Vp = a.calculate(T=T, method='IAPWS')\n",
    "\n",
    "calc_pascal_to_psi(Vp)"
   ]
  },
  {
   "cell_type": "code",
   "execution_count": null,
   "id": "c68be1f8",
   "metadata": {},
   "outputs": [],
   "source": [
    "constants, correlations = ChemicalConstantsPackage.from_IDs(['hexane'])"
   ]
  },
  {
   "cell_type": "code",
   "execution_count": null,
   "id": "03246a28",
   "metadata": {},
   "outputs": [],
   "source": [
    "print('Tb = ', constants.Tbs)\n",
    "print('Tc = ', constants.Tcs)\n",
    "print('Pc = ', constants.Pcs)\n",
    "print('Omega = ', constants.omegas)"
   ]
  },
  {
   "cell_type": "code",
   "execution_count": null,
   "id": "c1a56a6a",
   "metadata": {},
   "outputs": [],
   "source": [
    "a = VaporPressure(Tb=constants.Tbs[0], Tc=constants.Tcs[0], Pc=constants.Pcs[0], omega=constants.omegas[0])\n",
    "T = 284.9278  # K\n",
    "Vp = a.calculate(T=T, method='LEE_KESLER_PSAT')\n",
    "\n",
    "calc_pascal_to_psi(Vp)"
   ]
  },
  {
   "cell_type": "code",
   "execution_count": 10,
   "id": "9e376e4e",
   "metadata": {},
   "outputs": [
    {
     "ename": "NameError",
     "evalue": "name 'calc_pascal_to_psi' is not defined",
     "output_type": "error",
     "traceback": [
      "\u001b[1;31m---------------------------------------------------------------------------\u001b[0m",
      "\u001b[1;31mNameError\u001b[0m                                 Traceback (most recent call last)",
      "\u001b[1;32m~\\AppData\\Local\\Temp\\ipykernel_15344\\332713142.py\u001b[0m in \u001b[0;36m<module>\u001b[1;34m\u001b[0m\n\u001b[0;32m      3\u001b[0m \u001b[0mVp\u001b[0m \u001b[1;33m=\u001b[0m \u001b[0ma\u001b[0m\u001b[1;33m.\u001b[0m\u001b[0mcalculate\u001b[0m\u001b[1;33m(\u001b[0m\u001b[0mT\u001b[0m\u001b[1;33m=\u001b[0m\u001b[0mT\u001b[0m\u001b[1;33m,\u001b[0m \u001b[0mmethod\u001b[0m\u001b[1;33m=\u001b[0m\u001b[1;34m'LEE_KESLER_PSAT'\u001b[0m\u001b[1;33m)\u001b[0m\u001b[1;33m\u001b[0m\u001b[1;33m\u001b[0m\u001b[0m\n\u001b[0;32m      4\u001b[0m \u001b[1;33m\u001b[0m\u001b[0m\n\u001b[1;32m----> 5\u001b[1;33m \u001b[0mcalc_pascal_to_psi\u001b[0m\u001b[1;33m(\u001b[0m\u001b[0mVp\u001b[0m\u001b[1;33m)\u001b[0m\u001b[1;33m\u001b[0m\u001b[1;33m\u001b[0m\u001b[0m\n\u001b[0m",
      "\u001b[1;31mNameError\u001b[0m: name 'calc_pascal_to_psi' is not defined"
     ]
    }
   ],
   "source": [
    "a = VaporPressure(Tb=constants.Tbs[0], Tc=constants.Tcs[0], Pc=constants.Pcs[0], omega=constants.omegas[0])\n",
    "T = 284.9278  # K\n",
    "Vp = a.calculate(T=T, method='LEE_KESLER_PSAT')\n",
    "\n",
    "calc_pascal_to_psi(Vp)"
   ]
  },
  {
   "cell_type": "code",
   "execution_count": null,
   "id": "c79acb60",
   "metadata": {},
   "outputs": [],
   "source": []
  },
  {
   "cell_type": "code",
   "execution_count": null,
   "id": "9cd54589",
   "metadata": {},
   "outputs": [],
   "source": []
  },
  {
   "cell_type": "code",
   "execution_count": 11,
   "id": "f99d8065",
   "metadata": {},
   "outputs": [],
   "source": [
    "a = VaporPressure(Tb=constants.Tbs[0], Tc=constants.Tcs[0], Pc=constants.Pcs[0], omega=constants.omegas[0])"
   ]
  },
  {
   "cell_type": "code",
   "execution_count": 12,
   "id": "393b5970",
   "metadata": {},
   "outputs": [
    {
     "ename": "NameError",
     "evalue": "name 'calc_pascal_to_psi' is not defined",
     "output_type": "error",
     "traceback": [
      "\u001b[1;31m---------------------------------------------------------------------------\u001b[0m",
      "\u001b[1;31mNameError\u001b[0m                                 Traceback (most recent call last)",
      "\u001b[1;32m~\\AppData\\Local\\Temp\\ipykernel_15344\\791236711.py\u001b[0m in \u001b[0;36m<module>\u001b[1;34m\u001b[0m\n\u001b[0;32m      3\u001b[0m \u001b[0mVp\u001b[0m \u001b[1;33m=\u001b[0m \u001b[0ma\u001b[0m\u001b[1;33m.\u001b[0m\u001b[0mcalculate\u001b[0m\u001b[1;33m(\u001b[0m\u001b[0mT\u001b[0m\u001b[1;33m=\u001b[0m\u001b[0mT\u001b[0m\u001b[1;33m,\u001b[0m \u001b[0mmethod\u001b[0m\u001b[1;33m=\u001b[0m\u001b[1;34m'IAPWS'\u001b[0m\u001b[1;33m)\u001b[0m\u001b[1;33m\u001b[0m\u001b[1;33m\u001b[0m\u001b[0m\n\u001b[0;32m      4\u001b[0m \u001b[1;33m\u001b[0m\u001b[0m\n\u001b[1;32m----> 5\u001b[1;33m \u001b[0mcalc_pascal_to_psi\u001b[0m\u001b[1;33m(\u001b[0m\u001b[0mVp\u001b[0m\u001b[1;33m)\u001b[0m\u001b[1;33m\u001b[0m\u001b[1;33m\u001b[0m\u001b[0m\n\u001b[0m",
      "\u001b[1;31mNameError\u001b[0m: name 'calc_pascal_to_psi' is not defined"
     ]
    }
   ],
   "source": [
    "a = VaporPressure(Tb=constants.Tbs, Tc=constants.Tcs, Pc=constants.Pcs, omega=constants.omegas)\n",
    "T = 284.9278  # K\n",
    "Vp = a.calculate(T=T, method='IAPWS')\n",
    "\n",
    "calc_pascal_to_psi(Vp)"
   ]
  },
  {
   "cell_type": "code",
   "execution_count": null,
   "id": "cbcdbfaf",
   "metadata": {},
   "outputs": [],
   "source": []
  },
  {
   "cell_type": "code",
   "execution_count": null,
   "id": "705bc1c9",
   "metadata": {},
   "outputs": [],
   "source": []
  },
  {
   "cell_type": "markdown",
   "id": "e56e4673",
   "metadata": {},
   "source": [
    "# 0. Inputs"
   ]
  },
  {
   "cell_type": "code",
   "execution_count": 2,
   "id": "0c61b954",
   "metadata": {},
   "outputs": [
    {
     "name": "stdout",
     "output_type": "stream",
     "text": [
      "Object ` = 8  # hold ? ft of product` not found.\n"
     ]
    }
   ],
   "source": [
    "D = 6  # tank diameter (ft)\n",
    "H = 12  # tank height (ft)\n",
    "?? = 8  # hold ? ft of product\n",
    "paint_color = 'white'\n",
    "liq_level_high = 11.5\n",
    "liq_level_low = 4.5\n",
    "liq_flow = 8450  # (gal/yr)\n",
    "\n",
    "{\n",
    "    'Vertical Cylinder',\n",
    "    'Horizontal Cylinder',\n",
    "    'External Floating Roof Tank',\n",
    "    'Internal Floatign Roof Tank',\n",
    "    'Domed Floating Roof Tank',\n",
    "}"
   ]
  },
  {
   "cell_type": "code",
   "execution_count": 12,
   "id": "dc9700c0",
   "metadata": {},
   "outputs": [],
   "source": [
    "def calc_Vv(D, Hvo):\n",
    "    \"\"\"\n",
    "    Vv = Tank vapor space volume (ft^3, Eq 1-3)\n",
    "    D = Tank diameter (ft)\n",
    "    Hvo = vapor space outage (ft, Eq 1-16)\n",
    "    \"\"\"\n",
    "    return (np.pi / 4) * D ** 2 * Hvo"
   ]
  },
  {
   "cell_type": "code",
   "execution_count": null,
   "id": "2fe7444c",
   "metadata": {},
   "outputs": [],
   "source": [
    "def calc_Hvo(Hs, Hl, Hro):\n",
    "    \"\"\"\n",
    "    Hs = Tank shell height (ft, given)\n",
    "    Hl  = Tank liquid height (ft, given, assumed to be half-filled mostly)\n",
    "    Hro = roof outage (ft, Eq 1-17)\n",
    "    \"\"\"\n",
    "    return Hs - Hl + Hro"
   ]
  },
  {
   "cell_type": "code",
   "execution_count": null,
   "id": "df90f601",
   "metadata": {},
   "outputs": [],
   "source": []
  },
  {
   "cell_type": "code",
   "execution_count": null,
   "id": "ea6dcd73",
   "metadata": {},
   "outputs": [],
   "source": []
  },
  {
   "cell_type": "code",
   "execution_count": null,
   "id": "fc7d0171",
   "metadata": {},
   "outputs": [],
   "source": []
  },
  {
   "cell_type": "code",
   "execution_count": null,
   "id": "52aa41b4",
   "metadata": {},
   "outputs": [],
   "source": []
  },
  {
   "cell_type": "markdown",
   "id": "231eab29",
   "metadata": {},
   "source": [
    "# 1. Utilities"
   ]
  },
  {
   "cell_type": "code",
   "execution_count": 98,
   "id": "6a8a7b18",
   "metadata": {},
   "outputs": [],
   "source": [
    "def calc_F_to_R(F):\n",
    "    return F + 459.67\n",
    "\n",
    "def calc_R_to_F(R):\n",
    "    return R - 459.67\n",
    "\n",
    "def calc_gal_to_bbl(gal):\n",
    "    return gal / 42\n",
    "\n",
    "def calc_bbl_to_gal(bbl):\n",
    "    return bbl * 42\n",
    "\n",
    "def calc_psi_to_pascal(psi):\n",
    "    return psi * 6894.745\n",
    "\n",
    "def calc_pascal_to_psi(pascal):\n",
    "    return pascal / 6894.745\n",
    "\n",
    "def calc_F_to_K(F):\n",
    "    return (F - 32) * 5/9 + 273.15\n",
    "\n",
    "def calc_K_to_F(K):\n",
    "    return (K - 273.15) * 1.8 + 32"
   ]
  },
  {
   "cell_type": "markdown",
   "id": "17fdf9b8",
   "metadata": {},
   "source": [
    "# 2. Standing Loss"
   ]
  },
  {
   "cell_type": "code",
   "execution_count": null,
   "id": "b9ed37e1",
   "metadata": {},
   "outputs": [],
   "source": [
    "# Fix roof tank\n",
    "\n"
   ]
  },
  {
   "cell_type": "code",
   "execution_count": null,
   "id": "e86420c3",
   "metadata": {},
   "outputs": [],
   "source": []
  },
  {
   "cell_type": "code",
   "execution_count": 3,
   "id": "88083ebe",
   "metadata": {},
   "outputs": [],
   "source": [
    "\n",
    "def calc_T_LA(Hs, D, Ta, Tb, alpa_r, alpha_s, I):\n",
    "    _1st = (0.5 - 0.8 / (4.4 * Hs/D + 3.8)) * Ta\n",
    "    _2nd = (0.5 + 0.8 / (4.4 * Hs/D + 3.8)) * Tb\n",
    "    _3rd = (0.021 * alpha_r * I + 0.013 * Hs/D * alpha_s * I) / (4.4 * Hs/D + 3.8)\n",
    "    return _1st + _2nd + _3rd "
   ]
  },
  {
   "cell_type": "code",
   "execution_count": 4,
   "id": "7d44aec4",
   "metadata": {},
   "outputs": [],
   "source": [
    "# December\n",
    "Hs = 30\n",
    "D = 15\n",
    "Ta = calc_F_to_R(95)  # max, Cedar City, Utah\n",
    "Tb = calc_F_to_R(110)   # liquid bulk\n",
    "alpha_r = 0.49          # tan\n",
    "alpha_s = 0.49          # tan\n",
    "I = 741"
   ]
  },
  {
   "cell_type": "code",
   "execution_count": 5,
   "id": "dacb29c7",
   "metadata": {},
   "outputs": [
    {
     "data": {
      "text/plain": [
       "564.4767642857144"
      ]
     },
     "execution_count": 5,
     "metadata": {},
     "output_type": "execute_result"
    }
   ],
   "source": [
    "calc_T_LA(Hs, D, Ta, Tb, alpha_r, alpha_s, I)"
   ]
  },
  {
   "cell_type": "code",
   "execution_count": null,
   "id": "7b1c69e5",
   "metadata": {},
   "outputs": [],
   "source": []
  },
  {
   "cell_type": "code",
   "execution_count": null,
   "id": "fd657cb6",
   "metadata": {},
   "outputs": [],
   "source": []
  },
  {
   "cell_type": "markdown",
   "id": "8971ea5f",
   "metadata": {},
   "source": [
    "## Gekko"
   ]
  },
  {
   "cell_type": "code",
   "execution_count": 113,
   "id": "de81a635",
   "metadata": {},
   "outputs": [
    {
     "name": "stdout",
     "output_type": "stream",
     "text": [
      "{'hydrogen sulfide': [2666375.368], 'nitrogen': [32253141.045], 'carbon dioxide': [8337811.4144], 'Methane': [21177601.926], 'Ethane': [5310604.7423], 'propane': [1273976.7398], 'isobutane': [488739.34969], 'n-butane': [346800.85906], 'neopentane': [246224.48508], 'isopentane': [136831.57149], 'n-pentane': [104129.41513], 'hexane': [33115.182972], 'T': [310.0], 'units': 'Pa ', 'property': 'Liquid Vapor Pressure'}\n"
     ]
    }
   ],
   "source": [
    "from gekko import GEKKO, chemical\n",
    "m = GEKKO()\n",
    "c = chemical.Properties(m)\n",
    "\n",
    "# add compounds\n",
    "c.compound('hydrogen sulfide')\n",
    "c.compound('nitrogen')\n",
    "c.compound('carbon dioxide')\n",
    "c.compound('Methane')\n",
    "c.compound('Ethane')\n",
    "c.compound('propane')\n",
    "c.compound('isobutane')\n",
    "c.compound('n-butane')\n",
    "c.compound('neopentane')\n",
    "c.compound('isopentane')\n",
    "c.compound('n-pentane')\n",
    "c.compound('hexane')\n",
    "\n",
    "# molecular weight\n",
    "mw = c.thermo('mw')\n",
    "\n",
    "# liquid vapor pressure\n",
    "T = m.Param(value=310)\n",
    "vps = c.thermo('lvp',T)\n",
    "m.solve(disp=False)\n",
    "\n",
    "\n",
    "print(vp)"
   ]
  },
  {
   "cell_type": "code",
   "execution_count": 107,
   "id": "6e152b5b",
   "metadata": {},
   "outputs": [],
   "source": [
    "comp = {\n",
    "    'Hydrogen Sulfide': 0.017,\n",
    "    'Nitrogen': 0.044,\n",
    "    'Carbon Dioxide': 0.015,\n",
    "    'Methane': 1.015,\n",
    "    'Ethane': 1.641,\n",
    "    'Propane': 3.608,\n",
    "    'Isobutane': 1.533,\n",
    "    'n-Butane': 5.021,\n",
    "    'Neopentane': 0,\n",
    "    'Isopentane': 3.132,\n",
    "    'n-Pentane': 4.126,\n",
    "    'Hexane': 79.863,\n",
    "}"
   ]
  },
  {
   "cell_type": "code",
   "execution_count": 134,
   "id": "68607e97",
   "metadata": {},
   "outputs": [
    {
     "data": {
      "text/plain": [
       "2666375.368"
      ]
     },
     "execution_count": 134,
     "metadata": {},
     "output_type": "execute_result"
    }
   ],
   "source": [
    "vps['hydrogen sulfide'][0]"
   ]
  },
  {
   "cell_type": "code",
   "execution_count": null,
   "id": "dfa8d68f",
   "metadata": {},
   "outputs": [],
   "source": []
  },
  {
   "cell_type": "code",
   "execution_count": null,
   "id": "d94971be",
   "metadata": {},
   "outputs": [],
   "source": []
  },
  {
   "cell_type": "code",
   "execution_count": 145,
   "id": "703c66dd",
   "metadata": {},
   "outputs": [
    {
     "data": {
      "text/plain": [
       "512.3395549254737"
      ]
     },
     "execution_count": 145,
     "metadata": {},
     "output_type": "execute_result"
    }
   ],
   "source": [
    "vps_mol = []\n",
    "for a, b in zip(comp.keys(), vps.keys()):\n",
    "    mol = comp[a]\n",
    "    vp = calc_pascal_to_psi(vps[b][0])\n",
    "    vps_mol.append(mol * vp)\n",
    "    if a[0] == 'Hexane':\n",
    "        break\n",
    "np.mean(vps_mol)"
   ]
  },
  {
   "cell_type": "code",
   "execution_count": null,
   "id": "3c8ed731",
   "metadata": {},
   "outputs": [],
   "source": []
  },
  {
   "cell_type": "code",
   "execution_count": 30,
   "id": "f9542573",
   "metadata": {},
   "outputs": [
    {
     "data": {
      "text/plain": [
       "{'hexane': [31547917.631],\n",
       " 'T': [298.0],\n",
       " 'units': 'J/kmol ',\n",
       " 'property': 'Heat of Vaporization'}"
      ]
     },
     "execution_count": 30,
     "metadata": {},
     "output_type": "execute_result"
    }
   ],
   "source": [
    "from gekko import GEKKO, chemical\n",
    "m = GEKKO(remote=False)\n",
    "c = chemical.Properties(m)\n",
    "# add compounds\n",
    "c.compound('hexane')\n",
    "\n",
    "# liquid vapor pressure\n",
    "T = m.Param(value=298)\n",
    "vps = c.thermo('hvap',T)\n",
    "m.solve(disp=False)\n",
    "\n",
    "vps"
   ]
  },
  {
   "cell_type": "code",
   "execution_count": 31,
   "id": "ff9a503c",
   "metadata": {},
   "outputs": [
    {
     "data": {
      "text/plain": [
       "2754157.1769000003"
      ]
     },
     "execution_count": 31,
     "metadata": {},
     "output_type": "execute_result"
    }
   ],
   "source": [
    "2754157176.9 / 1000"
   ]
  },
  {
   "cell_type": "code",
   "execution_count": null,
   "id": "a20e35c0",
   "metadata": {},
   "outputs": [],
   "source": []
  },
  {
   "cell_type": "code",
   "execution_count": 24,
   "id": "dff3d6ae",
   "metadata": {},
   "outputs": [
    {
     "name": "stdout",
     "output_type": "stream",
     "text": [
      " Any of the following compounds can be referenced by common\n",
      "   or IUPAC name, CAS number, or chemical formula\n",
      " \n",
      " Care should be taken when accessing a compound by formula\n",
      "   because formula names are not unique and the first\n",
      "   available match will be selected.\n",
      " \n",
      " Common Name: methane\n",
      " IUPAC Name : methane\n",
      " CAS Number : 74-82-8\n",
      " Formula    : CH4\n",
      " \n",
      " Common Name: ethane\n",
      " IUPAC Name : ethane\n",
      " CAS Number : 74-84-0\n",
      " Formula    : C2H6\n",
      " \n",
      " Common Name: propane\n",
      " IUPAC Name : propane\n",
      " CAS Number : 74-98-6\n",
      " Formula    : C3H8\n",
      " \n",
      " Common Name: isobutane\n",
      " IUPAC Name : isobutane\n",
      " CAS Number : 75-28-5\n",
      " Formula    : C4H10\n",
      " \n",
      " Common Name: n-butane\n",
      " IUPAC Name : butane\n",
      " CAS Number : 106-97-8\n",
      " Formula    : C4H10\n",
      " \n",
      " Common Name: n-pentane\n",
      " IUPAC Name : pentane\n",
      " CAS Number : 109-66-0\n",
      " Formula    : C5H12\n",
      " \n",
      " Common Name: isopentane\n",
      " IUPAC Name : isopentane\n",
      " CAS Number : 78-78-4\n",
      " Formula    : C5H12\n",
      " \n",
      " Common Name: neopentane\n",
      " IUPAC Name : neopentane\n",
      " CAS Number : 463-82-1\n",
      " Formula    : C5H12\n",
      " \n",
      " Common Name: n-hexane\n",
      " IUPAC Name : hexane\n",
      " CAS Number : 110-54-3\n",
      " Formula    : C6H14\n",
      " \n",
      " Common Name: n-heptane\n",
      " IUPAC Name : heptane\n",
      " CAS Number : 142-82-5\n",
      " Formula    : C7H16\n",
      " \n",
      " Common Name: n-octane\n",
      " IUPAC Name : octane\n",
      " CAS Number : 111-65-9\n",
      " Formula    : C8H18\n",
      " \n",
      " Common Name: n-nonane\n",
      " IUPAC Name : nonane\n",
      " CAS Number : 111-84-2\n",
      " Formula    : C9H20\n",
      " \n",
      " Common Name: squalane\n",
      " IUPAC Name : 2,6,10,15,19,23-hexamethyltetracosane\n",
      " CAS Number : 111-01-3\n",
      " Formula    : C30H62\n",
      " \n",
      " Common Name: n-decane\n",
      " IUPAC Name : decane\n",
      " CAS Number : 124-18-5\n",
      " Formula    : C10H22\n",
      " \n",
      " Common Name: n-undecane\n",
      " IUPAC Name : undecane\n",
      " CAS Number : 1120-21-4\n",
      " Formula    : C11H24\n",
      " \n",
      " Common Name: n-dodecane\n",
      " IUPAC Name : dodecane\n",
      " CAS Number : 112-40-3\n",
      " Formula    : C12H26\n",
      " \n",
      " Common Name: n-tridecane\n",
      " IUPAC Name : tridecane\n",
      " CAS Number : 629-50-5\n",
      " Formula    : C13H28\n",
      " \n",
      " Common Name: n-tetradecane\n",
      " IUPAC Name : tetradecane\n",
      " CAS Number : 629-59-4\n",
      " Formula    : C14H30\n",
      " \n",
      " Common Name: n-pentadecane\n",
      " IUPAC Name : pentadecane\n",
      " CAS Number : 629-62-9\n",
      " Formula    : C15H32\n",
      " \n",
      " Common Name: n-hexadecane\n",
      " IUPAC Name : hexadecane\n",
      " CAS Number : 544-76-3\n",
      " Formula    : C16H34\n",
      " \n",
      " Common Name: n-heptadecane\n",
      " IUPAC Name : heptadecane\n",
      " CAS Number : 629-78-7\n",
      " Formula    : C17H36\n",
      " \n",
      " Common Name: n-octadecane\n",
      " IUPAC Name : octadecane\n",
      " CAS Number : 593-45-3\n",
      " Formula    : C18H38\n",
      " \n",
      " Common Name: n-nonadecane\n",
      " IUPAC Name : nonadecane\n",
      " CAS Number : 629-92-5\n",
      " Formula    : C19H40\n",
      " \n",
      " Common Name: n-eicosane\n",
      " IUPAC Name : eicosane\n",
      " CAS Number : 112-95-8\n",
      " Formula    : C20H42\n",
      " \n",
      " Common Name: n-heneicosane\n",
      " IUPAC Name : henicosane\n",
      " CAS Number : 629-94-7\n",
      " Formula    : C21H44\n",
      " \n",
      " Common Name: n-docosane\n",
      " IUPAC Name : docosane\n",
      " CAS Number : 629-97-0\n",
      " Formula    : C22H46\n",
      " \n",
      " Common Name: n-tricosane\n",
      " IUPAC Name : tricosane\n",
      " CAS Number : 638-67-5\n",
      " Formula    : C23H48\n",
      " \n",
      " Common Name: n-tetracosane\n",
      " IUPAC Name : n-tetracosane\n",
      " CAS Number : 646-31-1\n",
      " Formula    : C24H50\n",
      " \n",
      " Common Name: n-pentacosane\n",
      " IUPAC Name : pentacosane\n",
      " CAS Number : 629-99-2\n",
      " Formula    : C25H52\n",
      " \n",
      " Common Name: n-hexacosane\n",
      " IUPAC Name : hexacosane\n",
      " CAS Number : 630-01-3\n",
      " Formula    : C26H54\n",
      " \n",
      " Common Name: n-heptacosane\n",
      " IUPAC Name : heptacosane\n",
      " CAS Number : 593-49-7\n",
      " Formula    : C27H56\n",
      " \n",
      " Common Name: n-octacosane\n",
      " IUPAC Name : n-octacosane\n",
      " CAS Number : 630-02-4\n",
      " Formula    : C28H58\n",
      " \n",
      " Common Name: n-nonacosane\n",
      " IUPAC Name : nonacosane\n",
      " CAS Number : 630-03-5\n",
      " Formula    : C29H60\n",
      " \n",
      " Common Name: cyclopropane\n",
      " IUPAC Name : cyclopropane\n",
      " CAS Number : 75-19-4\n",
      " Formula    : C3H6\n",
      " \n",
      " Common Name: cyclobutane\n",
      " IUPAC Name : cyclobutane\n",
      " CAS Number : 287-23-0\n",
      " Formula    : C4H8\n",
      " \n",
      " Common Name: cyclopentane\n",
      " IUPAC Name : cyclopentane\n",
      " CAS Number : 287-92-3\n",
      " Formula    : C5H10\n",
      " \n",
      " Common Name: cyclohexane\n",
      " IUPAC Name : cyclohexane\n",
      " CAS Number : 110-82-7\n",
      " Formula    : C6H12\n",
      " \n",
      " Common Name: cycloheptane\n",
      " IUPAC Name : cycloheptane\n",
      " CAS Number : 291-64-5\n",
      " Formula    : C7H14\n",
      " \n",
      " Common Name: cyclooctane\n",
      " IUPAC Name : cyclooctane\n",
      " CAS Number : 292-64-8\n",
      " Formula    : C8H16\n",
      " \n",
      " Common Name: ethylene\n",
      " IUPAC Name : ethylene\n",
      " CAS Number : 74-85-1\n",
      " Formula    : C2H4\n",
      " \n",
      " Common Name: propylene\n",
      " IUPAC Name : propylene\n",
      " CAS Number : 115-07-1\n",
      " Formula    : C3H6\n",
      " \n",
      " Common Name: 1-triacontene\n",
      " IUPAC Name : triacont-1-ene\n",
      " CAS Number : 18435-53-5\n",
      " Formula    : C30H60\n",
      " \n",
      " Common Name: 1-butene\n",
      " IUPAC Name : 1-butene\n",
      " CAS Number : 106-98-9\n",
      " Formula    : C4H8\n",
      " \n",
      " Common Name: isobutene\n",
      " IUPAC Name : isobutene\n",
      " CAS Number : 115-11-7\n",
      " Formula    : C4H8\n",
      " \n",
      " Common Name: 1-pentene\n",
      " IUPAC Name : 1-pentene\n",
      " CAS Number : 109-67-1\n",
      " Formula    : C5H10\n",
      " \n",
      " Common Name: 1-hexene\n",
      " IUPAC Name : 1-hexene\n",
      " CAS Number : 592-41-6\n",
      " Formula    : C6H12\n",
      " \n",
      " Common Name: 1-heptene\n",
      " IUPAC Name : 1-heptene\n",
      " CAS Number : 592-76-7\n",
      " Formula    : C7H14\n",
      " \n",
      " Common Name: 1-octene\n",
      " IUPAC Name : 1-octene\n",
      " CAS Number : 111-66-0\n",
      " Formula    : C8H16\n",
      " \n",
      " Common Name: 1-nonene\n",
      " IUPAC Name : 1-nonene\n",
      " CAS Number : 124-11-8\n",
      " Formula    : C9H18\n",
      " \n",
      " Common Name: 1-decene\n",
      " IUPAC Name : 1-decene\n",
      " CAS Number : 872-05-9\n",
      " Formula    : C10H20\n",
      " \n",
      " Common Name: 1-undecene\n",
      " IUPAC Name : 1-undecene\n",
      " CAS Number : 821-95-4\n",
      " Formula    : C11H22\n",
      " \n",
      " Common Name: 1-dodecene\n",
      " IUPAC Name : 1-dodecene\n",
      " CAS Number : 112-41-4\n",
      " Formula    : C12H24\n",
      " \n",
      " Common Name: 1-tridecene\n",
      " IUPAC Name : 1-tridecene\n",
      " CAS Number : 2437-56-1\n",
      " Formula    : C13H26\n",
      " \n",
      " Common Name: 1-tetradecene\n",
      " IUPAC Name : 1-tetradecene\n",
      " CAS Number : 1120-36-1\n",
      " Formula    : C14H28\n",
      " \n",
      " Common Name: 1-pentadecene\n",
      " IUPAC Name : 1-pentadecene\n",
      " CAS Number : 13360-61-7\n",
      " Formula    : C15H30\n",
      " \n",
      " Common Name: 1-hexadecene\n",
      " IUPAC Name : 1-hexadecene\n",
      " CAS Number : 629-73-2\n",
      " Formula    : C16H32\n",
      " \n",
      " Common Name: 1-octadecene\n",
      " IUPAC Name : 1-octadecene\n",
      " CAS Number : 112-88-9\n",
      " Formula    : C18H36\n",
      " \n",
      " Common Name: cyclopentene\n",
      " IUPAC Name : cyclopentene\n",
      " CAS Number : 142-29-0\n",
      " Formula    : C5H8\n",
      " \n",
      " Common Name: cyclohexene\n",
      " IUPAC Name : cyclohexene\n",
      " CAS Number : 110-83-8\n",
      " Formula    : C6H10\n",
      " \n",
      " Common Name: trans-2-eicosene\n",
      " IUPAC Name : (2e)eicos-2-ene\n",
      " CAS Number : 42448-85-1\n",
      " Formula    : C20H40\n",
      " \n",
      " Common Name: 1-eicosene\n",
      " IUPAC Name : eicosene\n",
      " CAS Number : 3452-07-1\n",
      " Formula    : C20H40\n",
      " \n",
      " Common Name: isoprene\n",
      " IUPAC Name : isoprene\n",
      " CAS Number : 78-79-5\n",
      " Formula    : C5H8\n",
      " \n",
      " Common Name: benzene\n",
      " IUPAC Name : benzene\n",
      " CAS Number : 71-43-2\n",
      " Formula    : C6H6\n",
      " \n",
      " Common Name: toluene\n",
      " IUPAC Name : toluene\n",
      " CAS Number : 108-88-3\n",
      " Formula    : C7H8\n",
      " \n",
      " Common Name: ethylbenzene\n",
      " IUPAC Name : ethylbenzene\n",
      " CAS Number : 100-41-4\n",
      " Formula    : C8H10\n",
      " \n",
      " Common Name: o-xylene\n",
      " IUPAC Name : 1,2-dimethylbenzene\n",
      " CAS Number : 95-47-6\n",
      " Formula    : C8H10\n",
      " \n",
      " Common Name: m-xylene\n",
      " IUPAC Name : 1,3-dimethylbenzene\n",
      " CAS Number : 108-38-3\n",
      " Formula    : C8H10\n",
      " \n",
      " Common Name: p-xylene\n",
      " IUPAC Name : 1,4-dimethylbenzene\n",
      " CAS Number : 106-42-3\n",
      " Formula    : C8H10\n",
      " \n",
      " Common Name: styrene\n",
      " IUPAC Name : phenylethene\n",
      " CAS Number : 100-42-5\n",
      " Formula    : C8H8\n",
      " \n",
      " Common Name: oxygen\n",
      " IUPAC Name : oxygen\n",
      " CAS Number : 7782-44-7\n",
      " Formula    : O2\n",
      " \n",
      " Common Name: hydrogen\n",
      " IUPAC Name : hydrogen\n",
      " CAS Number : 1333-74-0\n",
      " Formula    : H2\n",
      " \n",
      " Common Name: nitrogen\n",
      " IUPAC Name : nitrogen\n",
      " CAS Number : 7727-37-9\n",
      " Formula    : N2\n",
      " \n",
      " Common Name: carbon monoxide\n",
      " IUPAC Name : carbon monoxide\n",
      " CAS Number : 630-08-0\n",
      " Formula    : CO\n",
      " \n",
      " Common Name: carbon dioxide\n",
      " IUPAC Name : carbon dioxide\n",
      " CAS Number : 124-38-9\n",
      " Formula    : CO2\n",
      " \n",
      " Common Name: air\n",
      " IUPAC Name : air\n",
      " CAS Number : 132259-10-0\n",
      " Formula    : MIXTURE\n",
      " \n",
      " Common Name: acetone\n",
      " IUPAC Name : acetone\n",
      " CAS Number : 67-64-1\n",
      " Formula    : C3H6O\n",
      " \n",
      " Common Name: methanol\n",
      " IUPAC Name : methanol\n",
      " CAS Number : 67-56-1\n",
      " Formula    : CH4O\n",
      " \n",
      " Common Name: ethanol\n",
      " IUPAC Name : ethanol\n",
      " CAS Number : 64-17-5\n",
      " Formula    : C2H6O\n",
      " \n",
      " Common Name: 1-propanol\n",
      " IUPAC Name : propanol\n",
      " CAS Number : 71-23-8\n",
      " Formula    : C3H8O\n",
      " \n",
      " Common Name: 1-butanol\n",
      " IUPAC Name : butanol\n",
      " CAS Number : 71-36-3\n",
      " Formula    : C4H10O\n",
      " \n",
      " Common Name: 1-pentanol\n",
      " IUPAC Name : 1-pentanol\n",
      " CAS Number : 71-41-0\n",
      " Formula    : C5H12O\n",
      " \n",
      " Common Name: 3-pentanol\n",
      " IUPAC Name : 3-pentanol\n",
      " CAS Number : 584-02-1\n",
      " Formula    : C5H12O\n",
      " \n",
      " Common Name: 1-heptanol\n",
      " IUPAC Name : 1-heptanol\n",
      " CAS Number : 111-70-6\n",
      " Formula    : C7H16O\n",
      " \n",
      " Common Name: 1-octanol\n",
      " IUPAC Name : 1-octanol\n",
      " CAS Number : 111-87-5\n",
      " Formula    : C8H18O\n",
      " \n",
      " Common Name: ethyl acetate\n",
      " IUPAC Name : ethyl acetate\n",
      " CAS Number : 141-78-6\n",
      " Formula    : C4H8O2\n",
      " \n",
      " Common Name: n-propyl acetate\n",
      " IUPAC Name : propyl acetate\n",
      " CAS Number : 109-60-4\n",
      " Formula    : C5H10O2\n",
      " \n",
      " Common Name: n-butyl acetate\n",
      " IUPAC Name : butyl acetate\n",
      " CAS Number : 123-86-4\n",
      " Formula    : C6H12O2\n",
      " \n",
      " Common Name: isopentyl acetate\n",
      " IUPAC Name : isopentyl acetate\n",
      " CAS Number : 123-92-2\n",
      " Formula    : C7H14O2\n",
      " \n",
      " Common Name: vinyl acetate\n",
      " IUPAC Name : vinyl acetate\n",
      " CAS Number : 108-05-4\n",
      " Formula    : C4H6O2\n",
      " \n",
      " Common Name: methyl chloride\n",
      " IUPAC Name : methyl chloride\n",
      " CAS Number : 74-87-3\n",
      " Formula    : CH3Cl\n",
      " \n",
      " Common Name: ethyl chloride\n",
      " IUPAC Name : ethyl chloride\n",
      " CAS Number : 75-00-3\n",
      " Formula    : C2H5Cl\n",
      " \n",
      " Common Name: vinyl chloride\n",
      " IUPAC Name : vinyl chloride\n",
      " CAS Number : 75-01-4\n",
      " Formula    : C2H3Cl\n",
      " \n",
      " Common Name: hydrogen chloride\n",
      " IUPAC Name : hydrogen chloride\n",
      " CAS Number : 7647-01-0\n",
      " Formula    : HCl\n",
      " \n",
      " Common Name: hydrogen fluoride\n",
      " IUPAC Name : hydrogen fluoride\n",
      " CAS Number : 7664-39-3\n",
      " Formula    : HF\n",
      " \n",
      " Common Name: hydrogen bromide\n",
      " IUPAC Name : hydrogen bromide\n",
      " CAS Number : 10035-10-6\n",
      " Formula    : HBr\n",
      " \n",
      " Common Name: hydrogen iodide\n",
      " IUPAC Name : hydrogen iodide\n",
      " CAS Number : 10034-85-2\n",
      " Formula    : HI\n",
      " \n",
      " Common Name: phosphorous acid\n",
      " IUPAC Name : phosphonic acid\n",
      " CAS Number : 13598-36-2\n",
      " Formula    : H3O3P\n",
      " \n",
      " Common Name: ammonia\n",
      " IUPAC Name : ammonia\n",
      " CAS Number : 7664-41-7\n",
      " Formula    : H3N\n",
      " \n",
      " Common Name: sodium hydroxide\n",
      " IUPAC Name : sodium hydroxide\n",
      " CAS Number : 1310-73-2\n",
      " Formula    : HNaO\n",
      " \n",
      " Common Name: water\n",
      " IUPAC Name : water\n",
      " CAS Number : 7732-18-5\n",
      " Formula    : H2O\n",
      " \n",
      " Common Name: hydrogen sulfide\n",
      " IUPAC Name : hydrogen sulfide\n",
      " CAS Number : 7783-06-4\n",
      " Formula    : H2S\n",
      " \n",
      " Common Name: boron trifluoride\n",
      " IUPAC Name : boron trifluoride\n",
      " CAS Number : 7637-07-2\n",
      " Formula    : BF3\n",
      " \n",
      " Common Name: n-triacontane\n",
      " IUPAC Name : triacontane\n",
      " CAS Number : 638-68-6\n",
      " Formula    : C30H62\n",
      " \n",
      " Common Name: n-dotriacontane\n",
      " IUPAC Name : n-dotriacontane\n",
      " CAS Number : 544-85-4\n",
      " Formula    : C32H66\n",
      " \n",
      " Common Name: n-hexatriacontane\n",
      " IUPAC Name : n-hexatriacontane\n",
      " CAS Number : 630-06-8\n",
      " Formula    : C36H74\n",
      " \n",
      " Common Name: 1,1,1,2-tetrafluoroethane\n",
      " IUPAC Name : 1,1,1,2-tetrafluoroethane\n",
      " CAS Number : 811-97-2\n",
      " Formula    : C2H2F4\n",
      " \n",
      " Common Name: aluminum chloride\n",
      " IUPAC Name : aluminum chloride\n",
      " CAS Number : 7446-70-0\n",
      " Formula    : AlCl3\n",
      " \n",
      " Common Name: titanium tetrachloride\n",
      " IUPAC Name : titanium tetrachloride\n",
      " CAS Number : 7550-45-0\n",
      " Formula    : Cl4Ti\n",
      " \n",
      " Common Name: dimethylaluminum chloride\n",
      " IUPAC Name : dimethylaluminum chloride\n",
      " CAS Number : 1184-58-3\n",
      " Formula    : C2H6AlCl\n",
      " \n",
      " Common Name: n-tetracontane\n",
      " IUPAC Name : n-tetracontane\n",
      " CAS Number : 4181-95-7\n",
      " Formula    : C40H82\n",
      " \n",
      " Common Name: n-pentacontane\n",
      " IUPAC Name : n-pentacontane\n",
      " CAS Number : 6596-40-3\n",
      " Formula    : C50H102\n",
      "\n",
      "{'water': 0, 'Na2SO4': 0, 'units': 'kg/kmol', 'property': 'Molecular Weight'}\n"
     ]
    }
   ],
   "source": [
    "from gekko import GEKKO, chemical\n",
    "m = GEKKO(remote=False)\n",
    "c = chemical.Properties(m)\n",
    "# add compounds\n",
    "c.compound('water')\n",
    "c.compound('Na2SO4')\n",
    "# m.open_folder()\n",
    "# molecular weight\n",
    "mw = c.thermo('mw')\n",
    "try:\n",
    "    m.solve(disp=False)\n",
    "except:\n",
    "    # display 'compounds.txt'\n",
    "    import os\n",
    "    fid = open(m.path+'/compounds.txt')\n",
    "    print(fid.read())\n",
    "    fid.close()\n",
    "print(mw)"
   ]
  },
  {
   "cell_type": "code",
   "execution_count": null,
   "id": "33307c5c",
   "metadata": {},
   "outputs": [],
   "source": []
  },
  {
   "cell_type": "markdown",
   "id": "15229cb2",
   "metadata": {},
   "source": [
    "# CoolProp\n",
    "\n",
    "http://www.coolprop.org/coolprop/HighLevelAPI.html#parameter-table"
   ]
  },
  {
   "cell_type": "code",
   "execution_count": 1,
   "id": "b92d54ff",
   "metadata": {},
   "outputs": [],
   "source": [
    "import CoolProp.CoolProp as CP\n",
    "import numpy as np\n",
    "from CoolProp.CoolProp import PropsSI"
   ]
  },
  {
   "cell_type": "code",
   "execution_count": 2,
   "id": "76cf5479",
   "metadata": {},
   "outputs": [],
   "source": [
    "comp = {\n",
    "    'Hydrogen Sulfide': 0.017,\n",
    "    'Nitrogen': 0.044,\n",
    "    'Carbon Dioxide': 0.015,\n",
    "    'Methane': 1.015,\n",
    "    'Ethane': 1.641,\n",
    "    'Propane': 3.608,\n",
    "    'Isobutane': 1.533,\n",
    "    'n-Butane': 5.021,\n",
    "    'Neopentane': 0,\n",
    "    'Isopentane': 3.132,\n",
    "    'n-Pentane': 4.126,\n",
    "    'Hexane': 79.863,\n",
    "}"
   ]
  },
  {
   "cell_type": "code",
   "execution_count": 3,
   "id": "1ed2f4b6",
   "metadata": {},
   "outputs": [
    {
     "name": "stdout",
     "output_type": "stream",
     "text": [
      "HydrogenSulfide\n",
      "Nitrogen\n",
      "CarbonDioxide\n",
      "Methane\n",
      "Ethane\n",
      "Propane\n",
      "Isobutane\n",
      "n-Butane\n",
      "Neopentane\n",
      "Isopentane\n",
      "n-Pentane\n",
      "Hexane\n"
     ]
    }
   ],
   "source": [
    "for key, val in comp.items():\n",
    "    key = key.split(' ')\n",
    "    if len(key) > 1:\n",
    "        key = ''.join(key)\n",
    "    else:\n",
    "        key = key[0]\n",
    "\n",
    "    Tcrit = PropsSI('Tcrit', key)\n",
    "    print(key)"
   ]
  },
  {
   "cell_type": "code",
   "execution_count": 6,
   "id": "351241ed",
   "metadata": {},
   "outputs": [
    {
     "data": {
      "text/plain": [
       "8.195019048390064"
      ]
     },
     "execution_count": 6,
     "metadata": {},
     "output_type": "execute_result"
    }
   ],
   "source": [
    "compound = 'Methane'\n",
    "R = 8.3145\n",
    "p = calc_psi_to_pascal(14.7)\n",
    "\n",
    "H_V = PropsSI('H','P', p, 'Q', 1, compound) * PropsSI('M', compound)\n",
    "H_L = PropsSI('H','P', p, 'Q', 0, compound) * PropsSI('M', compound)\n",
    "\n",
    "(H_V - H_L) / 1000"
   ]
  },
  {
   "cell_type": "code",
   "execution_count": 17,
   "id": "049c7904",
   "metadata": {},
   "outputs": [
    {
     "data": {
      "text/plain": [
       "0.0625"
      ]
     },
     "execution_count": 17,
     "metadata": {},
     "output_type": "execute_result"
    }
   ],
   "source": [
    "1 / 16"
   ]
  },
  {
   "cell_type": "code",
   "execution_count": 19,
   "id": "5c8154fe",
   "metadata": {
    "scrolled": true
   },
   "outputs": [
    {
     "data": {
      "text/plain": [
       "65.4932736"
      ]
     },
     "execution_count": 19,
     "metadata": {},
     "output_type": "execute_result"
    }
   ],
   "source": [
    "760 * PropsSI('M', 'Hexane')"
   ]
  },
  {
   "cell_type": "code",
   "execution_count": null,
   "id": "0e709b31",
   "metadata": {},
   "outputs": [],
   "source": []
  },
  {
   "cell_type": "code",
   "execution_count": 15,
   "id": "80173cde",
   "metadata": {},
   "outputs": [
    {
     "data": {
      "text/plain": [
       "4.934986930867117"
      ]
     },
     "execution_count": 15,
     "metadata": {},
     "output_type": "execute_result"
    }
   ],
   "source": [
    "compound = 'Methane'\n",
    "R = 8.3145\n",
    "t = calc_F_to_K(-150)\n",
    "t_crit = PropsSI('Tcrit', compound)\n",
    "Tr = t/t_crit\n",
    "\n",
    "# j/kg * kg/mol = j/kg\n",
    "H_V = PropsSI('H','T', t, 'Q', 1, compound) * PropsSI('M', compound)\n",
    "H_L = PropsSI('H','T', t, 'Q', 0, compound) * PropsSI('M', compound)\n",
    "\n",
    "(H_V - H_L)/1000 # kJ/kg"
   ]
  },
  {
   "cell_type": "code",
   "execution_count": 12,
   "id": "8c5ee8e3",
   "metadata": {},
   "outputs": [],
   "source": [
    "compound = 'Methane'\n",
    "t_crit = PropsSI('Tcrit', compound)\n",
    "Ts = np.arange(-280, -120, 10)\n",
    "\n",
    "H = []\n",
    "Trs = []\n",
    "for T in Ts:\n",
    "    t = calc_F_to_K(T)\n",
    "    Tr = t / t_crit\n",
    "    H_V = PropsSI('H','T', t, 'Q', 1, compound) * PropsSI('M', compound) / 1000\n",
    "    H_L = PropsSI('H','T', t, 'Q', 0, compound) * PropsSI('M', compound) / 1000\n",
    "    \n",
    "    H.append(H_V - H_L)\n",
    "    Trs.append(Tr)"
   ]
  },
  {
   "cell_type": "code",
   "execution_count": 13,
   "id": "c565407e",
   "metadata": {},
   "outputs": [
    {
     "data": {
      "text/plain": [
       "[<matplotlib.lines.Line2D at 0x1d74b462130>]"
      ]
     },
     "execution_count": 13,
     "metadata": {},
     "output_type": "execute_result"
    },
    {
     "data": {
      "image/png": "[encoded data removed]",
      "text/plain": [
       "<Figure size 640x480 with 1 Axes>"
      ]
     },
     "metadata": {},
     "output_type": "display_data"
    }
   ],
   "source": [
    "import matplotlib.pyplot as plt\n",
    "\n",
    "fig, ax = plt.subplots()\n",
    "\n",
    "plt.plot(Trs, H)"
   ]
  },
  {
   "cell_type": "code",
   "execution_count": 195,
   "id": "a592fb1d",
   "metadata": {},
   "outputs": [
    {
     "data": {
      "text/plain": [
       "[<matplotlib.lines.Line2D at 0x1af730d1ca0>]"
      ]
     },
     "execution_count": 195,
     "metadata": {},
     "output_type": "execute_result"
    }
   ],
   "source": [
    "plt.plot(Trs, H)"
   ]
  },
  {
   "cell_type": "code",
   "execution_count": null,
   "id": "272978b5",
   "metadata": {},
   "outputs": [],
   "source": [
    "for "
   ]
  },
  {
   "cell_type": "code",
   "execution_count": 177,
   "id": "61ea9512",
   "metadata": {},
   "outputs": [
    {
     "data": {
      "text/plain": [
       "190.564"
      ]
     },
     "execution_count": 177,
     "metadata": {},
     "output_type": "execute_result"
    }
   ],
   "source": [
    "t_crit"
   ]
  },
  {
   "cell_type": "code",
   "execution_count": null,
   "id": "12824c1d",
   "metadata": {},
   "outputs": [],
   "source": []
  },
  {
   "cell_type": "code",
   "execution_count": null,
   "id": "c018e0e8",
   "metadata": {},
   "outputs": [],
   "source": []
  }
 ],
 "metadata": {
  "kernelspec": {
   "display_name": "Python 3 (ipykernel)",
   "language": "python",
   "name": "python3"
  },
  "language_info": {
   "codemirror_mode": {
    "name": "ipython",
    "version": 3
   },
   "file_extension": ".py",
   "mimetype": "text/x-python",
   "name": "python",
   "nbconvert_exporter": "python",
   "pygments_lexer": "ipython3",
   "version": "3.9.13"
  }
 },
 "nbformat": 4,
 "nbformat_minor": 5
}
