{
 "cells": [
  {
   "cell_type": "code",
   "execution_count": 1,
   "id": "d2b1fe7e",
   "metadata": {},
   "outputs": [
    {
     "name": "stderr",
     "output_type": "stream",
     "text": [
      "C:\\Users\\EricKim\\AppData\\Roaming\\Python\\Python39\\site-packages\\matplotlib\\projections\\__init__.py:63: UserWarning: Unable to import Axes3D. This may be due to multiple versions of Matplotlib being installed (e.g. as a system package and as a pip package). As a result, the 3D projection is not available.\n",
      "  warnings.warn(\"Unable to import Axes3D. This may be due to multiple versions of \"\n"
     ]
    }
   ],
   "source": [
    "import numpy as np\n",
    "import pandas as pd\n",
    "import thermo\n",
    "import chemicals\n",
    "from thermo import ChemicalConstantsPackage, PRMIX, CEOSLiquid, CEOSGas, FlashPureVLS, VaporPressure, PropertyCorrelationsPackage\n",
    "from thermo import FlashVLN, ViscosityLiquidMixture, ViscosityGasMixture, SurfaceTensionMixture, FlashVL, Mixture\n",
    "import matplotlib.pyplot as plt\n",
    "from thermo.interaction_parameters import IPDB\n",
    "import pint\n",
    "from thermo import PR\n",
    "\n",
    "ureg = pint.UnitRegistry()"
   ]
  },
  {
   "cell_type": "markdown",
   "id": "d3ddd87d",
   "metadata": {},
   "source": [
    "https://www.youtube.com/watch?v=pQFBmqbsh9Y&ab_channel=AliAl-Matar\n",
    "\n",
    "https://www.researchgate.net/figure/Phase-envelopes-for-propane-methane-mixtures_fig12_241789652\n",
    "\n",
    "https://www.chem.mtu.edu/chem_eng/faculty/memullins/course/BubblePoint/Bubble%20Point.htm\n",
    "\n",
    "https://thermo.readthedocs.io/activity_coefficients.html\n",
    "\n",
    "https://thermo.readthedocs.io/property_objects.html\n",
    "\n",
    "https://www3.nd.edu/~markst/bas2000.pdf\n",
    "\n",
    "https://scholarhub.ui.ac.id/cgi/viewcontent.cgi?article=1331&context=science\n",
    "\n",
    "http://www.coolprop.org/dev/fluid_properties/Mixtures.html#phase-envelope\n",
    "\n",
    "https://aiche.onlinelibrary.wiley.com/doi/epdf/10.1002/aic.690320819\n",
    "\n",
    "https://www.researchgate.net/publication/229885780_A_new_method_for_critical_points_calculation_from_cubic_EOS"
   ]
  },
  {
   "cell_type": "markdown",
   "id": "e454c5cc",
   "metadata": {},
   "source": [
    "## I got vapor P calculation for pure component, Figure out for mixture using Van Laar activity coefficients"
   ]
  },
  {
   "cell_type": "code",
   "execution_count": 2,
   "id": "1ffb42c3",
   "metadata": {},
   "outputs": [],
   "source": [
    "def cas_to_name(cas):\n",
    "    if not isinstance(cas, str):\n",
    "        raise ValueError(\"Input must be a string\")    \n",
    "    return ChemicalConstantsPackage.constants_from_IDs([cas]).names[0]\n",
    "\n",
    "def name_to_cas(name):\n",
    "    if not isinstance(name, str):\n",
    "        raise ValueError(\"Input must be a string\")    \n",
    "    return ChemicalConstantsPackage.constants_from_IDs([name]).CASs[0]\n",
    "\n",
    "def F_to_R(F):\n",
    "    return F + 459.67\n",
    "\n",
    "def R_to_F(R):\n",
    "    return R - 459.67\n",
    "\n",
    "def C_to_K(C):\n",
    "    return C + 273.15\n",
    "\n",
    "def F_to_C(F):\n",
    "    return (F - 32) * 5 / 9\n",
    "\n",
    "def K_to_C(K):\n",
    "    return K - 273.15\n",
    "\n",
    "def gal_to_bbl(gal):\n",
    "    return gal / 42\n",
    "\n",
    "def bbl_to_gal(bbl):\n",
    "    return bbl * 42\n",
    "\n",
    "def psi_to_Pa(psi):\n",
    "    return psi * 6894.745\n",
    "\n",
    "def Pa_to_bar(Pa):\n",
    "    return Pa / 100000\n",
    "\n",
    "def Pa_to_psi(pa):\n",
    "    return pa / 6894.745\n",
    "\n",
    "def Pa_to_mmHg(Pa):\n",
    "    return Pa / 133.322\n",
    "\n",
    "def mmHg_to_Pa(mmHg):\n",
    "    return mmHg / 0.0075\n",
    "\n",
    "def F_to_K(F):\n",
    "    return (F - 32) * 5/9 + 273.15\n",
    "\n",
    "def K_to_F(K):\n",
    "    return (K - 273.15) * 1.8 + 32"
   ]
  },
  {
   "cell_type": "code",
   "execution_count": 3,
   "id": "c03d50f1",
   "metadata": {},
   "outputs": [],
   "source": [
    "from thermo import ChemicalConstantsPackage, PRMIX, CEOSLiquid, CEOSGas, PropertyCorrelationsPackage\n",
    "from thermo import FlashVLN\n",
    "import matplotlib.pyplot as plt\n",
    "from thermo.interaction_parameters import IPDB"
   ]
  },
  {
   "cell_type": "code",
   "execution_count": 4,
   "id": "7131c80e",
   "metadata": {},
   "outputs": [],
   "source": [
    "def calculate_ai_bi(R, Tci, Pci):\n",
    "    ai = 0.45724 * R**2 * Tci**2 / Pci\n",
    "    bi = 0.07780 * R * Tci / Pci\n",
    "    return ai, bi"
   ]
  },
  {
   "cell_type": "code",
   "execution_count": 5,
   "id": "aa766bc3",
   "metadata": {},
   "outputs": [],
   "source": [
    "def calculate_amizs_bmizs(R, Tcs, Pcs, zs, kijs):\n",
    "\n",
    "    n = len(Tcs)\n",
    "\n",
    "    a = [0.45724 * (R ** 2) * (Tcs[i] ** 2) / Pcs[i] for i in range(n)]\n",
    "    b = [0.07780 * R * Tcs[i] / Pcs[i] for i in range(n)]\n",
    "\n",
    "    a_mizs = sum(zs[i] * zs[j] * (a[i] * a[j]) ** 0.5 * (1 - kijs[i][j]) for i in range(n) for j in range(n))\n",
    "    b_mizs = sum(zs[i] * b[i] for i in range(n))\n",
    "\n",
    "    return a_mizs, b_mizs"
   ]
  },
  {
   "cell_type": "code",
   "execution_count": 10,
   "id": "d82c335f",
   "metadata": {},
   "outputs": [],
   "source": [
    "comp = dict([\n",
    "    ('methane', 0.5), \n",
    "    ('ethane', 0.5),\n",
    "])\n",
    "zs = list(comp.values())"
   ]
  },
  {
   "cell_type": "code",
   "execution_count": 11,
   "id": "76e98fdc",
   "metadata": {},
   "outputs": [
    {
     "data": {
      "text/plain": [
       "[[0.0, -0.0059], [-0.0059, 0.0]]"
      ]
     },
     "execution_count": 11,
     "metadata": {},
     "output_type": "execute_result"
    }
   ],
   "source": [
    "constants, properties = ChemicalConstantsPackage.from_IDs(comp.keys())\n",
    "kijs = IPDB.get_ip_asymmetric_matrix('ChemSep PR', constants.CASs, 'kij')\n",
    "kijs"
   ]
  },
  {
   "cell_type": "code",
   "execution_count": 12,
   "id": "9c9aba0c",
   "metadata": {},
   "outputs": [],
   "source": [
    "Tcs = constants.Tcs\n",
    "Pcs = constants.Pcs\n",
    "omegas = constants.omegas"
   ]
  },
  {
   "cell_type": "code",
   "execution_count": 13,
   "id": "f94a6952",
   "metadata": {},
   "outputs": [],
   "source": [
    "R = 8.314 * 1000\n",
    "amix, bmix = calculate_amizs_bmizs(R, Tcs, Pcs, zs, kijs)"
   ]
  },
  {
   "cell_type": "code",
   "execution_count": 51,
   "id": "7b4345e3",
   "metadata": {},
   "outputs": [
    {
     "data": {
      "text/plain": [
       "432.88789575030944"
      ]
     },
     "execution_count": 51,
     "metadata": {},
     "output_type": "execute_result"
    }
   ],
   "source": [
    "8 * amix / (27 * R * bmix)"
   ]
  },
  {
   "cell_type": "code",
   "execution_count": 57,
   "id": "9b3047e0",
   "metadata": {},
   "outputs": [
    {
     "data": {
      "text/plain": [
       "1938.0528957263136"
      ]
     },
     "execution_count": 57,
     "metadata": {},
     "output_type": "execute_result"
    }
   ],
   "source": [
    "Pa_to_psi(amix / (27 * bmix ** 2))"
   ]
  },
  {
   "cell_type": "code",
   "execution_count": null,
   "id": "29f025aa",
   "metadata": {},
   "outputs": [],
   "source": []
  },
  {
   "cell_type": "code",
   "execution_count": 70,
   "id": "a0f7da89",
   "metadata": {},
   "outputs": [
    {
     "data": {
      "text/plain": [
       "(251.79475243203058, 4837540.914767563)"
      ]
     },
     "execution_count": 70,
     "metadata": {},
     "output_type": "execute_result"
    }
   ],
   "source": [
    "obj = PRMIX(Tcs=Tcs, Pcs=Pcs, omegas=omegas, zs=zs, kijs=kijs, T=200, P=psi_to_Pa(300))\n",
    "obj.mechanical_critical_point()"
   ]
  },
  {
   "cell_type": "code",
   "execution_count": 72,
   "id": "ffc16883",
   "metadata": {},
   "outputs": [
    {
     "data": {
      "text/plain": [
       "247.94299999999998"
      ]
     },
     "execution_count": 72,
     "metadata": {},
     "output_type": "execute_result"
    }
   ],
   "source": [
    "obj.pseudo_Tc"
   ]
  },
  {
   "cell_type": "code",
   "execution_count": null,
   "id": "50ce44c3",
   "metadata": {},
   "outputs": [],
   "source": []
  },
  {
   "cell_type": "code",
   "execution_count": 59,
   "id": "bbbfba9d",
   "metadata": {},
   "outputs": [
    {
     "data": {
      "text/plain": [
       "0.8370746152457968"
      ]
     },
     "execution_count": 59,
     "metadata": {},
     "output_type": "execute_result"
    }
   ],
   "source": [
    "sum(obj.a_alphas_vectorized(T))"
   ]
  },
  {
   "cell_type": "code",
   "execution_count": null,
   "id": "7c1547d7",
   "metadata": {},
   "outputs": [],
   "source": []
  },
  {
   "cell_type": "code",
   "execution_count": 48,
   "id": "2290768e",
   "metadata": {},
   "outputs": [
    {
     "name": "stderr",
     "output_type": "stream",
     "text": [
      "C:\\Users\\EricKim\\AppData\\Local\\Temp\\ipykernel_7760\\22892256.py:15: RuntimeWarning: invalid value encountered in sqrt\n",
      "  alpha = np.array([1 + (1 - np.sqrt(T / Tcs[i])) for i in range(len(Tcs))])  # Assuming α = 1 for simplification\n"
     ]
    },
    {
     "data": {
      "text/plain": [
       "(-7.138572826193013e-06, 13779.702470424656)"
      ]
     },
     "execution_count": 48,
     "metadata": {},
     "output_type": "execute_result"
    }
   ],
   "source": [
    "from scipy.optimize import fsolve\n",
    "import numpy as np\n",
    "\n",
    "def calculate_amix_bmizs(R, Tcs, Pcs, zs, kijs):\n",
    "    n = len(Tcs)\n",
    "    a = [0.45724 * (R ** 2) * (Tcs[i] ** 2) / Pcs[i] for i in range(n)]\n",
    "    b = [0.07780 * R * Tcs[i] / Pcs[i] for i in range(n)]\n",
    "    a_mizs = sum(zs[i] * zs[j] * (a[i] * a[j]) ** 0.5 * (1 - kijs[i][j]) for i in range(n) for j in range(n))\n",
    "    b_mizs = sum(zs[i] * b[i] for i in range(n))\n",
    "    return a_mizs, b_mizs\n",
    "\n",
    "def critical_conditions(vars, R, Tcs, Pcs, zs, kijs):\n",
    "    T, V = vars\n",
    "    a_mix, b_mix = calculate_amix_bmizs(R, Tcs, Pcs, zs, kijs)\n",
    "    alpha = np.array([1 + (1 - np.sqrt(T / Tcs[i])) for i in range(len(Tcs))])  # Assuming α = 1 for simplification\n",
    "\n",
    "    # First derivative of PR EOS\n",
    "    dPdV = R * T / (V - b_mix)**2 - a_mix / (V * (V + b_mix) + b_mix * (V - b_mix))**2\n",
    "\n",
    "    # Second derivative of PR EOS\n",
    "    d2PdV2 = -2 * R * T / (V - b_mix)**3 + 2 * a_mix * (V**2 + 4 * V * b_mix - b_mix**2) / (V * (V + b_mix) + b_mix * (V - b_mix))**3\n",
    "\n",
    "    return [dPdV, d2PdV2]\n",
    "\n",
    "# Universal Gas Constant in J/(mol·K)\n",
    "R_Pa = 8.314\n",
    "\n",
    "# Critical properties and acentric factors for Methane (CH4) and Ethane (C2H6)\n",
    "Tcs = [190.56, 305.32]  # K\n",
    "Pcs = [45.99e5, 48.72e5]  # Pa\n",
    "zs = [0.5, 0.5]  # 50:50 Mixture\n",
    "kijs = [[0.0, -0.0059], [-0.0059, 0.0]]\n",
    "\n",
    "# Initial guess for Tc and Vc (average of critical temperatures and volumes)\n",
    "Tc_guess = sum(zs[i] * Tcs[i] for i in range(len(Tcs)))\n",
    "Vc_guess = sum(zs[i] * (R_Pa * Tcs[i] / Pcs[i]) for i in range(len(Tcs))) / len(Tcs)\n",
    "\n",
    "\n",
    "\n",
    "# Solve for Tc and Vc\n",
    "Tc, Vc = fsolve(critical_conditions, [Tc_guess, Vc_guess], args=(R_Pa, Tcs, Pcs, zs, kijs))\n",
    "Tc, Vc"
   ]
  },
  {
   "cell_type": "code",
   "execution_count": 49,
   "id": "5bb39e8f",
   "metadata": {},
   "outputs": [
    {
     "data": {
      "text/plain": [
       "247.94"
      ]
     },
     "execution_count": 49,
     "metadata": {},
     "output_type": "execute_result"
    }
   ],
   "source": [
    "Tc_guess"
   ]
  },
  {
   "cell_type": "code",
   "execution_count": 50,
   "id": "c3f3ef1e",
   "metadata": {},
   "outputs": [
    {
     "data": {
      "text/plain": [
       "3271605.032556764"
      ]
     },
     "execution_count": 50,
     "metadata": {},
     "output_type": "execute_result"
    }
   ],
   "source": [
    "8 * amix / (27 )"
   ]
  },
  {
   "cell_type": "code",
   "execution_count": null,
   "id": "d3a018de",
   "metadata": {},
   "outputs": [],
   "source": []
  },
  {
   "cell_type": "code",
   "execution_count": 66,
   "id": "c41d40e8",
   "metadata": {},
   "outputs": [],
   "source": [
    "import CoolProp.CoolProp as CP\n",
    "import matplotlib.pyplot as plt\n",
    "\n",
    "HEOS = CP.AbstractState('HEOS', 'Methane&Ethane')\n",
    "x0 = 0.5\n",
    "\n",
    "HEOS.set_mole_fractions([x0, 1 - x0])\n",
    "HEOS.build_phase_envelope(\"dummy\")\n",
    "PE = HEOS.get_phase_envelope_data()"
   ]
  },
  {
   "cell_type": "code",
   "execution_count": 70,
   "id": "62ec0bc6",
   "metadata": {},
   "outputs": [
    {
     "ename": "TypeError",
     "evalue": "vars() argument must have __dict__ attribute",
     "output_type": "error",
     "traceback": [
      "\u001b[1;31m---------------------------------------------------------------------------\u001b[0m",
      "\u001b[1;31mTypeError\u001b[0m                                 Traceback (most recent call last)",
      "\u001b[1;32m~\\AppData\\Local\\Temp\\ipykernel_7760\\2889495320.py\u001b[0m in \u001b[0;36m<module>\u001b[1;34m\u001b[0m\n\u001b[1;32m----> 1\u001b[1;33m \u001b[0mattrs\u001b[0m \u001b[1;33m=\u001b[0m \u001b[0mvars\u001b[0m\u001b[1;33m(\u001b[0m\u001b[0mPE\u001b[0m\u001b[1;33m)\u001b[0m\u001b[1;33m\u001b[0m\u001b[1;33m\u001b[0m\u001b[0m\n\u001b[0m\u001b[0;32m      2\u001b[0m \u001b[1;31m# {'kids': 0, 'name': 'Dog', 'color': 'Spotted', 'age': 10, 'legs': 2, 'smell': 'Alot'}\u001b[0m\u001b[1;33m\u001b[0m\u001b[1;33m\u001b[0m\u001b[0m\n\u001b[0;32m      3\u001b[0m \u001b[1;31m# now dump this in some way or another\u001b[0m\u001b[1;33m\u001b[0m\u001b[1;33m\u001b[0m\u001b[0m\n\u001b[0;32m      4\u001b[0m \u001b[0mprint\u001b[0m\u001b[1;33m(\u001b[0m\u001b[1;34m', '\u001b[0m\u001b[1;33m.\u001b[0m\u001b[0mjoin\u001b[0m\u001b[1;33m(\u001b[0m\u001b[1;34m\"%s: %s\"\u001b[0m \u001b[1;33m%\u001b[0m \u001b[0mitem\u001b[0m \u001b[1;32mfor\u001b[0m \u001b[0mitem\u001b[0m \u001b[1;32min\u001b[0m \u001b[0mattrs\u001b[0m\u001b[1;33m.\u001b[0m\u001b[0mitems\u001b[0m\u001b[1;33m(\u001b[0m\u001b[1;33m)\u001b[0m\u001b[1;33m)\u001b[0m\u001b[1;33m)\u001b[0m\u001b[1;33m\u001b[0m\u001b[1;33m\u001b[0m\u001b[0m\n",
      "\u001b[1;31mTypeError\u001b[0m: vars() argument must have __dict__ attribute"
     ]
    }
   ],
   "source": [
    "\n",
    "attrs = vars(PE)\n",
    "# {'kids': 0, 'name': 'Dog', 'color': 'Spotted', 'age': 10, 'legs': 2, 'smell': 'Alot'}\n",
    "# now dump this in some way or another\n",
    "print(', '.join(\"%s: %s\" % item for item in attrs.items()))"
   ]
  },
  {
   "cell_type": "code",
   "execution_count": 72,
   "id": "5119ba64",
   "metadata": {},
   "outputs": [
    {
     "data": {
      "text/plain": [
       "<CoolProp.CoolProp.PyPhaseEnvelopeData at 0x15fac265280>"
      ]
     },
     "execution_count": 72,
     "metadata": {},
     "output_type": "execute_result"
    }
   ],
   "source": [
    "PE"
   ]
  },
  {
   "cell_type": "code",
   "execution_count": null,
   "id": "c65ce35b",
   "metadata": {},
   "outputs": [],
   "source": []
  },
  {
   "cell_type": "code",
   "execution_count": null,
   "id": "ea2c37ca",
   "metadata": {},
   "outputs": [],
   "source": []
  },
  {
   "cell_type": "code",
   "execution_count": null,
   "id": "5e31a979",
   "metadata": {},
   "outputs": [],
   "source": []
  },
  {
   "cell_type": "code",
   "execution_count": null,
   "id": "118e6d74",
   "metadata": {},
   "outputs": [],
   "source": []
  },
  {
   "cell_type": "code",
   "execution_count": 65,
   "id": "2590f2d4",
   "metadata": {},
   "outputs": [
    {
     "data": {
      "image/png": "[encoded data removed]",
      "text/plain": [
       "<Figure size 600x500 with 1 Axes>"
      ]
     },
     "metadata": {},
     "output_type": "display_data"
    }
   ],
   "source": [
    "import CoolProp.CoolProp as CP\n",
    "import matplotlib.pyplot as plt\n",
    "\n",
    "HEOS = CP.AbstractState('HEOS', 'Methane&Ethane')\n",
    "x0 = 0.5\n",
    "\n",
    "HEOS.set_mole_fractions([x0, 1 - x0])\n",
    "HEOS.build_phase_envelope(\"dummy\")\n",
    "PE = HEOS.get_phase_envelope_data()\n",
    "\n",
    "fig, ax = plt.subplots(figsize=(6, 5))\n",
    "\n",
    "x = PE.T\n",
    "x = [K_to_F(item) for item in x]\n",
    "\n",
    "T_unit = 'F'\n",
    "#T_crit = res.pseudo_Tc()\n",
    "#T_crit = K_to_F(res.pseudo_Tc())\n",
    "\n",
    "#P_crit = res.pseudo_Pc()\n",
    "#P_crit = Pa_to_psi(res.pseudo_Pc())\n",
    "\n",
    "PE.p\n",
    "\n",
    "P_dews_plot = [Pa_to_psi(item) for item in PE.p]\n",
    "P_unit ='psi'\n",
    "\n",
    "#ax.scatter(T_crit, P_crit, s=100)\n",
    "\n",
    "ax.plot(x, P_dews_plot, label='Dew')\n",
    "#ax.plot(x, P_bubbles_plot, label='Bubble')\n",
    "\n",
    "ax.set_xlabel('Temperature [%s]' % T_unit)\n",
    "ax.set_ylabel('Pressure [%s]' % P_unit)\n",
    "\n",
    "ax.grid(True)\n",
    "ax.spines['top'].set_visible(False)\n",
    "ax.spines['right'].set_visible(False)\n",
    "\n",
    "ax.legend(ncol=2, fontsize=8)\n",
    "    \n",
    "def setbold(txt):\n",
    "    return ' '.join([r\"$\\bf{\" + item + \"}$\" for item in txt.split(' ')])\n",
    "\n",
    "comp = {k: round(v, 2) for k, v in comp.items()}\n",
    "\n",
    "bold_txt = setbold('Phase Envelope, ')\n",
    "plain_txt = str(comp)\n",
    "fig.suptitle(bold_txt + plain_txt, verticalalignment='top', x=0, horizontalalignment='left', fontsize=11)\n",
    "yloc = 0.9\n",
    "ax.annotate('', xy=(0.01, yloc + 0.01), xycoords='figure fraction', xytext=(1.02, yloc + 0.01),\n",
    "            arrowprops=dict(arrowstyle=\"-\", color='k', lw=0.7))\n",
    "\n",
    "ax.set_xlim(-300, 75)\n",
    "ax.set_ylim(0, 1000)\n",
    "\n",
    "fig.tight_layout()"
   ]
  },
  {
   "cell_type": "code",
   "execution_count": null,
   "id": "408956a5",
   "metadata": {},
   "outputs": [],
   "source": []
  },
  {
   "cell_type": "code",
   "execution_count": null,
   "id": "450c2a1c",
   "metadata": {},
   "outputs": [],
   "source": []
  },
  {
   "cell_type": "code",
   "execution_count": null,
   "id": "d348cf71",
   "metadata": {},
   "outputs": [],
   "source": []
  },
  {
   "cell_type": "code",
   "execution_count": null,
   "id": "be56cdf2",
   "metadata": {},
   "outputs": [],
   "source": []
  },
  {
   "cell_type": "code",
   "execution_count": null,
   "id": "d947d755",
   "metadata": {},
   "outputs": [],
   "source": []
  },
  {
   "cell_type": "code",
   "execution_count": null,
   "id": "e5835eeb",
   "metadata": {},
   "outputs": [],
   "source": []
  },
  {
   "cell_type": "code",
   "execution_count": 5,
   "id": "4c44fbb1",
   "metadata": {},
   "outputs": [],
   "source": [
    "def psi_to_Pa(psi):\n",
    "    return psi * 6894.745\n",
    "\n",
    "def F_to_K(F):\n",
    "    return (F - 32) * 5/9 + 273.15\n",
    "\n",
    "def Pa_to_psi(pa):\n",
    "    return pa / 6894.745\n",
    "\n",
    "def K_to_F(K):\n",
    "    return (K - 273.15) * 1.8 + 32\n",
    "\n",
    "comp = dict([\n",
    "    ('oxygen', 0.21),\n",
    "    ('nitrogen', 0.78),\n",
    "    ('argon', 0.01),\n",
    "])\n",
    "comp = dict([\n",
    "    ('methane', 0.2), \n",
    "    ('propane', 0.2),\n",
    "    ('hexane', .6),\n",
    "    ('water', 0.),\n",
    "])\n",
    "\n",
    "total_comp = sum(comp.values())\n",
    "if total_comp > 1:\n",
    "    comp = {k: v / total_comp for k, v in comp.items()}\n",
    "    \n",
    "constants, properties = ChemicalConstantsPackage.from_IDs(comp.keys())\n",
    "kijs = IPDB.get_ip_asymmetric_matrix('ChemSep PR', constants.CASs, 'kij')\n",
    "\n",
    "eos_kwargs = dict(Tcs=constants.Tcs, Pcs=constants.Pcs, omegas=constants.omegas, kijs=kijs)\n",
    "#eos_kwargs = dict(Tcs=constants.Tcs, Pcs=constants.Pcs, omegas=constants.omegas)\n",
    "gas = CEOSGas(PRMIX, eos_kwargs, HeatCapacityGases=properties.HeatCapacityGases)\n",
    "liq = CEOSLiquid(PRMIX, eos_kwargs, HeatCapacityGases=properties.HeatCapacityGases)\n",
    "flashN = FlashVLN(constants, properties, liquids=[liq, liq], gas=gas) # if dealing with water, fill [liq, liq] twice.\n",
    "flashN = FlashVL(constants, properties, liquid=liq, gas=gas) # if dealing with water, fill [liq, liq] twice.\n",
    "\n",
    "P = psi_to_Pa(100)\n",
    "T = F_to_K(100)\n",
    "\n",
    "res = flashN.flash(T=T, P=P, zs=list(comp.values()))\n",
    "zs = list(comp.values())"
   ]
  },
  {
   "cell_type": "code",
   "execution_count": 6,
   "id": "2a356aac",
   "metadata": {},
   "outputs": [
    {
     "data": {
      "text/plain": [
       "{'Tcs': [190.564, 369.89, 507.82, 647.096],\n",
       " 'Pcs': [4599200.0, 4251200.0, 3044100.0, 22064000.0],\n",
       " 'omegas': [0.01142, 0.1521, 0.3, 0.3443],\n",
       " 'kijs': [[0.0, 0.0119, 0.04, 0],\n",
       "  [0.0119, 0.0, 0.0007, 0],\n",
       "  [0.04, 0.0007, 0.0, 0],\n",
       "  [0, 0, 0, 0.0]]}"
      ]
     },
     "execution_count": 6,
     "metadata": {},
     "output_type": "execute_result"
    }
   ],
   "source": [
    "eos_kwargs"
   ]
  },
  {
   "cell_type": "code",
   "execution_count": 7,
   "id": "dcf45784",
   "metadata": {},
   "outputs": [
    {
     "ename": "NameError",
     "evalue": "name 'm' is not defined",
     "output_type": "error",
     "traceback": [
      "\u001b[1;31m---------------------------------------------------------------------------\u001b[0m",
      "\u001b[1;31mNameError\u001b[0m                                 Traceback (most recent call last)",
      "\u001b[1;32m~\\AppData\\Local\\Temp\\ipykernel_7136\\4214905668.py\u001b[0m in \u001b[0;36m<module>\u001b[1;34m\u001b[0m\n\u001b[0;32m     22\u001b[0m \u001b[0mP\u001b[0m \u001b[1;33m=\u001b[0m \u001b[1;36m100000\u001b[0m\u001b[1;33m\u001b[0m\u001b[1;33m\u001b[0m\u001b[0m\n\u001b[0;32m     23\u001b[0m \u001b[1;33m\u001b[0m\u001b[0m\n\u001b[1;32m---> 24\u001b[1;33m \u001b[0mTbs\u001b[0m \u001b[1;33m=\u001b[0m \u001b[0mm\u001b[0m\u001b[1;33m.\u001b[0m\u001b[0mTbs\u001b[0m\u001b[1;33m\u001b[0m\u001b[1;33m\u001b[0m\u001b[0m\n\u001b[0m\u001b[0;32m     25\u001b[0m \u001b[0mTcs\u001b[0m \u001b[1;33m=\u001b[0m \u001b[0mm\u001b[0m\u001b[1;33m.\u001b[0m\u001b[0mTcs\u001b[0m\u001b[1;33m\u001b[0m\u001b[1;33m\u001b[0m\u001b[0m\n\u001b[0;32m     26\u001b[0m \u001b[0mPcs\u001b[0m \u001b[1;33m=\u001b[0m \u001b[0mm\u001b[0m\u001b[1;33m.\u001b[0m\u001b[0mPcs\u001b[0m\u001b[1;33m\u001b[0m\u001b[1;33m\u001b[0m\u001b[0m\n",
      "\u001b[1;31mNameError\u001b[0m: name 'm' is not defined"
     ]
    }
   ],
   "source": [
    "comp = dict([\n",
    "    ('CO2', 0.2), \n",
    "    ('N2', 0.2),\n",
    "    ('H2S', 0.6),\n",
    "    ('CH4', 0.6),\n",
    "    ('C6H14', 0.6),\n",
    "])\n",
    "#comp = dict([\n",
    "#    ('methane', 0.5), \n",
    "#    ('ethane', 0.5),\n",
    "#])\n",
    "\n",
    "total_comp = sum(comp.values())\n",
    "if total_comp > 1:\n",
    "    comp = {k: v / total_comp for k, v in comp.items()}\n",
    "zs = list(comp.values())\n",
    "    \n",
    "constants, properties = ChemicalConstantsPackage.from_IDs(comp.keys())\n",
    "kijs = IPDB.get_ip_asymmetric_matrix('ChemSep PR', constants.CASs, 'kij')\n",
    "eos_kwargs = dict(Tcs=constants.Tcs, Pcs=constants.Pcs, omegas=constants.omegas, kijs=kijs, zs=zs)\n",
    "\n",
    "P = 100000\n",
    "\n",
    "Tbs = m.Tbs\n",
    "Tcs = m.Tcs\n",
    "Pcs = m.Pcs\n",
    "omegas = m.omegas\n",
    "\n",
    "T = 300\n",
    "\n",
    "eos_kwargs = dict(Tcs=constants.Tcs, Pcs=constants.Pcs, omegas=constants.omegas, kijs=kijs, zs=zs)\n",
    "PR_obj = PRMIX(**eos_kwargs, P=P, T=T)\n",
    "\n",
    "Pa_to_bar(VaporPressure(Tb=Tbs[0], Tc=Tcs[0], Pc=Pcs[0], omega=omegas[0], eos=PR_obj).calculate(T, 'SANJARI'))"
   ]
  },
  {
   "cell_type": "code",
   "execution_count": 190,
   "id": "ac82ff0c",
   "metadata": {},
   "outputs": [
    {
     "data": {
      "text/plain": [
       "[[0.0, -0.0122, 0.0967, 0.0978, 0.11],\n",
       " [-0.0122, 0.0, 0.1652, 0.0289, 0.1496],\n",
       " [0.0967, 0.1652, 0.0, 0, 0],\n",
       " [0.0978, 0.0289, 0, 0.0, 0.04],\n",
       " [0.11, 0.1496, 0, 0.04, 0.0]]"
      ]
     },
     "execution_count": 190,
     "metadata": {},
     "output_type": "execute_result"
    }
   ],
   "source": [
    "kijs"
   ]
  },
  {
   "cell_type": "code",
   "execution_count": null,
   "id": "29d89252",
   "metadata": {},
   "outputs": [],
   "source": []
  },
  {
   "cell_type": "code",
   "execution_count": null,
   "id": "5c5d10a4",
   "metadata": {},
   "outputs": [],
   "source": []
  },
  {
   "cell_type": "code",
   "execution_count": null,
   "id": "38220f4a",
   "metadata": {},
   "outputs": [],
   "source": []
  },
  {
   "cell_type": "code",
   "execution_count": null,
   "id": "1f7c8689",
   "metadata": {},
   "outputs": [],
   "source": []
  },
  {
   "cell_type": "code",
   "execution_count": null,
   "id": "e85068dc",
   "metadata": {},
   "outputs": [],
   "source": []
  },
  {
   "cell_type": "code",
   "execution_count": null,
   "id": "598903da",
   "metadata": {},
   "outputs": [],
   "source": []
  },
  {
   "cell_type": "code",
   "execution_count": null,
   "id": "9db082d8",
   "metadata": {},
   "outputs": [],
   "source": []
  },
  {
   "cell_type": "code",
   "execution_count": 130,
   "id": "62321e3a",
   "metadata": {},
   "outputs": [],
   "source": [
    "zs = [0.2, 0.2, 0.6]\n",
    "\n",
    "P = psi_to_Pa(100)\n",
    "T = F_to_K(100)\n",
    "\n",
    "mix = ['methane', 'toluene', 'm-Xylene']\n",
    "\n",
    "Tbs = Mixture(mix, zs=zs).Tbs\n",
    "Tcs = Mixture(mix, zs=zs).Tcs\n",
    "Pcs = Mixture(mix, zs=zs).Pcs\n",
    "omegas = Mixture(['benzene', 'toluene', 'm-Xylene'], zs=zs).omegas\n",
    "\n",
    "\n",
    "PR_obj = PRMIX(Tcs=Tcs, Pcs=Pcs, omegas=omegas, zs=zs, P=P, T=T, kijs=kijs)"
   ]
  },
  {
   "cell_type": "code",
   "execution_count": 138,
   "id": "3ef1d0da",
   "metadata": {},
   "outputs": [
    {
     "data": {
      "text/plain": [
       "153675109.74916753"
      ]
     },
     "execution_count": 138,
     "metadata": {},
     "output_type": "execute_result"
    }
   ],
   "source": [
    "VaporPressure(Tb=Tbs[0], Tc=Tcs[0], Pc=Pcs[0], omega=omegas[0]).calculate(T, 'SANJARI')"
   ]
  },
  {
   "cell_type": "code",
   "execution_count": 139,
   "id": "961ba09e",
   "metadata": {},
   "outputs": [
    {
     "data": {
      "text/plain": [
       "153675109.74916753"
      ]
     },
     "execution_count": 139,
     "metadata": {},
     "output_type": "execute_result"
    }
   ],
   "source": [
    "VaporPressure(Tb=Tbs[0], Tc=Tcs[0], Pc=Pcs[0], omega=omegas[0], eos=PR_obj).calculate(T, 'SANJARI')"
   ]
  },
  {
   "cell_type": "code",
   "execution_count": 111,
   "id": "793e01e5",
   "metadata": {},
   "outputs": [
    {
     "ename": "AttributeError",
     "evalue": "'Mixture' object has no attribute 'fgcs'",
     "output_type": "error",
     "traceback": [
      "\u001b[1;31m---------------------------------------------------------------------------\u001b[0m",
      "\u001b[1;31mAttributeError\u001b[0m                            Traceback (most recent call last)",
      "\u001b[1;32m~\\AppData\\Local\\Temp\\ipykernel_23672\\95822319.py\u001b[0m in \u001b[0;36m<module>\u001b[1;34m\u001b[0m\n\u001b[1;32m----> 1\u001b[1;33m \u001b[0mMixture\u001b[0m\u001b[1;33m(\u001b[0m\u001b[0mmix\u001b[0m\u001b[1;33m,\u001b[0m \u001b[0mzs\u001b[0m\u001b[1;33m=\u001b[0m\u001b[0mzs\u001b[0m\u001b[1;33m)\u001b[0m\u001b[1;33m.\u001b[0m\u001b[0mfgcs\u001b[0m\u001b[1;33m\u001b[0m\u001b[1;33m\u001b[0m\u001b[0m\n\u001b[0m",
      "\u001b[1;31mAttributeError\u001b[0m: 'Mixture' object has no attribute 'fgcs'"
     ]
    }
   ],
   "source": [
    "Mixture(mix, zs=zs).fgcs"
   ]
  },
  {
   "cell_type": "code",
   "execution_count": null,
   "id": "a6520ca9",
   "metadata": {},
   "outputs": [],
   "source": []
  },
  {
   "cell_type": "code",
   "execution_count": null,
   "id": "195e67fe",
   "metadata": {},
   "outputs": [],
   "source": []
  },
  {
   "cell_type": "code",
   "execution_count": 110,
   "id": "7fab10fe",
   "metadata": {},
   "outputs": [
    {
     "data": {
      "text/plain": [
       "[190.564, 591.75, 616.89]"
      ]
     },
     "execution_count": 110,
     "metadata": {},
     "output_type": "execute_result"
    }
   ],
   "source": [
    "Tcs"
   ]
  },
  {
   "cell_type": "code",
   "execution_count": null,
   "id": "ac3c5d14",
   "metadata": {},
   "outputs": [],
   "source": []
  },
  {
   "cell_type": "code",
   "execution_count": null,
   "id": "96547644",
   "metadata": {},
   "outputs": [],
   "source": []
  },
  {
   "cell_type": "code",
   "execution_count": null,
   "id": "79f4da7d",
   "metadata": {},
   "outputs": [],
   "source": []
  },
  {
   "cell_type": "code",
   "execution_count": 106,
   "id": "903d6fb7",
   "metadata": {},
   "outputs": [
    {
     "data": {
      "text/plain": [
       "[0.2, 0.2, 0.6, 0.0]"
      ]
     },
     "execution_count": 106,
     "metadata": {},
     "output_type": "execute_result"
    }
   ],
   "source": [
    "zs"
   ]
  },
  {
   "cell_type": "code",
   "execution_count": null,
   "id": "e66ddb7e",
   "metadata": {},
   "outputs": [],
   "source": []
  },
  {
   "cell_type": "code",
   "execution_count": 104,
   "id": "32aa8d23",
   "metadata": {},
   "outputs": [
    {
     "data": {
      "text/plain": [
       "[0.2, 0.2, 0.6, 0.0]"
      ]
     },
     "execution_count": 104,
     "metadata": {},
     "output_type": "execute_result"
    }
   ],
   "source": [
    "zs"
   ]
  },
  {
   "cell_type": "code",
   "execution_count": null,
   "id": "58bb862f",
   "metadata": {},
   "outputs": [],
   "source": []
  },
  {
   "cell_type": "code",
   "execution_count": 99,
   "id": "fdf1f573",
   "metadata": {},
   "outputs": [
    {
     "data": {
      "text/plain": [
       "190.564"
      ]
     },
     "execution_count": 99,
     "metadata": {},
     "output_type": "execute_result"
    }
   ],
   "source": [
    "Tcs"
   ]
  },
  {
   "cell_type": "code",
   "execution_count": null,
   "id": "60b18cf2",
   "metadata": {},
   "outputs": [],
   "source": []
  },
  {
   "cell_type": "code",
   "execution_count": null,
   "id": "54e01311",
   "metadata": {},
   "outputs": [],
   "source": [
    "fig = flashN.plot_TP(zs=zs, show=False)\n",
    "ax = fig.get_axes()[0]\n",
    "ax.set_yscale('linear')\n",
    "\n",
    "fig.savefig('PT.png')"
   ]
  },
  {
   "cell_type": "code",
   "execution_count": 6,
   "id": "f9fe1d2b",
   "metadata": {},
   "outputs": [
    {
     "data": {
      "text/plain": [
       "416.7828"
      ]
     },
     "execution_count": 6,
     "metadata": {},
     "output_type": "execute_result"
    }
   ],
   "source": [
    "Tcs = np.array((res.Tcs))\n",
    "zss = np.array(zs)\n",
    "sum(Tcs * zss)"
   ]
  },
  {
   "cell_type": "code",
   "execution_count": 7,
   "id": "4e619d92",
   "metadata": {},
   "outputs": [
    {
     "data": {
      "text/plain": [
       "416.7828"
      ]
     },
     "execution_count": 7,
     "metadata": {},
     "output_type": "execute_result"
    }
   ],
   "source": [
    "res.pseudo_Tc()"
   ]
  },
  {
   "cell_type": "code",
   "execution_count": 8,
   "id": "d3123dcc",
   "metadata": {},
   "outputs": [
    {
     "data": {
      "text/plain": [
       "['74-82-8', '74-98-6', '110-54-3', '7732-18-5']"
      ]
     },
     "execution_count": 8,
     "metadata": {},
     "output_type": "execute_result"
    }
   ],
   "source": [
    "res.CASs"
   ]
  },
  {
   "cell_type": "code",
   "execution_count": 85,
   "id": "fa6527d0",
   "metadata": {},
   "outputs": [
    {
     "data": {
      "text/plain": [
       "747.7472372660187"
      ]
     },
     "execution_count": 85,
     "metadata": {},
     "output_type": "execute_result"
    }
   ],
   "source": [
    "T = F_to_K(72.5)\n",
    "T = C_to_K(-70)\n",
    "\n",
    "Pa_to_psi(Mixture(['methane', 'propane'], ws=[0.5, 0.5], T=T).Pbubble)"
   ]
  },
  {
   "cell_type": "code",
   "execution_count": 97,
   "id": "01b6ab92",
   "metadata": {},
   "outputs": [
    {
     "data": {
      "text/plain": [
       "'74-82-8'"
      ]
     },
     "execution_count": 97,
     "metadata": {},
     "output_type": "execute_result"
    }
   ],
   "source": [
    "name_to_cas('methane')"
   ]
  },
  {
   "cell_type": "code",
   "execution_count": 125,
   "id": "19620962",
   "metadata": {},
   "outputs": [
    {
     "data": {
      "text/plain": [
       "92870952.05962054"
      ]
     },
     "execution_count": 125,
     "metadata": {},
     "output_type": "execute_result"
    }
   ],
   "source": [
    "VaporPressure(Tb=Tbs, Tc=Tcs, Pc=Pcs, omega=omegas, eos=PR_obj).calculate(T, 'SANJARI')"
   ]
  },
  {
   "cell_type": "code",
   "execution_count": 126,
   "id": "642f28e3",
   "metadata": {},
   "outputs": [
    {
     "data": {
      "text/plain": [
       "92870952.05962054"
      ]
     },
     "execution_count": 126,
     "metadata": {},
     "output_type": "execute_result"
    }
   ],
   "source": [
    "VaporPressure(Tb=Tbs, Tc=Tcs, Pc=Pcs, omega=omegas).calculate(T, 'SANJARI')"
   ]
  },
  {
   "cell_type": "code",
   "execution_count": null,
   "id": "90b96401",
   "metadata": {},
   "outputs": [],
   "source": []
  },
  {
   "cell_type": "code",
   "execution_count": null,
   "id": "cdc6d679",
   "metadata": {},
   "outputs": [],
   "source": []
  },
  {
   "cell_type": "code",
   "execution_count": 93,
   "id": "afa48236",
   "metadata": {},
   "outputs": [
    {
     "data": {
      "text/plain": [
       "['74-82-8', '74-98-6']"
      ]
     },
     "execution_count": 93,
     "metadata": {},
     "output_type": "execute_result"
    }
   ],
   "source": [
    "Mixture(['methane', 'propane'], ws=[0.5, 0.5], T=T).CASs"
   ]
  },
  {
   "cell_type": "code",
   "execution_count": null,
   "id": "cc526a56",
   "metadata": {},
   "outputs": [],
   "source": []
  },
  {
   "cell_type": "code",
   "execution_count": 122,
   "id": "b3df7cb7",
   "metadata": {
    "scrolled": false
   },
   "outputs": [
    {
     "name": "stdout",
     "output_type": "stream",
     "text": [
      "T = -100 C, Vp = 342.822\n",
      "T = -95 C, Vp = 419.340\n",
      "T = -90 C, Vp = 508.209\n",
      "T = -85 C, Vp = 610.910\n",
      "T = -80 C, Vp = 729.123\n",
      "T = -75 C, Vp = 864.757\n",
      "T = -70 C, Vp = 1019.993\n",
      "T = -65 C, Vp = 1197.334\n",
      "T = -60 C, Vp = 1399.658\n",
      "T = -55 C, Vp = 1630.283\n",
      "T = -50 C, Vp = 1893.041\n",
      "T = -45 C, Vp = 2192.365\n",
      "T = -40 C, Vp = 2533.395\n",
      "T = -35 C, Vp = 2922.092\n",
      "T = -30 C, Vp = 3365.386\n",
      "T = -25 C, Vp = 3871.338\n",
      "T = -20 C, Vp = 4449.344\n",
      "T = -15 C, Vp = 5110.366\n",
      "T = -10 C, Vp = 5867.214\n",
      "T = -5 C, Vp = 6734.876\n",
      "T = 0 C, Vp = 7730.921\n",
      "T = 5 C, Vp = 8875.967\n",
      "T = 10 C, Vp = 10194.253\n",
      "T = 15 C, Vp = 11714.317\n",
      "T = 20 C, Vp = 13469.817\n"
     ]
    }
   ],
   "source": [
    "for t in range(-100, 25, 5):\n",
    "    T = C_to_K(t)\n",
    "\n",
    "    mix = ['methane', 'toluene', 'm-Xylene']\n",
    "\n",
    "    Tbs = Mixture(mix, ws=[0.2, 0.2, 0.6]).Tbs[0]\n",
    "    Tcs = Mixture(mix, ws=[0.2, 0.2, 0.6]).Tcs[0]\n",
    "    Pcs = Mixture(mix, ws=[0.2, 0.2, 0.6]).Pcs[0]\n",
    "    omegas = Mixture(['benzene', 'toluene', 'm-Xylene'], ws=[0.2, 0.2, 0.6]).omegas[0]\n",
    "\n",
    "    vp = Pa_to_psi(VaporPressure(Tb=Tbs, Tc=Tcs, Pc=Pcs, omega=omegas).calculate(T, 'SANJARI'))\n",
    "    \n",
    "    print('T = %d C, Vp = %.3f' % (K_to_C(T), vp))"
   ]
  },
  {
   "cell_type": "code",
   "execution_count": 89,
   "id": "7f190132",
   "metadata": {},
   "outputs": [
    {
     "data": {
      "text/plain": [
       "190.564"
      ]
     },
     "execution_count": 89,
     "metadata": {},
     "output_type": "execute_result"
    }
   ],
   "source": [
    "Tcs"
   ]
  },
  {
   "cell_type": "code",
   "execution_count": null,
   "id": "7e0137d2",
   "metadata": {},
   "outputs": [],
   "source": []
  },
  {
   "cell_type": "code",
   "execution_count": null,
   "id": "545c5d0d",
   "metadata": {},
   "outputs": [],
   "source": []
  },
  {
   "cell_type": "code",
   "execution_count": null,
   "id": "05cac41b",
   "metadata": {},
   "outputs": [],
   "source": []
  },
  {
   "cell_type": "code",
   "execution_count": 68,
   "id": "f22470db",
   "metadata": {},
   "outputs": [
    {
     "data": {
      "text/plain": [
       "23.636698659822535"
      ]
     },
     "execution_count": 68,
     "metadata": {},
     "output_type": "execute_result"
    }
   ],
   "source": [
    "Pa_to_bar(VaporPressure(Tb=Tbs, Tc=Tcs, Pc=Pcs, omega=omegas).calculate(T, 'SANJARI'))"
   ]
  },
  {
   "cell_type": "code",
   "execution_count": null,
   "id": "7454d170",
   "metadata": {},
   "outputs": [],
   "source": []
  },
  {
   "cell_type": "code",
   "execution_count": null,
   "id": "e85e8b58",
   "metadata": {},
   "outputs": [],
   "source": []
  },
  {
   "cell_type": "code",
   "execution_count": 15,
   "id": "01e2cc35",
   "metadata": {},
   "outputs": [
    {
     "data": {
      "text/plain": [
       "250300919.66963524"
      ]
     },
     "execution_count": 15,
     "metadata": {},
     "output_type": "execute_result"
    }
   ],
   "source": [
    "Mixture(['methane', 'propane'], ws=[0.5, 0.5], T=T).Pbubble"
   ]
  },
  {
   "cell_type": "code",
   "execution_count": 18,
   "id": "7fac5540",
   "metadata": {},
   "outputs": [
    {
     "data": {
      "text/plain": [
       "[341038236.1417108, 892897.0239571161]"
      ]
     },
     "execution_count": 18,
     "metadata": {},
     "output_type": "execute_result"
    }
   ],
   "source": [
    "Mixture(['methane', 'propane'], ws=[0.5, 0.5], T=T).Psats"
   ]
  },
  {
   "cell_type": "code",
   "execution_count": 19,
   "id": "b8049f59",
   "metadata": {},
   "outputs": [
    {
     "data": {
      "text/plain": [
       "[32069.698020585838, 10726.733206586498]"
      ]
     },
     "execution_count": 19,
     "metadata": {},
     "output_type": "execute_result"
    }
   ],
   "source": [
    "Mixture(['benzene', 'toluene'], ws=[0.5, 0.5], T=320).Psats"
   ]
  },
  {
   "cell_type": "code",
   "execution_count": null,
   "id": "94ff1512",
   "metadata": {},
   "outputs": [],
   "source": []
  },
  {
   "cell_type": "code",
   "execution_count": null,
   "id": "9c5a055f",
   "metadata": {},
   "outputs": [],
   "source": []
  },
  {
   "cell_type": "code",
   "execution_count": null,
   "id": "833866a2",
   "metadata": {},
   "outputs": [],
   "source": []
  },
  {
   "cell_type": "code",
   "execution_count": null,
   "id": "ad81e69c",
   "metadata": {},
   "outputs": [],
   "source": []
  },
  {
   "cell_type": "code",
   "execution_count": null,
   "id": "d6215779",
   "metadata": {},
   "outputs": [],
   "source": []
  },
  {
   "cell_type": "code",
   "execution_count": null,
   "id": "43f9506c",
   "metadata": {},
   "outputs": [],
   "source": []
  },
  {
   "cell_type": "code",
   "execution_count": 10,
   "id": "c195b8d7",
   "metadata": {},
   "outputs": [
    {
     "data": {
      "text/plain": [
       "521.6349553174193"
      ]
     },
     "execution_count": 10,
     "metadata": {},
     "output_type": "execute_result"
    }
   ],
   "source": [
    "Pa_to_psi(res.pseudo_Pc())"
   ]
  },
  {
   "cell_type": "code",
   "execution_count": 164,
   "id": "ca3786ae",
   "metadata": {},
   "outputs": [
    {
     "data": {
      "image/png": "[encoded data removed]",
      "text/plain": [
       "<Figure size 640x480 with 1 Axes>"
      ]
     },
     "metadata": {},
     "output_type": "display_data"
    }
   ],
   "source": [
    "from thermo import ChemicalConstantsPackage, PRMIX, CEOSLiquid, CEOSGas, PropertyCorrelationsPackage\n",
    "from thermo import FlashVLN\n",
    "import matplotlib.pyplot as plt\n",
    "from thermo.interaction_parameters import IPDB\n",
    "\n",
    "def psi_to_Pa(psi):\n",
    "    return psi * 6894.745\n",
    "\n",
    "def F_to_K(F):\n",
    "    return (F - 32) * 5/9 + 273.15\n",
    "\n",
    "def Pa_to_psi(pa):\n",
    "    return pa / 6894.745\n",
    "\n",
    "def K_to_F(K):\n",
    "    return (K - 273.15) * 1.8 + 32\n",
    "\n",
    "comp = dict([\n",
    "('methane', 0.2),\n",
    "('propane', 0.2),\n",
    "('hexane', .6),\n",
    "('water', 0.),\n",
    "])\n",
    "\n",
    "total_comp = sum(comp.values())\n",
    "if total_comp > 1:\n",
    "    comp = {k: v / total_comp for k, v in comp.items()}\n",
    "    \n",
    "constants, properties = ChemicalConstantsPackage.from_IDs(comp.keys())\n",
    "kijs = IPDB.get_ip_asymmetric_matrix('ChemSep PR', constants.CASs, 'kij')\n",
    "\n",
    "eos_kwargs = dict(Tcs=constants.Tcs, Pcs=constants.Pcs, omegas=constants.omegas, kijs=kijs)\n",
    "gas = CEOSGas(PRMIX, eos_kwargs, HeatCapacityGases=properties.HeatCapacityGases)\n",
    "liq = CEOSLiquid(PRMIX, eos_kwargs, HeatCapacityGases=properties.HeatCapacityGases)\n",
    "flashN = FlashVLN(constants, properties, liquids=[liq, liq], gas=gas) # if dealing with water, fill [liq, liq] twice.\n",
    "\n",
    "P = psi_to_Pa(100)\n",
    "T = F_to_K(100)\n",
    "\n",
    "res = flashN.flash(T=T, P=P, zs=list(comp.values()))\n",
    "\n",
    "zs = list(comp.values())\n",
    "\n",
    "#fig = flashN.plot_TP(zs=zs, show=False)\n",
    "#ax = fig.get_axes()[0]\n",
    "#ax.set_yscale('linear')\n",
    "fig = flashN.plot_TP(zs=zs, show=False, Tmin=260, Tmax=475, pts=50, hot=True)\n",
    "ax = fig.get_axes()[0]\n",
    "ax.set_yscale('linear')"
   ]
  },
  {
   "cell_type": "code",
   "execution_count": 167,
   "id": "1a21cab7",
   "metadata": {},
   "outputs": [],
   "source": [
    "Ts, P_dews, P_bubbles, branch_Ps = flashN.plot_TP(zs=zs, show=False, Tmin=100, Tmax=475, pts=50, hot=True, values=True)\n",
    "Ts2, P_dews2, P_bubbles2, branch_Ps2 = flashN.plot_TP(zs=zs, show=False, Tmin=260, Tmax=475, pts=50, hot=True, values=True)"
   ]
  },
  {
   "cell_type": "code",
   "execution_count": null,
   "id": "3285fec0",
   "metadata": {},
   "outputs": [],
   "source": []
  },
  {
   "cell_type": "code",
   "execution_count": null,
   "id": "3c2727a9",
   "metadata": {},
   "outputs": [],
   "source": []
  },
  {
   "cell_type": "code",
   "execution_count": 169,
   "id": "b5bc3c8c",
   "metadata": {},
   "outputs": [
    {
     "data": {
      "image/png": "[encoded data removed]",
      "text/plain": [
       "<Figure size 600x500 with 1 Axes>"
      ]
     },
     "metadata": {},
     "output_type": "display_data"
    }
   ],
   "source": [
    "fig, ax = plt.subplots(figsize=(6, 5))\n",
    "\n",
    "x = Ts\n",
    "x = [K_to_F(item) for item in x]\n",
    "\n",
    "T_unit = 'F'\n",
    "T_crit = res.pseudo_Tc()\n",
    "T_crit = K_to_F(res.pseudo_Tc())\n",
    "\n",
    "P_dews = [Pa_to_psi(item) for item in P_dews2]\n",
    "P_bubbles = [Pa_to_psi(item) for item in P_bubbles]\n",
    "P_unit ='psi'\n",
    "\n",
    "ax.plot(x, P_dews, label='Dew')\n",
    "ax.plot(x, P_bubbles, label='Bubble')\n",
    "\n",
    "ax.set_xlabel('Temperature [%s]' % T_unit)\n",
    "ax.set_ylabel('Pressure [%s]' % P_unit)\n",
    "\n",
    "ax.grid(True)\n",
    "ax.spines['top'].set_visible(False)\n",
    "ax.spines['right'].set_visible(False)\n",
    "\n",
    "ax.legend(ncol=2, fontsize=8)\n",
    "    \n",
    "def setbold(txt):\n",
    "    return ' '.join([r\"$\\bf{\" + item + \"}$\" for item in txt.split(' ')])\n",
    "\n",
    "comp = {k: round(v, 2) for k, v in comp.items()}\n",
    "\n",
    "bold_txt = setbold('Phase Envelope, ')\n",
    "plain_txt = str(comp)\n",
    "fig.suptitle(bold_txt + plain_txt, verticalalignment='top', x=0, horizontalalignment='left', fontsize=11)\n",
    "yloc = 0.9\n",
    "ax.annotate('', xy=(0.01, yloc + 0.01), xycoords='figure fraction', xytext=(1.02, yloc + 0.01),\n",
    "            arrowprops=dict(arrowstyle=\"-\", color='k', lw=0.7))\n",
    "\n",
    "ax.set_xlim(-400, 800)\n",
    "ax.set_ylim(0, 1200)\n",
    "\n",
    "fig.tight_layout()"
   ]
  },
  {
   "cell_type": "code",
   "execution_count": null,
   "id": "c1925f4d",
   "metadata": {},
   "outputs": [],
   "source": []
  },
  {
   "cell_type": "code",
   "execution_count": null,
   "id": "9ecf1989",
   "metadata": {},
   "outputs": [],
   "source": []
  },
  {
   "cell_type": "code",
   "execution_count": null,
   "id": "79223eca",
   "metadata": {},
   "outputs": [],
   "source": []
  },
  {
   "cell_type": "code",
   "execution_count": null,
   "id": "2411d0ff",
   "metadata": {},
   "outputs": [],
   "source": []
  },
  {
   "cell_type": "code",
   "execution_count": 155,
   "id": "291093d1",
   "metadata": {},
   "outputs": [],
   "source": [
    "dew_y = ax.lines[0].get_ydata()\n",
    "dew_x = ax.lines[0].get_xdata()\n",
    "\n",
    "bubble_y = ax.lines[1].get_ydata()\n",
    "bubble_x = ax.lines[1].get_xdata()"
   ]
  },
  {
   "cell_type": "code",
   "execution_count": 158,
   "id": "098378b0",
   "metadata": {},
   "outputs": [
    {
     "data": {
      "image/png": "[encoded data removed]",
      "text/plain": [
       "<Figure size 600x500 with 1 Axes>"
      ]
     },
     "metadata": {},
     "output_type": "display_data"
    }
   ],
   "source": [
    "#Ts, P_dews, P_bubbles, branch_Ps = flashN.plot_TP(zs=zs, show=False, values=True, pts=50, hot=True)\n",
    "\n",
    "P_dews = dew_y\n",
    "P_bubbles = bubble_y\n",
    "\n",
    "res = flashN.flash(T=T, P=P, zs=list(comp.values()))\n",
    "\n",
    "fig, ax = plt.subplots(figsize=(6, 5))\n",
    "\n",
    "x1 = dew_x\n",
    "x2 = bubble_x\n",
    "\n",
    "x1 = [K_to_F(item) for item in x1]\n",
    "x2 = [K_to_F(item) for item in x2]\n",
    "\n",
    "T_unit = 'F'\n",
    "#T_crit = res.pseudo_Tc()\n",
    "#T_crit = K_to_F(res.pseudo_Tc())\n",
    "\n",
    "P_dews = [Pa_to_psi(item) for item in P_dews]\n",
    "P_bubbles = [Pa_to_psi(item) for item in P_bubbles]\n",
    "P_unit ='psi'\n",
    "\n",
    "ax.plot(x1, P_dews, label='Dew')\n",
    "ax.plot(x2, P_bubbles, label='Bubble')\n",
    "\n",
    "ax.set_xlabel('Temperature [%s]' % T_unit)\n",
    "ax.set_ylabel('Pressure [%s]' % P_unit)\n",
    "\n",
    "ax.grid(True)\n",
    "ax.spines['top'].set_visible(False)\n",
    "ax.spines['right'].set_visible(False)\n",
    "\n",
    "ax.legend(ncol=2, fontsize=8)\n",
    "    \n",
    "def setbold(txt):\n",
    "    return ' '.join([r\"$\\bf{\" + item + \"}$\" for item in txt.split(' ')])\n",
    "\n",
    "comp = {k: round(v, 2) for k, v in comp.items()}\n",
    "\n",
    "bold_txt = setbold('Phase Envelope, ')\n",
    "plain_txt = str(comp)\n",
    "fig.suptitle(bold_txt + plain_txt, verticalalignment='top', x=0, horizontalalignment='left', fontsize=11)\n",
    "yloc = 0.9\n",
    "ax.annotate('', xy=(0.01, yloc + 0.01), xycoords='figure fraction', xytext=(1.02, yloc + 0.01),\n",
    "            arrowprops=dict(arrowstyle=\"-\", color='k', lw=0.7))\n",
    "\n",
    "ax.set_xlim(-400, 800)\n",
    "ax.set_ylim(0, 1200)\n",
    "\n",
    "fig.tight_layout()"
   ]
  },
  {
   "cell_type": "code",
   "execution_count": null,
   "id": "60d3de17",
   "metadata": {},
   "outputs": [],
   "source": []
  },
  {
   "cell_type": "code",
   "execution_count": 129,
   "id": "a6878825",
   "metadata": {},
   "outputs": [
    {
     "data": {
      "text/plain": [
       "393.074834441059"
      ]
     },
     "execution_count": 129,
     "metadata": {},
     "output_type": "execute_result"
    }
   ],
   "source": [
    "comp = dict([\n",
    "    ('ethanol', .5),\n",
    "    ('hexane', 0.5),\n",
    "])\n",
    "\n",
    "zs = list(comp.values())\n",
    "\n",
    "Pa_to_mmHg(Mixture(list(comp.keys()), ws=zs, T=331).Pbubble)"
   ]
  },
  {
   "cell_type": "code",
   "execution_count": null,
   "id": "fdc82df8",
   "metadata": {},
   "outputs": [],
   "source": []
  },
  {
   "cell_type": "code",
   "execution_count": null,
   "id": "14bae30c",
   "metadata": {},
   "outputs": [],
   "source": []
  },
  {
   "cell_type": "code",
   "execution_count": 142,
   "id": "6e29c4ca",
   "metadata": {},
   "outputs": [],
   "source": [
    "Ts, P_dews, P_bubbles, branch_Ps = flashN.plot_TP(zs=zs, show=False, values=True, hot=True)"
   ]
  },
  {
   "cell_type": "code",
   "execution_count": null,
   "id": "6fb2a58b",
   "metadata": {},
   "outputs": [],
   "source": []
  },
  {
   "cell_type": "code",
   "execution_count": null,
   "id": "509b31e9",
   "metadata": {},
   "outputs": [],
   "source": []
  },
  {
   "cell_type": "code",
   "execution_count": 143,
   "id": "4932d807",
   "metadata": {},
   "outputs": [
    {
     "data": {
      "image/png": "[encoded data removed]",
      "text/plain": [
       "<Figure size 600x500 with 1 Axes>"
      ]
     },
     "metadata": {},
     "output_type": "display_data"
    }
   ],
   "source": [
    "Ts, P_dews, P_bubbles, branch_Ps = flashN.plot_TP(zs=zs, show=False, values=True, pts=50, hot=True)\n",
    "\n",
    "\n",
    "res = flashN.flash(T=T, P=P, zs=list(comp.values()))\n",
    "\n",
    "fig, ax = plt.subplots(figsize=(6, 5))\n",
    "\n",
    "x = Ts\n",
    "x = [K_to_F(item) for item in x]\n",
    "T_unit = 'F'\n",
    "#T_crit = res.pseudo_Tc()\n",
    "#T_crit = K_to_F(res.pseudo_Tc())\n",
    "\n",
    "P_dews = [Pa_to_psi(item) for item in P_dews]\n",
    "P_bubbles = [Pa_to_psi(item) for item in P_bubbles]\n",
    "P_unit ='psi'\n",
    "\n",
    "ax.plot(x, P_dews, label='Dew')\n",
    "ax.plot(x, P_bubbles, label='Bubble')\n",
    "\n",
    "ax.set_xlabel('Temperature [%s]' % T_unit)\n",
    "ax.set_ylabel('Pressure [%s]' % P_unit)\n",
    "\n",
    "ax.grid(True)\n",
    "ax.spines['top'].set_visible(False)\n",
    "ax.spines['right'].set_visible(False)\n",
    "\n",
    "ax.legend(ncol=2, fontsize=8)\n",
    "    \n",
    "def setbold(txt):\n",
    "    return ' '.join([r\"$\\bf{\" + item + \"}$\" for item in txt.split(' ')])\n",
    "\n",
    "comp = {k: round(v, 2) for k, v in comp.items()}\n",
    "\n",
    "bold_txt = setbold('Phase Envelope, ')\n",
    "plain_txt = str(comp)\n",
    "fig.suptitle(bold_txt + plain_txt, verticalalignment='top', x=0, horizontalalignment='left', fontsize=11)\n",
    "yloc = 0.9\n",
    "ax.annotate('', xy=(0.01, yloc + 0.01), xycoords='figure fraction', xytext=(1.02, yloc + 0.01),\n",
    "            arrowprops=dict(arrowstyle=\"-\", color='k', lw=0.7))\n",
    "\n",
    "fig.tight_layout()"
   ]
  },
  {
   "cell_type": "code",
   "execution_count": 65,
   "id": "2bdda59e",
   "metadata": {},
   "outputs": [],
   "source": [
    "Ts, P_dews, P_bubbles, branch_Ps = flashN.plot_TP(zs=zs, show=False, values=True)"
   ]
  },
  {
   "cell_type": "code",
   "execution_count": 20,
   "id": "34279961",
   "metadata": {},
   "outputs": [
    {
     "data": {
      "text/plain": [
       "EquilibriumState(T=310.92777777777775, P=689474.5, zs=[0.2, 0.2, 0.6, 0.0], betas=[0.2747350826525651, 0.7252649173474349], gas=<CEOSGas, T=310.928 K, P=689474 Pa>, liquids=[CEOSLiquid(eos_class=PRMIX, eos_kwargs={\"Tcs\": [190.564, 369.89, 507.82, 647.096], \"Pcs\": [4599200.0, 4251200.0, 3044100.0, 22064000.0], \"omegas\": [0.01142, 0.1521, 0.3, 0.3443]}, HeatCapacityGases=[HeatCapacityGas(CASRN=\"74-82-8\", MW=16.04246, similarity_variable=0.3116728980468083, extrapolation=\"linear\", method=\"HEOS_FIT\", tabular_data={'VDI_TABULAR': ([111.67, 120.0, 130.0, 140.0, 150.0, 160.0, 170.0, 180.0, 185.0, 190.0], [34.68379852, 36.78536078, 38.83879566, 41.88686306, 46.65147368, 54.84917074, 71.53332914, 121.50559204, 217.00635642, 2258.9387926]), 'JANAF': ([0.0, 100.0, 200.0, 250.0, 298.15, 300.0, 350.0, 400.0, 450.0, 500.0, 600.0, 700.0, 800.0, 900.0, 1000.0, 1100.0, 1200.0, 1300.0, 1400.0, 1500.0, 1600.0, 1700.0, 1800.0, 1900.0, 2000.0, 2100.0, 2200.0, 2300.0, 2400.0, 2500.0, 2600.0, 2700.0, 2800.0, 2900.0, 3000.0, 3100.0, 3200.0, 3300.0, 3400.0, 3500.0, 3600.0, 3700.0, 3800.0, 3900.0, 4000.0, 4100.0, 4200.0, 4300.0, 4400.0, 4500.0, 4600.0, 4700.0, 4800.0, 4900.0, 5000.0, 5100.0, 5200.0, 5300.0, 5400.0, 5500.0, 5600.0, 5700.0, 5800.0, 5900.0, 6000.0], [0.0, 33.258, 33.473, 34.216, 35.639, 35.708, 37.874, 40.5, 43.374, 46.342, 52.227, 57.794, 62.932, 67.601, 71.795, 75.529, 78.833, 81.744, 84.305, 86.556, 88.537, 90.283, 91.824, 93.188, 94.399, 95.477, 96.439, 97.301, 98.075, 98.772, 99.401, 99.971, 100.489, 100.96, 101.389, 101.782, 102.143, 102.474, 102.778, 103.06, 103.319, 103.56, 103.783, 103.99, 104.183, 104.363, 104.531, 104.688, 104.834, 104.972, 105.101, 105.223, 105.337, 105.445, 105.546, 105.642, 105.733, 105.818, 105.899, 105.976, 106.049, 106.118, 106.184, 106.247, 106.306])}), HeatCapacityGas(CASRN=\"74-98-6\", MW=44.09562, similarity_variable=0.24945788266499033, extrapolation=\"linear\", method=\"HEOS_FIT\"), HeatCapacityGas(CASRN=\"110-54-3\", MW=86.17536, similarity_variable=0.2320849022272724, extrapolation=\"linear\", method=\"HEOS_FIT\"), HeatCapacityGas(CASRN=\"7732-18-5\", MW=18.01528, similarity_variable=0.16652530518537598, extrapolation=\"linear\", method=\"HEOS_FIT\", tabular_data={'JANAF': ([0.0, 100.0, 200.0, 298.15, 300.0, 400.0, 500.0, 600.0, 700.0, 800.0, 900.0, 1000.0, 1100.0, 1200.0, 1300.0, 1400.0, 1500.0, 1600.0, 1700.0, 1800.0, 1900.0, 2000.0, 2100.0, 2200.0, 2300.0, 2400.0, 2500.0, 2600.0, 2700.0, 2800.0, 2900.0, 3000.0, 3100.0, 3200.0, 3300.0, 3400.0, 3500.0, 3600.0, 3700.0, 3800.0, 3900.0, 4000.0, 4100.0, 4200.0, 4300.0, 4400.0, 4500.0, 4600.0, 4700.0, 4800.0, 4900.0, 5000.0, 5100.0, 5200.0, 5300.0, 5400.0, 5500.0, 5600.0, 5700.0, 5800.0, 5900.0, 6000.0], [0.0, 33.299, 33.349, 33.59, 33.596, 34.262, 35.226, 36.325, 37.495, 38.721, 39.987, 41.268, 42.536, 43.768, 44.945, 46.054, 47.09, 48.05, 48.935, 49.749, 50.496, 51.18, 51.823, 52.408, 52.947, 53.444, 53.904, 54.329, 54.723, 55.089, 55.43, 55.748, 56.044, 56.323, 56.583, 56.828, 57.058, 57.276, 57.48, 57.675, 57.859, 58.033, 58.199, 58.357, 58.507, 58.65, 58.787, 58.918, 59.044, 59.164, 59.275, 59.39, 59.509, 59.628, 59.746, 59.864, 59.982, 60.1, 60.218, 60.335, 60.453, 60.571])})], T=310.92777777777775, P=689474.5, zs=[0.02479889137482976, 0.16691642346282556, 0.8082846851623448, 0.0])], solids=[])"
      ]
     },
     "execution_count": 20,
     "metadata": {},
     "output_type": "execute_result"
    }
   ],
   "source": [
    "res"
   ]
  },
  {
   "cell_type": "code",
   "execution_count": null,
   "id": "d9e3e804",
   "metadata": {},
   "outputs": [],
   "source": []
  },
  {
   "cell_type": "code",
   "execution_count": 77,
   "id": "7b7b41df",
   "metadata": {},
   "outputs": [
    {
     "data": {
      "text/plain": [
       "thermo.vapor_pressure.VaporPressure"
      ]
     },
     "execution_count": 77,
     "metadata": {},
     "output_type": "execute_result"
    }
   ],
   "source": [
    "VaporPressure(CASRN='')"
   ]
  },
  {
   "cell_type": "code",
   "execution_count": null,
   "id": "b60c123a",
   "metadata": {},
   "outputs": [],
   "source": []
  },
  {
   "cell_type": "code",
   "execution_count": null,
   "id": "f7832b34",
   "metadata": {},
   "outputs": [],
   "source": []
  },
  {
   "cell_type": "code",
   "execution_count": null,
   "id": "b4276917",
   "metadata": {},
   "outputs": [],
   "source": []
  },
  {
   "cell_type": "code",
   "execution_count": 38,
   "id": "97cd1052",
   "metadata": {},
   "outputs": [
    {
     "data": {
      "text/plain": [
       "list"
      ]
     },
     "execution_count": 38,
     "metadata": {},
     "output_type": "execute_result"
    }
   ],
   "source": [
    "type(Mixture(['benzene', 'toluene', 'm-Xylene'], ws=[0.2, 0.2, 0.6]).CASs)"
   ]
  },
  {
   "cell_type": "code",
   "execution_count": null,
   "id": "736e6f8c",
   "metadata": {},
   "outputs": [],
   "source": []
  },
  {
   "cell_type": "code",
   "execution_count": null,
   "id": "3a2dfbf4",
   "metadata": {},
   "outputs": [],
   "source": []
  },
  {
   "cell_type": "code",
   "execution_count": null,
   "id": "58284222",
   "metadata": {},
   "outputs": [],
   "source": []
  },
  {
   "cell_type": "code",
   "execution_count": null,
   "id": "87de6221",
   "metadata": {},
   "outputs": [],
   "source": []
  },
  {
   "cell_type": "code",
   "execution_count": null,
   "id": "ec07a52d",
   "metadata": {},
   "outputs": [],
   "source": []
  },
  {
   "cell_type": "code",
   "execution_count": null,
   "id": "bf597cb9",
   "metadata": {},
   "outputs": [],
   "source": []
  },
  {
   "cell_type": "code",
   "execution_count": null,
   "id": "7b48867a",
   "metadata": {},
   "outputs": [],
   "source": []
  },
  {
   "cell_type": "code",
   "execution_count": null,
   "id": "0fe0838d",
   "metadata": {},
   "outputs": [],
   "source": []
  }
 ],
 "metadata": {
  "kernelspec": {
   "display_name": "Python 3 (ipykernel)",
   "language": "python",
   "name": "python3"
  },
  "language_info": {
   "codemirror_mode": {
    "name": "ipython",
    "version": 3
   },
   "file_extension": ".py",
   "mimetype": "text/x-python",
   "name": "python",
   "nbconvert_exporter": "python",
   "pygments_lexer": "ipython3",
   "version": "3.9.13"
  }
 },
 "nbformat": 4,
 "nbformat_minor": 5
}
